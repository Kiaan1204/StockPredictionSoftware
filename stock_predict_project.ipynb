{
  "nbformat": 4,
  "nbformat_minor": 0,
  "metadata": {
    "colab": {
      "provenance": [],
      "collapsed_sections": [],
      "toc_visible": true
    },
    "kernelspec": {
      "name": "python3",
      "display_name": "Python 3"
    },
    "language_info": {
      "name": "python"
    },
    "accelerator": "GPU",
    "gpuClass": "standard"
  },
  "cells": [
    {
      "cell_type": "code",
      "source": [
        "import pandas as pd\n",
        "PATH = \"Input path to csv file of Index\""
      ],
      "metadata": {
        "id": "pabOhGMP4cwt"
      },
      "execution_count": null,
      "outputs": []
    },
    {
      "cell_type": "code",
      "source": [
        "import pandas as pd\n",
        "df = pd.read_csv(PATH,parse_dates=[\"Date\"],index_col = ['Date'])\n",
        "df.head()"
      ],
      "metadata": {
        "colab": {
          "base_uri": "https://localhost:8080/",
          "height": 238
        },
        "id": "5LJ_YFvV4dAt",
        "outputId": "cb290284-939e-41c7-897d-78935f5c989a"
      },
      "execution_count": null,
      "outputs": [
        {
          "output_type": "execute_result",
          "data": {
            "text/plain": [
              "                  Open        High         Low       Close   Adj Close  \\\n",
              "Date                                                                     \n",
              "2014-09-17  465.864014  468.174011  452.421997  457.334015  457.334015   \n",
              "2014-09-18  456.859985  456.859985  413.104004  424.440002  424.440002   \n",
              "2014-09-19  424.102997  427.834991  384.532013  394.795990  394.795990   \n",
              "2014-09-20  394.673004  423.295990  389.882996  408.903992  408.903992   \n",
              "2014-09-21  408.084991  412.425995  393.181000  398.821014  398.821014   \n",
              "\n",
              "              Volume  \n",
              "Date                  \n",
              "2014-09-17  21056800  \n",
              "2014-09-18  34483200  \n",
              "2014-09-19  37919700  \n",
              "2014-09-20  36863600  \n",
              "2014-09-21  26580100  "
            ],
            "text/html": [
              "\n",
              "  <div id=\"df-fd8cfdef-a81d-404a-ba97-71bfa8106b81\">\n",
              "    <div class=\"colab-df-container\">\n",
              "      <div>\n",
              "<style scoped>\n",
              "    .dataframe tbody tr th:only-of-type {\n",
              "        vertical-align: middle;\n",
              "    }\n",
              "\n",
              "    .dataframe tbody tr th {\n",
              "        vertical-align: top;\n",
              "    }\n",
              "\n",
              "    .dataframe thead th {\n",
              "        text-align: right;\n",
              "    }\n",
              "</style>\n",
              "<table border=\"1\" class=\"dataframe\">\n",
              "  <thead>\n",
              "    <tr style=\"text-align: right;\">\n",
              "      <th></th>\n",
              "      <th>Open</th>\n",
              "      <th>High</th>\n",
              "      <th>Low</th>\n",
              "      <th>Close</th>\n",
              "      <th>Adj Close</th>\n",
              "      <th>Volume</th>\n",
              "    </tr>\n",
              "    <tr>\n",
              "      <th>Date</th>\n",
              "      <th></th>\n",
              "      <th></th>\n",
              "      <th></th>\n",
              "      <th></th>\n",
              "      <th></th>\n",
              "      <th></th>\n",
              "    </tr>\n",
              "  </thead>\n",
              "  <tbody>\n",
              "    <tr>\n",
              "      <th>2014-09-17</th>\n",
              "      <td>465.864014</td>\n",
              "      <td>468.174011</td>\n",
              "      <td>452.421997</td>\n",
              "      <td>457.334015</td>\n",
              "      <td>457.334015</td>\n",
              "      <td>21056800</td>\n",
              "    </tr>\n",
              "    <tr>\n",
              "      <th>2014-09-18</th>\n",
              "      <td>456.859985</td>\n",
              "      <td>456.859985</td>\n",
              "      <td>413.104004</td>\n",
              "      <td>424.440002</td>\n",
              "      <td>424.440002</td>\n",
              "      <td>34483200</td>\n",
              "    </tr>\n",
              "    <tr>\n",
              "      <th>2014-09-19</th>\n",
              "      <td>424.102997</td>\n",
              "      <td>427.834991</td>\n",
              "      <td>384.532013</td>\n",
              "      <td>394.795990</td>\n",
              "      <td>394.795990</td>\n",
              "      <td>37919700</td>\n",
              "    </tr>\n",
              "    <tr>\n",
              "      <th>2014-09-20</th>\n",
              "      <td>394.673004</td>\n",
              "      <td>423.295990</td>\n",
              "      <td>389.882996</td>\n",
              "      <td>408.903992</td>\n",
              "      <td>408.903992</td>\n",
              "      <td>36863600</td>\n",
              "    </tr>\n",
              "    <tr>\n",
              "      <th>2014-09-21</th>\n",
              "      <td>408.084991</td>\n",
              "      <td>412.425995</td>\n",
              "      <td>393.181000</td>\n",
              "      <td>398.821014</td>\n",
              "      <td>398.821014</td>\n",
              "      <td>26580100</td>\n",
              "    </tr>\n",
              "  </tbody>\n",
              "</table>\n",
              "</div>\n",
              "      <button class=\"colab-df-convert\" onclick=\"convertToInteractive('df-fd8cfdef-a81d-404a-ba97-71bfa8106b81')\"\n",
              "              title=\"Convert this dataframe to an interactive table.\"\n",
              "              style=\"display:none;\">\n",
              "        \n",
              "  <svg xmlns=\"http://www.w3.org/2000/svg\" height=\"24px\"viewBox=\"0 0 24 24\"\n",
              "       width=\"24px\">\n",
              "    <path d=\"M0 0h24v24H0V0z\" fill=\"none\"/>\n",
              "    <path d=\"M18.56 5.44l.94 2.06.94-2.06 2.06-.94-2.06-.94-.94-2.06-.94 2.06-2.06.94zm-11 1L8.5 8.5l.94-2.06 2.06-.94-2.06-.94L8.5 2.5l-.94 2.06-2.06.94zm10 10l.94 2.06.94-2.06 2.06-.94-2.06-.94-.94-2.06-.94 2.06-2.06.94z\"/><path d=\"M17.41 7.96l-1.37-1.37c-.4-.4-.92-.59-1.43-.59-.52 0-1.04.2-1.43.59L10.3 9.45l-7.72 7.72c-.78.78-.78 2.05 0 2.83L4 21.41c.39.39.9.59 1.41.59.51 0 1.02-.2 1.41-.59l7.78-7.78 2.81-2.81c.8-.78.8-2.07 0-2.86zM5.41 20L4 18.59l7.72-7.72 1.47 1.35L5.41 20z\"/>\n",
              "  </svg>\n",
              "      </button>\n",
              "      \n",
              "  <style>\n",
              "    .colab-df-container {\n",
              "      display:flex;\n",
              "      flex-wrap:wrap;\n",
              "      gap: 12px;\n",
              "    }\n",
              "\n",
              "    .colab-df-convert {\n",
              "      background-color: #E8F0FE;\n",
              "      border: none;\n",
              "      border-radius: 50%;\n",
              "      cursor: pointer;\n",
              "      display: none;\n",
              "      fill: #1967D2;\n",
              "      height: 32px;\n",
              "      padding: 0 0 0 0;\n",
              "      width: 32px;\n",
              "    }\n",
              "\n",
              "    .colab-df-convert:hover {\n",
              "      background-color: #E2EBFA;\n",
              "      box-shadow: 0px 1px 2px rgba(60, 64, 67, 0.3), 0px 1px 3px 1px rgba(60, 64, 67, 0.15);\n",
              "      fill: #174EA6;\n",
              "    }\n",
              "\n",
              "    [theme=dark] .colab-df-convert {\n",
              "      background-color: #3B4455;\n",
              "      fill: #D2E3FC;\n",
              "    }\n",
              "\n",
              "    [theme=dark] .colab-df-convert:hover {\n",
              "      background-color: #434B5C;\n",
              "      box-shadow: 0px 1px 3px 1px rgba(0, 0, 0, 0.15);\n",
              "      filter: drop-shadow(0px 1px 2px rgba(0, 0, 0, 0.3));\n",
              "      fill: #FFFFFF;\n",
              "    }\n",
              "  </style>\n",
              "\n",
              "      <script>\n",
              "        const buttonEl =\n",
              "          document.querySelector('#df-fd8cfdef-a81d-404a-ba97-71bfa8106b81 button.colab-df-convert');\n",
              "        buttonEl.style.display =\n",
              "          google.colab.kernel.accessAllowed ? 'block' : 'none';\n",
              "\n",
              "        async function convertToInteractive(key) {\n",
              "          const element = document.querySelector('#df-fd8cfdef-a81d-404a-ba97-71bfa8106b81');\n",
              "          const dataTable =\n",
              "            await google.colab.kernel.invokeFunction('convertToInteractive',\n",
              "                                                     [key], {});\n",
              "          if (!dataTable) return;\n",
              "\n",
              "          const docLinkHtml = 'Like what you see? Visit the ' +\n",
              "            '<a target=\"_blank\" href=https://colab.research.google.com/notebooks/data_table.ipynb>data table notebook</a>'\n",
              "            + ' to learn more about interactive tables.';\n",
              "          element.innerHTML = '';\n",
              "          dataTable['output_type'] = 'display_data';\n",
              "          await google.colab.output.renderOutput(dataTable, element);\n",
              "          const docLink = document.createElement('div');\n",
              "          docLink.innerHTML = docLinkHtml;\n",
              "          element.appendChild(docLink);\n",
              "        }\n",
              "      </script>\n",
              "    </div>\n",
              "  </div>\n",
              "  "
            ]
          },
          "metadata": {},
          "execution_count": 77
        }
      ]
    },
    {
      "cell_type": "code",
      "source": [
        "stock_prices = pd.DataFrame(df[\"Close\"]).rename(columns = {\"Close\":\"Price\"})\n",
        "stock_prices.head()"
      ],
      "metadata": {
        "colab": {
          "base_uri": "https://localhost:8080/",
          "height": 238
        },
        "id": "aPuEYwb4_qoK",
        "outputId": "c62a9f67-6211-464c-bf43-0fe8df1ec63b"
      },
      "execution_count": null,
      "outputs": [
        {
          "output_type": "execute_result",
          "data": {
            "text/plain": [
              "                 Price\n",
              "Date                  \n",
              "2014-09-17  457.334015\n",
              "2014-09-18  424.440002\n",
              "2014-09-19  394.795990\n",
              "2014-09-20  408.903992\n",
              "2014-09-21  398.821014"
            ],
            "text/html": [
              "\n",
              "  <div id=\"df-43e5d86d-4720-45f1-83f0-a6d3fb74162c\">\n",
              "    <div class=\"colab-df-container\">\n",
              "      <div>\n",
              "<style scoped>\n",
              "    .dataframe tbody tr th:only-of-type {\n",
              "        vertical-align: middle;\n",
              "    }\n",
              "\n",
              "    .dataframe tbody tr th {\n",
              "        vertical-align: top;\n",
              "    }\n",
              "\n",
              "    .dataframe thead th {\n",
              "        text-align: right;\n",
              "    }\n",
              "</style>\n",
              "<table border=\"1\" class=\"dataframe\">\n",
              "  <thead>\n",
              "    <tr style=\"text-align: right;\">\n",
              "      <th></th>\n",
              "      <th>Price</th>\n",
              "    </tr>\n",
              "    <tr>\n",
              "      <th>Date</th>\n",
              "      <th></th>\n",
              "    </tr>\n",
              "  </thead>\n",
              "  <tbody>\n",
              "    <tr>\n",
              "      <th>2014-09-17</th>\n",
              "      <td>457.334015</td>\n",
              "    </tr>\n",
              "    <tr>\n",
              "      <th>2014-09-18</th>\n",
              "      <td>424.440002</td>\n",
              "    </tr>\n",
              "    <tr>\n",
              "      <th>2014-09-19</th>\n",
              "      <td>394.795990</td>\n",
              "    </tr>\n",
              "    <tr>\n",
              "      <th>2014-09-20</th>\n",
              "      <td>408.903992</td>\n",
              "    </tr>\n",
              "    <tr>\n",
              "      <th>2014-09-21</th>\n",
              "      <td>398.821014</td>\n",
              "    </tr>\n",
              "  </tbody>\n",
              "</table>\n",
              "</div>\n",
              "      <button class=\"colab-df-convert\" onclick=\"convertToInteractive('df-43e5d86d-4720-45f1-83f0-a6d3fb74162c')\"\n",
              "              title=\"Convert this dataframe to an interactive table.\"\n",
              "              style=\"display:none;\">\n",
              "        \n",
              "  <svg xmlns=\"http://www.w3.org/2000/svg\" height=\"24px\"viewBox=\"0 0 24 24\"\n",
              "       width=\"24px\">\n",
              "    <path d=\"M0 0h24v24H0V0z\" fill=\"none\"/>\n",
              "    <path d=\"M18.56 5.44l.94 2.06.94-2.06 2.06-.94-2.06-.94-.94-2.06-.94 2.06-2.06.94zm-11 1L8.5 8.5l.94-2.06 2.06-.94-2.06-.94L8.5 2.5l-.94 2.06-2.06.94zm10 10l.94 2.06.94-2.06 2.06-.94-2.06-.94-.94-2.06-.94 2.06-2.06.94z\"/><path d=\"M17.41 7.96l-1.37-1.37c-.4-.4-.92-.59-1.43-.59-.52 0-1.04.2-1.43.59L10.3 9.45l-7.72 7.72c-.78.78-.78 2.05 0 2.83L4 21.41c.39.39.9.59 1.41.59.51 0 1.02-.2 1.41-.59l7.78-7.78 2.81-2.81c.8-.78.8-2.07 0-2.86zM5.41 20L4 18.59l7.72-7.72 1.47 1.35L5.41 20z\"/>\n",
              "  </svg>\n",
              "      </button>\n",
              "      \n",
              "  <style>\n",
              "    .colab-df-container {\n",
              "      display:flex;\n",
              "      flex-wrap:wrap;\n",
              "      gap: 12px;\n",
              "    }\n",
              "\n",
              "    .colab-df-convert {\n",
              "      background-color: #E8F0FE;\n",
              "      border: none;\n",
              "      border-radius: 50%;\n",
              "      cursor: pointer;\n",
              "      display: none;\n",
              "      fill: #1967D2;\n",
              "      height: 32px;\n",
              "      padding: 0 0 0 0;\n",
              "      width: 32px;\n",
              "    }\n",
              "\n",
              "    .colab-df-convert:hover {\n",
              "      background-color: #E2EBFA;\n",
              "      box-shadow: 0px 1px 2px rgba(60, 64, 67, 0.3), 0px 1px 3px 1px rgba(60, 64, 67, 0.15);\n",
              "      fill: #174EA6;\n",
              "    }\n",
              "\n",
              "    [theme=dark] .colab-df-convert {\n",
              "      background-color: #3B4455;\n",
              "      fill: #D2E3FC;\n",
              "    }\n",
              "\n",
              "    [theme=dark] .colab-df-convert:hover {\n",
              "      background-color: #434B5C;\n",
              "      box-shadow: 0px 1px 3px 1px rgba(0, 0, 0, 0.15);\n",
              "      filter: drop-shadow(0px 1px 2px rgba(0, 0, 0, 0.3));\n",
              "      fill: #FFFFFF;\n",
              "    }\n",
              "  </style>\n",
              "\n",
              "      <script>\n",
              "        const buttonEl =\n",
              "          document.querySelector('#df-43e5d86d-4720-45f1-83f0-a6d3fb74162c button.colab-df-convert');\n",
              "        buttonEl.style.display =\n",
              "          google.colab.kernel.accessAllowed ? 'block' : 'none';\n",
              "\n",
              "        async function convertToInteractive(key) {\n",
              "          const element = document.querySelector('#df-43e5d86d-4720-45f1-83f0-a6d3fb74162c');\n",
              "          const dataTable =\n",
              "            await google.colab.kernel.invokeFunction('convertToInteractive',\n",
              "                                                     [key], {});\n",
              "          if (!dataTable) return;\n",
              "\n",
              "          const docLinkHtml = 'Like what you see? Visit the ' +\n",
              "            '<a target=\"_blank\" href=https://colab.research.google.com/notebooks/data_table.ipynb>data table notebook</a>'\n",
              "            + ' to learn more about interactive tables.';\n",
              "          element.innerHTML = '';\n",
              "          dataTable['output_type'] = 'display_data';\n",
              "          await google.colab.output.renderOutput(dataTable, element);\n",
              "          const docLink = document.createElement('div');\n",
              "          docLink.innerHTML = docLinkHtml;\n",
              "          element.appendChild(docLink);\n",
              "        }\n",
              "      </script>\n",
              "    </div>\n",
              "  </div>\n",
              "  "
            ]
          },
          "metadata": {},
          "execution_count": 78
        }
      ]
    },
    {
      "cell_type": "code",
      "source": [
        "timesteps = stock_prices.index.to_numpy()\n",
        "prices = stock_prices[\"Price\"].to_numpy()\n",
        "timesteps[:10], prices[:10]"
      ],
      "metadata": {
        "colab": {
          "base_uri": "https://localhost:8080/"
        },
        "id": "CcE8tm1H_y1f",
        "outputId": "d635316e-691d-4daf-e800-bda738fd80a9"
      },
      "execution_count": null,
      "outputs": [
        {
          "output_type": "execute_result",
          "data": {
            "text/plain": [
              "(array(['2014-09-17T00:00:00.000000000', '2014-09-18T00:00:00.000000000',\n",
              "        '2014-09-19T00:00:00.000000000', '2014-09-20T00:00:00.000000000',\n",
              "        '2014-09-21T00:00:00.000000000', '2014-09-22T00:00:00.000000000',\n",
              "        '2014-09-23T00:00:00.000000000', '2014-09-24T00:00:00.000000000',\n",
              "        '2014-09-25T00:00:00.000000000', '2014-09-26T00:00:00.000000000'],\n",
              "       dtype='datetime64[ns]'),\n",
              " array([457.334015, 424.440002, 394.79599 , 408.903992, 398.821014,\n",
              "        402.152008, 435.790985, 423.204987, 411.574005, 404.424988]))"
            ]
          },
          "metadata": {},
          "execution_count": 79
        }
      ]
    },
    {
      "cell_type": "code",
      "source": [
        "import matplotlib.pyplot as plt\n",
        "\n",
        "plt.figure(figsize=(10,7))\n",
        "plt.plot(timesteps, prices)\n",
        "plt.ylabel(\"Price\")\n",
        "plt.title(\"Chart\", fontsize = 16)\n",
        "plt.xlabel('Date')"
      ],
      "metadata": {
        "colab": {
          "base_uri": "https://localhost:8080/",
          "height": 477
        },
        "id": "ZE4KOsyF5ZTK",
        "outputId": "033d191f-ecdf-457a-f4d1-ac1d2e491ef0"
      },
      "execution_count": null,
      "outputs": [
        {
          "output_type": "execute_result",
          "data": {
            "text/plain": [
              "Text(0.5, 0, 'Date')"
            ]
          },
          "metadata": {},
          "execution_count": 80
        },
        {
          "output_type": "display_data",
          "data": {
            "text/plain": [
              "<Figure size 720x504 with 1 Axes>"
            ],
            "image/png": "[encoded data removed]"
          },
          "metadata": {
            "needs_background": "light"
          }
        }
      ]
    },
    {
      "cell_type": "code",
      "source": [
        "split_size = int(0.8 * len(prices)) # 80% train, 20% test\n",
        "X_train, y_train = timesteps[:split_size], prices[:split_size]\n",
        "X_test, y_test = timesteps[split_size:], prices[split_size:]\n",
        "len(X_train), len(X_test), len(y_train), len(y_test)"
      ],
      "metadata": {
        "colab": {
          "base_uri": "https://localhost:8080/"
        },
        "id": "D7PVCZrj5y1u",
        "outputId": "57008c06-0b43-4592-b10c-d489fbebb681"
      },
      "execution_count": null,
      "outputs": [
        {
          "output_type": "execute_result",
          "data": {
            "text/plain": [
              "(2267, 567, 2267, 567)"
            ]
          },
          "metadata": {},
          "execution_count": 81
        }
      ]
    },
    {
      "cell_type": "code",
      "source": [
        "def plot_time_series(timesteps, values, format='.', start = 0, end = None, label = None):\n",
        "  \"\"\"\n",
        "  Plots timesteps against values\n",
        "  Parameters:\n",
        "  ----------\n",
        "  timesteps: array of timestep values\n",
        "  values: array of values across time\n",
        "  format: style of plot, default = \".\"\n",
        "  start: where to start plot\n",
        "  end: Where to end plot\n",
        "  label: Label to show on plot about values\n",
        "  \"\"\"\n",
        "  plt.plot(timesteps[start:end], values[start:end], format, label = label)\n",
        "  plt.xlabel(\"Time\")\n",
        "  plt.ylabel(\"Price\")\n",
        "  if label:\n",
        "    plt.legend(fontsize = 14)\n",
        "  plt.grid(True)"
      ],
      "metadata": {
        "id": "1jmdh8G29Kph"
      },
      "execution_count": null,
      "outputs": []
    },
    {
      "cell_type": "code",
      "source": [
        "plt.figure(figsize=(10, 7))\n",
        "plot_time_series(timesteps = X_train,values = y_train, label = \"Train data\")\n",
        "plot_time_series(timesteps=X_test, values = y_test, label = \"Test data\")"
      ],
      "metadata": {
        "colab": {
          "base_uri": "https://localhost:8080/",
          "height": 442
        },
        "id": "o97LobZ49ajc",
        "outputId": "14cad5cc-0b4d-4246-c379-e6af108fb1ca"
      },
      "execution_count": null,
      "outputs": [
        {
          "output_type": "display_data",
          "data": {
            "text/plain": [
              "<Figure size 720x504 with 1 Axes>"
            ],
            "image/png": "[encoded data removed]"
          },
          "metadata": {
            "needs_background": "light"
          }
        }
      ]
    },
    {
      "cell_type": "code",
      "source": [
        "naive_forecast = y_test[:-1]\n",
        "naive_forecast[:10], naive_forecast[-10:]"
      ],
      "metadata": {
        "colab": {
          "base_uri": "https://localhost:8080/"
        },
        "id": "AjFM_5989yKz",
        "outputId": "c78ea109-c751-4fa7-8280-0a7fd9f03705"
      },
      "execution_count": null,
      "outputs": [
        {
          "output_type": "execute_result",
          "data": {
            "text/plain": [
              "(array([18802.998047, 19201.091797, 19445.398438, 18699.765625,\n",
              "        19154.230469, 19345.121094, 19191.630859, 18321.144531,\n",
              "        18553.916016, 18264.992188]),\n",
              " array([29083.804688, 28360.810547, 26762.648438, 22487.388672,\n",
              "        22206.792969, 22572.839844, 20381.650391, 20471.482422,\n",
              "        19017.642578, 20553.271484]))"
            ]
          },
          "metadata": {},
          "execution_count": 84
        }
      ]
    },
    {
      "cell_type": "code",
      "source": [
        "plt.figure(figsize=(10, 7))\n",
        "plot_time_series(timesteps = X_test, values = y_test,start = 300, format = '-', label = 'Test data')\n",
        "plot_time_series(timesteps = X_test[1:], values = naive_forecast,start = 300 ,format = '-', label = 'Naive forecast data')"
      ],
      "metadata": {
        "colab": {
          "base_uri": "https://localhost:8080/",
          "height": 442
        },
        "id": "Ns_9gq2-AHql",
        "outputId": "201acd5e-be8f-41a7-fd6b-9d1b855dd81f"
      },
      "execution_count": null,
      "outputs": [
        {
          "output_type": "display_data",
          "data": {
            "text/plain": [
              "<Figure size 720x504 with 1 Axes>"
            ],
            "image/png": "[encoded data removed]"
          },
          "metadata": {
            "needs_background": "light"
          }
        }
      ]
    },
    {
      "cell_type": "code",
      "source": [
        "import tensorflow as tf\n",
        "def m_a_s_e(y_true, y_pred):\n",
        "  \"\"\"\n",
        "  Implement MASE\n",
        "  \"\"\"\n",
        "  mae  = tf.reduce_mean(tf.abs(y_true - y_pred))\n",
        "  mae_naive_no_season = tf.reduce_mean(tf.abs(y_true[1:] - y_true[:-1]))\n",
        "  return mae/mae_naive_no_season"
      ],
      "metadata": {
        "id": "ferkVVITAVF7"
      },
      "execution_count": null,
      "outputs": []
    },
    {
      "cell_type": "code",
      "source": [
        "def evaluate_pred(y_true, y_pred):\n",
        "  y_true = tf.cast(y_true, dtype= tf.float32)\n",
        "  y_pred = tf.cast(y_pred, dtype= tf.float32)\n",
        "\n",
        "  mae = tf.keras.metrics.mean_absolute_error(y_true, y_pred)\n",
        "  mse = tf.keras.metrics.mean_squared_error(y_true, y_pred)\n",
        "  rmse = tf.sqrt(mse)\n",
        "  mape = tf.keras.metrics.mean_absolute_percentage_error(y_true, y_pred)\n",
        "  mase = m_a_s_e(y_true, y_pred)\n",
        "\n",
        "  if mae.ndim > 0:\n",
        "    mae = tf.reduce_mean(mae)\n",
        "    mse = tf.reduce_mean(mse)\n",
        "    rmse = tf.reduce_mean(rmse)\n",
        "    mape = tf.reduce_mean(mape)\n",
        "    mase = tf.reduce_mean(mase)\n",
        "\n",
        "  return {\"mae\" : mae.numpy(),\n",
        "          \"mse\" : mse.numpy(),\n",
        "          \"rmse\" : rmse.numpy(),\n",
        "          \"mape\" : mape.numpy(),\n",
        "          \"mase\" : mase.numpy()}"
      ],
      "metadata": {
        "id": "JKqVFiNAAY-E"
      },
      "execution_count": null,
      "outputs": []
    },
    {
      "cell_type": "code",
      "source": [
        "naive_results = evaluate_pred(y_true=y_test[1:], y_pred=naive_forecast)\n",
        "naive_results"
      ],
      "metadata": {
        "colab": {
          "base_uri": "https://localhost:8080/"
        },
        "id": "THvEtoKXAexQ",
        "outputId": "4acb3ac4-dac9-4bec-dc48-91128d441c57"
      },
      "execution_count": null,
      "outputs": [
        {
          "output_type": "execute_result",
          "data": {
            "text/plain": [
              "{'mae': 1245.2593,\n",
              " 'mape': 2.9662337,\n",
              " 'mase': 0.99879736,\n",
              " 'mse': 2924243.8,\n",
              " 'rmse': 1710.042}"
            ]
          },
          "metadata": {},
          "execution_count": 88
        }
      ]
    },
    {
      "cell_type": "code",
      "source": [
        "HORIZON = 1\n",
        "WINDOW_SIZE = 7"
      ],
      "metadata": {
        "id": "PF5oG2wyAiwx"
      },
      "execution_count": null,
      "outputs": []
    },
    {
      "cell_type": "markdown",
      "source": [
        "## Have to get the ```tf.keras.preprocessing.timeseries_dataset_from_array()``` working"
      ],
      "metadata": {
        "id": "HxRpxSLPKkhp"
      }
    },
    {
      "cell_type": "code",
      "source": [
        "def get_labelled_windows(x, horizon=1):\n",
        "  \"\"\"\n",
        "  Creates labels for windowed dataset.\n",
        "\n",
        "  E.g. if horizon=1 (default)\n",
        "  Input: [1, 2, 3, 4, 5, 6] -> Output: ([1, 2, 3, 4, 5], [6])\n",
        "  \"\"\"\n",
        "  return x[:, :-horizon], x[:, -horizon:]"
      ],
      "metadata": {
        "id": "EixYIKB2AugT"
      },
      "execution_count": null,
      "outputs": []
    },
    {
      "cell_type": "code",
      "source": [
        "# import tensorflow as tf\n",
        "# import numpy as np\n",
        "\n",
        "# dataset = tf.keras.preprocessing.timeseries_dataset_from_array(prices,targets = None,sequence_stride=1 ,sequence_length=8, shuffle = False)\n",
        "# for batch in dataset:\n",
        "#   inputs = batch\n",
        "# print(len(dataset))"
      ],
      "metadata": {
        "id": "3IagRVuuZMTf"
      },
      "execution_count": null,
      "outputs": []
    },
    {
      "cell_type": "code",
      "source": [
        "import numpy as np\n",
        "def make_windows(x, window_size=7, horizon=1):\n",
        "  \"\"\"\n",
        "  Turns a 1D array into a 2D array of sequential windows of window_size.\n",
        "  \"\"\"\n",
        "  window_step = np.expand_dims(np.arange(window_size+horizon), axis=0)\n",
        "  window_indexes = window_step + np.expand_dims(np.arange(len(x)-(window_size+horizon-1)), axis=0).T\n",
        "  windowed_array = x[window_indexes]\n",
        "  windows, labels = get_labelled_windows(windowed_array, horizon=horizon)\n",
        "\n",
        "  return windows, labels"
      ],
      "metadata": {
        "id": "q_4kOWeYGcl6"
      },
      "execution_count": null,
      "outputs": []
    },
    {
      "cell_type": "code",
      "source": [
        "full_windows, full_labels = make_windows(prices, window_size = WINDOW_SIZE, horizon = HORIZON)\n",
        "len(full_windows), len(full_labels)"
      ],
      "metadata": {
        "colab": {
          "base_uri": "https://localhost:8080/"
        },
        "id": "-G_DCZOrGyKc",
        "outputId": "de58af28-b533-4da2-91d9-5de52e19165f"
      },
      "execution_count": null,
      "outputs": [
        {
          "output_type": "execute_result",
          "data": {
            "text/plain": [
              "(2827, 2827)"
            ]
          },
          "metadata": {},
          "execution_count": 93
        }
      ]
    },
    {
      "cell_type": "code",
      "source": [
        "def make_train_test_splits(windows, labels, test_split=0.2):\n",
        "  \"\"\"\n",
        "  Splits matching pairs of windows and labels into train and test splits.\n",
        "  \"\"\"\n",
        "  split_size = int(len(windows) * (1-test_split)) # this will default to 80% train/20% test\n",
        "  train_windows = windows[:split_size]\n",
        "  train_labels = labels[:split_size]\n",
        "  test_windows = windows[split_size:]\n",
        "  test_labels = labels[split_size:]\n",
        "  return train_windows, test_windows, train_labels, test_labels"
      ],
      "metadata": {
        "id": "WrymYYMBG7Ps"
      },
      "execution_count": null,
      "outputs": []
    },
    {
      "cell_type": "code",
      "source": [
        "train_windows, test_windows, train_labels, test_labels = make_train_test_splits(full_windows, full_labels)\n",
        "len(train_windows), len(test_windows), len(train_labels), len(test_labels)"
      ],
      "metadata": {
        "colab": {
          "base_uri": "https://localhost:8080/"
        },
        "id": "cqDICX6cJX9K",
        "outputId": "e5722ce2-93b5-48e7-9012-d124a12d4dcf"
      },
      "execution_count": null,
      "outputs": [
        {
          "output_type": "execute_result",
          "data": {
            "text/plain": [
              "(2261, 566, 2261, 566)"
            ]
          },
          "metadata": {},
          "execution_count": 95
        }
      ]
    },
    {
      "cell_type": "code",
      "source": [
        "import os\n",
        "\n",
        "def create_model_checkpoint(model_name, save_path=\"model_experiments\"):\n",
        "  return tf.keras.callbacks.ModelCheckpoint(filepath=os.path.join(save_path, model_name), verbose=0, save_best_only=True)"
      ],
      "metadata": {
        "id": "m9y6tpknfC-H"
      },
      "execution_count": null,
      "outputs": []
    },
    {
      "cell_type": "code",
      "source": [
        "# Making forecast function\n",
        "def make_preds(model, input_data):\n",
        "  '''\n",
        "  Uses model to make predictions input_data\n",
        "  '''\n",
        "  forecast = model.predict(input_data)\n",
        "  return tf.squeeze(forecast)"
      ],
      "metadata": {
        "id": "afiKgIPFlj-P"
      },
      "execution_count": null,
      "outputs": []
    },
    {
      "cell_type": "markdown",
      "source": [
        "## Models 1-10"
      ],
      "metadata": {
        "id": "3xfml2O6K7t6"
      }
    },
    {
      "cell_type": "markdown",
      "source": [
        "### Model 1: Dense Model (window = 7, horizon = 1)"
      ],
      "metadata": {
        "id": "9u_-D_uIf0Hj"
      }
    },
    {
      "cell_type": "code",
      "source": [
        "import tensorflow as tf\n",
        "from tensorflow.keras import layers\n",
        "\n",
        "tf.random.set_seed(42)\n",
        "model_1 = tf.keras.Sequential([\n",
        "  layers.Dense(128, activation = 'relu'),\n",
        "  layers.Dense(HORIZON, activation = 'linear')\n",
        "], name = 'model_1')\n",
        "\n",
        "model_1.compile(loss = \"mae\", \n",
        "                optimizer = tf.keras.optimizers.Adam(),\n",
        "                metrics = ['mae', 'mse'])\n",
        "\n",
        "model_1.fit(x = train_windows,y = train_labels, \n",
        "            epochs = 100, \n",
        "            verbose = 1, \n",
        "            batch_size = 100, \n",
        "            validation_data = (test_windows, test_labels), \n",
        "            callbacks = [create_model_checkpoint(model_name = model_1.name)])"
      ],
      "metadata": {
        "id": "GQRT6C0rLEUc",
        "colab": {
          "base_uri": "https://localhost:8080/"
        },
        "outputId": "3b981231-a84d-4efa-fe58-1ab603a17993"
      },
      "execution_count": null,
      "outputs": [
        {
          "output_type": "stream",
          "name": "stdout",
          "text": [
            "Epoch 1/100\n",
            "14/23 [=================>............] - ETA: 0s - loss: 1227.4785 - mae: 1227.4785 - mse: 4433624.0000  INFO:tensorflow:Assets written to: model_experiments/model_1/assets\n"
          ]
        },
        {
          "output_type": "stream",
          "name": "stderr",
          "text": [
            "INFO:tensorflow:Assets written to: model_experiments/model_1/assets\n"
          ]
        },
        {
          "output_type": "stream",
          "name": "stdout",
          "text": [
            "\b\b\b\b\b\b\b\b\b\b\b\b\b\b\b\b\b\b\b\b\b\b\b\b\b\b\b\b\b\b\b\b\b\b\b\b\b\b\b\b\b\b\b\b\b\b\b\b\b\b\b\b\b\b\b\b\b\b\b\b\b\b\b\b\b\b\b\b\b\b\b\b\b\b\b\b\b\b\b\b\b\b\b\b\b\b\b\b\b\b\b\b\b\b\b\b\b\b\b\b\b\b\b\r23/23 [==============================] - 2s 50ms/step - loss: 940.2222 - mae: 940.2222 - mse: 2981929.5000 - val_loss: 2229.2144 - val_mae: 2229.2144 - val_mse: 8346776.0000\n",
            "Epoch 2/100\n",
            "23/23 [==============================] - 0s 8ms/step - loss: 277.1708 - mae: 277.1708 - mse: 277749.7188 - val_loss: 2299.9480 - val_mae: 2299.9480 - val_mse: 8577322.0000\n",
            "Epoch 3/100\n",
            "12/23 [==============>...............] - ETA: 0s - loss: 250.4052 - mae: 250.4052 - mse: 238151.3594INFO:tensorflow:Assets written to: model_experiments/model_1/assets\n"
          ]
        },
        {
          "output_type": "stream",
          "name": "stderr",
          "text": [
            "INFO:tensorflow:Assets written to: model_experiments/model_1/assets\n"
          ]
        },
        {
          "output_type": "stream",
          "name": "stdout",
          "text": [
            "\b\b\b\b\b\b\b\b\b\b\b\b\b\b\b\b\b\b\b\b\b\b\b\b\b\b\b\b\b\b\b\b\b\b\b\b\b\b\b\b\b\b\b\b\b\b\b\b\b\b\b\b\b\b\b\b\b\b\b\b\b\b\b\b\b\b\b\b\b\b\b\b\b\b\b\b\b\b\b\b\b\b\b\b\b\b\b\b\b\b\b\b\b\b\b\b\b\b\b\b\r23/23 [==============================] - 1s 48ms/step - loss: 238.1819 - mae: 238.1819 - mse: 220517.2812 - val_loss: 2071.9358 - val_mae: 2071.9358 - val_mse: 7274071.5000\n",
            "Epoch 4/100\n",
            "22/23 [===========================>..] - ETA: 0s - loss: 221.8184 - mae: 221.8184 - mse: 201094.4219INFO:tensorflow:Assets written to: model_experiments/model_1/assets\n"
          ]
        },
        {
          "output_type": "stream",
          "name": "stderr",
          "text": [
            "INFO:tensorflow:Assets written to: model_experiments/model_1/assets\n"
          ]
        },
        {
          "output_type": "stream",
          "name": "stdout",
          "text": [
            "\b\b\b\b\b\b\b\b\b\b\b\b\b\b\b\b\b\b\b\b\b\b\b\b\b\b\b\b\b\b\b\b\b\b\b\b\b\b\b\b\b\b\b\b\b\b\b\b\b\b\b\b\b\b\b\b\b\b\b\b\b\b\b\b\b\b\b\b\b\b\b\b\b\b\b\b\b\b\b\b\b\b\b\b\b\b\b\b\b\b\b\b\b\b\b\b\b\b\b\b\r23/23 [==============================] - 1s 48ms/step - loss: 219.2256 - mae: 219.2256 - mse: 197222.0000 - val_loss: 1970.7792 - val_mae: 1970.7792 - val_mse: 6523300.5000\n",
            "Epoch 5/100\n",
            "21/23 [==========================>...] - ETA: 0s - loss: 214.1218 - mae: 214.1218 - mse: 187732.8438INFO:tensorflow:Assets written to: model_experiments/model_1/assets\n"
          ]
        },
        {
          "output_type": "stream",
          "name": "stderr",
          "text": [
            "INFO:tensorflow:Assets written to: model_experiments/model_1/assets\n"
          ]
        },
        {
          "output_type": "stream",
          "name": "stdout",
          "text": [
            "\b\b\b\b\b\b\b\b\b\b\b\b\b\b\b\b\b\b\b\b\b\b\b\b\b\b\b\b\b\b\b\b\b\b\b\b\b\b\b\b\b\b\b\b\b\b\b\b\b\b\b\b\b\b\b\b\b\b\b\b\b\b\b\b\b\b\b\b\b\b\b\b\b\b\b\b\b\b\b\b\b\b\b\b\b\b\b\b\b\b\b\b\b\b\b\b\b\b\b\b\r23/23 [==============================] - 1s 44ms/step - loss: 215.0743 - mae: 215.0743 - mse: 189036.5938 - val_loss: 1912.6029 - val_mae: 1912.6029 - val_mse: 6147602.5000\n",
            "Epoch 6/100\n",
            "21/23 [==========================>...] - ETA: 0s - loss: 204.2284 - mae: 204.2284 - mse: 175353.3125INFO:tensorflow:Assets written to: model_experiments/model_1/assets\n"
          ]
        },
        {
          "output_type": "stream",
          "name": "stderr",
          "text": [
            "INFO:tensorflow:Assets written to: model_experiments/model_1/assets\n"
          ]
        },
        {
          "output_type": "stream",
          "name": "stdout",
          "text": [
            "\b\b\b\b\b\b\b\b\b\b\b\b\b\b\b\b\b\b\b\b\b\b\b\b\b\b\b\b\b\b\b\b\b\b\b\b\b\b\b\b\b\b\b\b\b\b\b\b\b\b\b\b\b\b\b\b\b\b\b\b\b\b\b\b\b\b\b\b\b\b\b\b\b\b\b\b\b\b\b\b\b\b\b\b\b\b\b\b\b\b\b\b\b\b\b\b\b\b\b\b\r23/23 [==============================] - 1s 46ms/step - loss: 204.6485 - mae: 204.6485 - mse: 174618.5156 - val_loss: 1838.5159 - val_mae: 1838.5159 - val_mse: 5691097.5000\n",
            "Epoch 7/100\n",
            "22/23 [===========================>..] - ETA: 0s - loss: 191.4623 - mae: 191.4623 - mse: 158724.7969INFO:tensorflow:Assets written to: model_experiments/model_1/assets\n"
          ]
        },
        {
          "output_type": "stream",
          "name": "stderr",
          "text": [
            "INFO:tensorflow:Assets written to: model_experiments/model_1/assets\n"
          ]
        },
        {
          "output_type": "stream",
          "name": "stdout",
          "text": [
            "\b\b\b\b\b\b\b\b\b\b\b\b\b\b\b\b\b\b\b\b\b\b\b\b\b\b\b\b\b\b\b\b\b\b\b\b\b\b\b\b\b\b\b\b\b\b\b\b\b\b\b\b\b\b\b\b\b\b\b\b\b\b\b\b\b\b\b\b\b\b\b\b\b\b\b\b\b\b\b\b\b\b\b\b\b\b\b\b\b\b\b\b\b\b\b\b\b\b\b\b\r23/23 [==============================] - 1s 46ms/step - loss: 191.6141 - mae: 191.6141 - mse: 158286.0156 - val_loss: 1763.9604 - val_mae: 1763.9604 - val_mse: 5204445.0000\n",
            "Epoch 8/100\n",
            "21/23 [==========================>...] - ETA: 0s - loss: 189.1500 - mae: 189.1500 - mse: 145854.7031INFO:tensorflow:Assets written to: model_experiments/model_1/assets\n"
          ]
        },
        {
          "output_type": "stream",
          "name": "stderr",
          "text": [
            "INFO:tensorflow:Assets written to: model_experiments/model_1/assets\n"
          ]
        },
        {
          "output_type": "stream",
          "name": "stdout",
          "text": [
            "\b\b\b\b\b\b\b\b\b\b\b\b\b\b\b\b\b\b\b\b\b\b\b\b\b\b\b\b\b\b\b\b\b\b\b\b\b\b\b\b\b\b\b\b\b\b\b\b\b\b\b\b\b\b\b\b\b\b\b\b\b\b\b\b\b\b\b\b\b\b\b\b\b\b\b\b\b\b\b\b\b\b\b\b\b\b\b\b\b\b\b\b\b\b\b\b\b\b\b\b\r23/23 [==============================] - 1s 57ms/step - loss: 191.7873 - mae: 191.7873 - mse: 153139.6250 - val_loss: 1734.3721 - val_mae: 1734.3718 - val_mse: 5119362.5000\n",
            "Epoch 9/100\n",
            "19/23 [=======================>......] - ETA: 0s - loss: 180.7209 - mae: 180.7209 - mse: 144928.8750INFO:tensorflow:Assets written to: model_experiments/model_1/assets\n"
          ]
        },
        {
          "output_type": "stream",
          "name": "stderr",
          "text": [
            "INFO:tensorflow:Assets written to: model_experiments/model_1/assets\n"
          ]
        },
        {
          "output_type": "stream",
          "name": "stdout",
          "text": [
            "\b\b\b\b\b\b\b\b\b\b\b\b\b\b\b\b\b\b\b\b\b\b\b\b\b\b\b\b\b\b\b\b\b\b\b\b\b\b\b\b\b\b\b\b\b\b\b\b\b\b\b\b\b\b\b\b\b\b\b\b\b\b\b\b\b\b\b\b\b\b\b\b\b\b\b\b\b\b\b\b\b\b\b\b\b\b\b\b\b\b\b\b\b\b\b\b\b\b\b\b\r23/23 [==============================] - 1s 53ms/step - loss: 179.6155 - mae: 179.6155 - mse: 139951.1562 - val_loss: 1625.0020 - val_mae: 1625.0020 - val_mse: 4433682.0000\n",
            "Epoch 10/100\n",
            "23/23 [==============================] - 0s 8ms/step - loss: 172.0494 - mae: 172.0494 - mse: 129146.3125 - val_loss: 1663.0731 - val_mae: 1663.0731 - val_mse: 4798338.5000\n",
            "Epoch 11/100\n",
            "21/23 [==========================>...] - ETA: 0s - loss: 167.0300 - mae: 167.0300 - mse: 124457.8047INFO:tensorflow:Assets written to: model_experiments/model_1/assets\n"
          ]
        },
        {
          "output_type": "stream",
          "name": "stderr",
          "text": [
            "INFO:tensorflow:Assets written to: model_experiments/model_1/assets\n"
          ]
        },
        {
          "output_type": "stream",
          "name": "stdout",
          "text": [
            "\b\b\b\b\b\b\b\b\b\b\b\b\b\b\b\b\b\b\b\b\b\b\b\b\b\b\b\b\b\b\b\b\b\b\b\b\b\b\b\b\b\b\b\b\b\b\b\b\b\b\b\b\b\b\b\b\b\b\b\b\b\b\b\b\b\b\b\b\b\b\b\b\b\b\b\b\b\b\b\b\b\b\b\b\b\b\b\b\b\b\b\b\b\b\b\b\b\b\b\b\r23/23 [==============================] - 1s 61ms/step - loss: 169.0248 - mae: 169.0248 - mse: 127094.0234 - val_loss: 1537.0853 - val_mae: 1537.0853 - val_mse: 4029912.2500\n",
            "Epoch 12/100\n",
            "14/23 [=================>............] - ETA: 0s - loss: 169.2502 - mae: 169.2502 - mse: 131904.9219INFO:tensorflow:Assets written to: model_experiments/model_1/assets\n"
          ]
        },
        {
          "output_type": "stream",
          "name": "stderr",
          "text": [
            "INFO:tensorflow:Assets written to: model_experiments/model_1/assets\n"
          ]
        },
        {
          "output_type": "stream",
          "name": "stdout",
          "text": [
            "\b\b\b\b\b\b\b\b\b\b\b\b\b\b\b\b\b\b\b\b\b\b\b\b\b\b\b\b\b\b\b\b\b\b\b\b\b\b\b\b\b\b\b\b\b\b\b\b\b\b\b\b\b\b\b\b\b\b\b\b\b\b\b\b\b\b\b\b\b\b\b\b\b\b\b\b\b\b\b\b\b\b\b\b\b\b\b\b\b\b\b\b\b\b\b\b\b\b\b\b\r23/23 [==============================] - 1s 55ms/step - loss: 161.7474 - mae: 161.7474 - mse: 119132.3359 - val_loss: 1501.2301 - val_mae: 1501.2301 - val_mse: 3903109.0000\n",
            "Epoch 13/100\n",
            "23/23 [==============================] - 0s 13ms/step - loss: 163.6541 - mae: 163.6541 - mse: 119656.2656 - val_loss: 1536.7665 - val_mae: 1536.7665 - val_mse: 4165743.7500\n",
            "Epoch 14/100\n",
            "17/23 [=====================>........] - ETA: 0s - loss: 158.5420 - mae: 158.5420 - mse: 117135.3281INFO:tensorflow:Assets written to: model_experiments/model_1/assets\n"
          ]
        },
        {
          "output_type": "stream",
          "name": "stderr",
          "text": [
            "INFO:tensorflow:Assets written to: model_experiments/model_1/assets\n"
          ]
        },
        {
          "output_type": "stream",
          "name": "stdout",
          "text": [
            "\b\b\b\b\b\b\b\b\b\b\b\b\b\b\b\b\b\b\b\b\b\b\b\b\b\b\b\b\b\b\b\b\b\b\b\b\b\b\b\b\b\b\b\b\b\b\b\b\b\b\b\b\b\b\b\b\b\b\b\b\b\b\b\b\b\b\b\b\b\b\b\b\b\b\b\b\b\b\b\b\b\b\b\b\b\b\b\b\b\b\b\b\b\b\b\b\b\b\b\b\r23/23 [==============================] - 1s 42ms/step - loss: 160.3861 - mae: 160.3861 - mse: 115084.2734 - val_loss: 1452.8169 - val_mae: 1452.8169 - val_mse: 3714267.2500\n",
            "Epoch 15/100\n",
            "20/23 [=========================>....] - ETA: 0s - loss: 156.2529 - mae: 156.2529 - mse: 114984.0234INFO:tensorflow:Assets written to: model_experiments/model_1/assets\n"
          ]
        },
        {
          "output_type": "stream",
          "name": "stderr",
          "text": [
            "INFO:tensorflow:Assets written to: model_experiments/model_1/assets\n"
          ]
        },
        {
          "output_type": "stream",
          "name": "stdout",
          "text": [
            "\b\b\b\b\b\b\b\b\b\b\b\b\b\b\b\b\b\b\b\b\b\b\b\b\b\b\b\b\b\b\b\b\b\b\b\b\b\b\b\b\b\b\b\b\b\b\b\b\b\b\b\b\b\b\b\b\b\b\b\b\b\b\b\b\b\b\b\b\b\b\b\b\b\b\b\b\b\b\b\b\b\b\b\b\b\b\b\b\b\b\b\b\b\b\b\b\b\b\b\b\r23/23 [==============================] - 1s 49ms/step - loss: 154.4576 - mae: 154.4576 - mse: 110970.5547 - val_loss: 1447.9404 - val_mae: 1447.9404 - val_mse: 3734602.2500\n",
            "Epoch 16/100\n",
            "18/23 [======================>.......] - ETA: 0s - loss: 158.2475 - mae: 158.2475 - mse: 113498.5156INFO:tensorflow:Assets written to: model_experiments/model_1/assets\n"
          ]
        },
        {
          "output_type": "stream",
          "name": "stderr",
          "text": [
            "INFO:tensorflow:Assets written to: model_experiments/model_1/assets\n"
          ]
        },
        {
          "output_type": "stream",
          "name": "stdout",
          "text": [
            "\b\b\b\b\b\b\b\b\b\b\b\b\b\b\b\b\b\b\b\b\b\b\b\b\b\b\b\b\b\b\b\b\b\b\b\b\b\b\b\b\b\b\b\b\b\b\b\b\b\b\b\b\b\b\b\b\b\b\b\b\b\b\b\b\b\b\b\b\b\b\b\b\b\b\b\b\b\b\b\b\b\b\b\b\b\b\b\b\b\b\b\b\b\b\b\b\b\b\b\b\r23/23 [==============================] - 1s 59ms/step - loss: 155.4675 - mae: 155.4675 - mse: 109540.4844 - val_loss: 1422.4292 - val_mae: 1422.4292 - val_mse: 3612303.5000\n",
            "Epoch 17/100\n",
            "23/23 [==============================] - 0s 10ms/step - loss: 152.1719 - mae: 152.1719 - mse: 106323.9531 - val_loss: 1429.1716 - val_mae: 1429.1715 - val_mse: 3659470.5000\n",
            "Epoch 18/100\n",
            "12/23 [==============>...............] - ETA: 0s - loss: 163.2983 - mae: 163.2983 - mse: 122415.2969INFO:tensorflow:Assets written to: model_experiments/model_1/assets\n"
          ]
        },
        {
          "output_type": "stream",
          "name": "stderr",
          "text": [
            "INFO:tensorflow:Assets written to: model_experiments/model_1/assets\n"
          ]
        },
        {
          "output_type": "stream",
          "name": "stdout",
          "text": [
            "\b\b\b\b\b\b\b\b\b\b\b\b\b\b\b\b\b\b\b\b\b\b\b\b\b\b\b\b\b\b\b\b\b\b\b\b\b\b\b\b\b\b\b\b\b\b\b\b\b\b\b\b\b\b\b\b\b\b\b\b\b\b\b\b\b\b\b\b\b\b\b\b\b\b\b\b\b\b\b\b\b\b\b\b\b\b\b\b\b\b\b\b\b\b\b\b\b\b\b\b\r23/23 [==============================] - 1s 36ms/step - loss: 157.6667 - mae: 157.6667 - mse: 110738.1016 - val_loss: 1390.9073 - val_mae: 1390.9073 - val_mse: 3424309.2500\n",
            "Epoch 19/100\n",
            "23/23 [==============================] - 0s 7ms/step - loss: 151.9252 - mae: 151.9252 - mse: 105296.4141 - val_loss: 1393.1001 - val_mae: 1393.1001 - val_mse: 3497464.0000\n",
            "Epoch 20/100\n",
            "13/23 [===============>..............] - ETA: 0s - loss: 141.8230 - mae: 141.8230 - mse: 105062.5078INFO:tensorflow:Assets written to: model_experiments/model_1/assets\n"
          ]
        },
        {
          "output_type": "stream",
          "name": "stderr",
          "text": [
            "INFO:tensorflow:Assets written to: model_experiments/model_1/assets\n"
          ]
        },
        {
          "output_type": "stream",
          "name": "stdout",
          "text": [
            "\b\b\b\b\b\b\b\b\b\b\b\b\b\b\b\b\b\b\b\b\b\b\b\b\b\b\b\b\b\b\b\b\b\b\b\b\b\b\b\b\b\b\b\b\b\b\b\b\b\b\b\b\b\b\b\b\b\b\b\b\b\b\b\b\b\b\b\b\b\b\b\b\b\b\b\b\b\b\b\b\b\b\b\b\b\b\b\b\b\b\b\b\b\b\b\b\b\b\b\b\r23/23 [==============================] - 2s 71ms/step - loss: 146.9299 - mae: 146.9299 - mse: 102322.0469 - val_loss: 1371.7083 - val_mae: 1371.7083 - val_mse: 3366236.2500\n",
            "Epoch 21/100\n",
            "11/23 [=============>................] - ETA: 0s - loss: 140.7782 - mae: 140.7782 - mse: 89397.9531INFO:tensorflow:Assets written to: model_experiments/model_1/assets\n"
          ]
        },
        {
          "output_type": "stream",
          "name": "stderr",
          "text": [
            "INFO:tensorflow:Assets written to: model_experiments/model_1/assets\n"
          ]
        },
        {
          "output_type": "stream",
          "name": "stdout",
          "text": [
            "\b\b\b\b\b\b\b\b\b\b\b\b\b\b\b\b\b\b\b\b\b\b\b\b\b\b\b\b\b\b\b\b\b\b\b\b\b\b\b\b\b\b\b\b\b\b\b\b\b\b\b\b\b\b\b\b\b\b\b\b\b\b\b\b\b\b\b\b\b\b\b\b\b\b\b\b\b\b\b\b\b\b\b\b\b\b\b\b\b\b\b\b\b\b\b\b\b\b\b\r23/23 [==============================] - 1s 44ms/step - loss: 147.2371 - mae: 147.2371 - mse: 101370.5781 - val_loss: 1365.0956 - val_mae: 1365.0956 - val_mse: 3338300.5000\n",
            "Epoch 22/100\n",
            "23/23 [==============================] - 0s 7ms/step - loss: 149.6252 - mae: 149.6252 - mse: 102455.2578 - val_loss: 1376.3973 - val_mae: 1376.3973 - val_mse: 3333213.2500\n",
            "Epoch 23/100\n",
            "22/23 [===========================>..] - ETA: 0s - loss: 149.8748 - mae: 149.8748 - mse: 102587.1406INFO:tensorflow:Assets written to: model_experiments/model_1/assets\n"
          ]
        },
        {
          "output_type": "stream",
          "name": "stderr",
          "text": [
            "INFO:tensorflow:Assets written to: model_experiments/model_1/assets\n"
          ]
        },
        {
          "output_type": "stream",
          "name": "stdout",
          "text": [
            "\b\b\b\b\b\b\b\b\b\b\b\b\b\b\b\b\b\b\b\b\b\b\b\b\b\b\b\b\b\b\b\b\b\b\b\b\b\b\b\b\b\b\b\b\b\b\b\b\b\b\b\b\b\b\b\b\b\b\b\b\b\b\b\b\b\b\b\b\b\b\b\b\b\b\b\b\b\b\b\b\b\b\b\b\b\b\b\b\b\b\b\b\b\b\b\b\b\b\b\b\r23/23 [==============================] - 1s 48ms/step - loss: 148.9267 - mae: 148.9267 - mse: 101203.9609 - val_loss: 1352.1963 - val_mae: 1352.1963 - val_mse: 3307597.7500\n",
            "Epoch 24/100\n",
            "23/23 [==============================] - 0s 7ms/step - loss: 146.1140 - mae: 146.1140 - mse: 98640.8516 - val_loss: 1394.2742 - val_mae: 1394.2742 - val_mse: 3368201.5000\n",
            "Epoch 25/100\n",
            "16/23 [===================>..........] - ETA: 0s - loss: 151.2930 - mae: 151.2930 - mse: 105711.6172INFO:tensorflow:Assets written to: model_experiments/model_1/assets\n"
          ]
        },
        {
          "output_type": "stream",
          "name": "stderr",
          "text": [
            "INFO:tensorflow:Assets written to: model_experiments/model_1/assets\n"
          ]
        },
        {
          "output_type": "stream",
          "name": "stdout",
          "text": [
            "\b\b\b\b\b\b\b\b\b\b\b\b\b\b\b\b\b\b\b\b\b\b\b\b\b\b\b\b\b\b\b\b\b\b\b\b\b\b\b\b\b\b\b\b\b\b\b\b\b\b\b\b\b\b\b\b\b\b\b\b\b\b\b\b\b\b\b\b\b\b\b\b\b\b\b\b\b\b\b\b\b\b\b\b\b\b\b\b\b\b\b\b\b\b\b\b\b\b\b\b\r23/23 [==============================] - 1s 42ms/step - loss: 145.9997 - mae: 145.9997 - mse: 99051.0078 - val_loss: 1341.4460 - val_mae: 1341.4460 - val_mse: 3272089.2500\n",
            "Epoch 26/100\n",
            "23/23 [==============================] - 0s 7ms/step - loss: 144.2760 - mae: 144.2760 - mse: 97901.1406 - val_loss: 1376.0123 - val_mae: 1376.0123 - val_mse: 3447414.7500\n",
            "Epoch 27/100\n",
            "14/23 [=================>............] - ETA: 0s - loss: 141.1023 - mae: 141.1023 - mse: 92095.7969INFO:tensorflow:Assets written to: model_experiments/model_1/assets\n"
          ]
        },
        {
          "output_type": "stream",
          "name": "stderr",
          "text": [
            "INFO:tensorflow:Assets written to: model_experiments/model_1/assets\n"
          ]
        },
        {
          "output_type": "stream",
          "name": "stdout",
          "text": [
            "\b\b\b\b\b\b\b\b\b\b\b\b\b\b\b\b\b\b\b\b\b\b\b\b\b\b\b\b\b\b\b\b\b\b\b\b\b\b\b\b\b\b\b\b\b\b\b\b\b\b\b\b\b\b\b\b\b\b\b\b\b\b\b\b\b\b\b\b\b\b\b\b\b\b\b\b\b\b\b\b\b\b\b\b\b\b\b\b\b\b\b\b\b\b\b\b\b\b\b\r23/23 [==============================] - 1s 35ms/step - loss: 143.8135 - mae: 143.8135 - mse: 98267.8828 - val_loss: 1332.3981 - val_mae: 1332.3981 - val_mse: 3227235.5000\n",
            "Epoch 28/100\n",
            "23/23 [==============================] - 0s 7ms/step - loss: 145.2116 - mae: 145.2116 - mse: 98305.7656 - val_loss: 1334.2611 - val_mae: 1334.2611 - val_mse: 3270985.2500\n",
            "Epoch 29/100\n",
            "13/23 [===============>..............] - ETA: 0s - loss: 136.8025 - mae: 136.8025 - mse: 85531.0156INFO:tensorflow:Assets written to: model_experiments/model_1/assets\n"
          ]
        },
        {
          "output_type": "stream",
          "name": "stderr",
          "text": [
            "INFO:tensorflow:Assets written to: model_experiments/model_1/assets\n"
          ]
        },
        {
          "output_type": "stream",
          "name": "stdout",
          "text": [
            "\b\b\b\b\b\b\b\b\b\b\b\b\b\b\b\b\b\b\b\b\b\b\b\b\b\b\b\b\b\b\b\b\b\b\b\b\b\b\b\b\b\b\b\b\b\b\b\b\b\b\b\b\b\b\b\b\b\b\b\b\b\b\b\b\b\b\b\b\b\b\b\b\b\b\b\b\b\b\b\b\b\b\b\b\b\b\b\b\b\b\b\b\b\b\b\b\b\b\b\r23/23 [==============================] - 1s 38ms/step - loss: 141.8149 - mae: 141.8149 - mse: 96125.7812 - val_loss: 1323.4769 - val_mae: 1323.4769 - val_mse: 3193643.2500\n",
            "Epoch 30/100\n",
            "23/23 [==============================] - 0s 9ms/step - loss: 143.2516 - mae: 143.2516 - mse: 96944.2656 - val_loss: 1468.7040 - val_mae: 1468.7040 - val_mse: 3798091.0000\n",
            "Epoch 31/100\n",
            "23/23 [==============================] - 0s 4ms/step - loss: 145.9275 - mae: 145.9274 - mse: 97757.9375 - val_loss: 1332.0708 - val_mae: 1332.0708 - val_mse: 3183651.0000\n",
            "Epoch 32/100\n",
            "23/23 [==============================] - 0s 4ms/step - loss: 155.3053 - mae: 155.3053 - mse: 103878.5859 - val_loss: 1368.8109 - val_mae: 1368.8109 - val_mse: 3278865.0000\n",
            "Epoch 33/100\n",
            "23/23 [==============================] - 0s 4ms/step - loss: 153.4722 - mae: 153.4722 - mse: 102534.1406 - val_loss: 1433.2495 - val_mae: 1433.2495 - val_mse: 3498812.2500\n",
            "Epoch 34/100\n",
            "20/23 [=========================>....] - ETA: 0s - loss: 151.3953 - mae: 151.3953 - mse: 107757.7500INFO:tensorflow:Assets written to: model_experiments/model_1/assets\n"
          ]
        },
        {
          "output_type": "stream",
          "name": "stderr",
          "text": [
            "INFO:tensorflow:Assets written to: model_experiments/model_1/assets\n"
          ]
        },
        {
          "output_type": "stream",
          "name": "stdout",
          "text": [
            "\b\b\b\b\b\b\b\b\b\b\b\b\b\b\b\b\b\b\b\b\b\b\b\b\b\b\b\b\b\b\b\b\b\b\b\b\b\b\b\b\b\b\b\b\b\b\b\b\b\b\b\b\b\b\b\b\b\b\b\b\b\b\b\b\b\b\b\b\b\b\b\b\b\b\b\b\b\b\b\b\b\b\b\b\b\b\b\b\b\b\b\b\b\b\b\b\b\b\b\b\r23/23 [==============================] - 0s 22ms/step - loss: 147.0037 - mae: 147.0037 - mse: 101809.7578 - val_loss: 1306.0353 - val_mae: 1306.0353 - val_mse: 3143777.2500\n",
            "Epoch 35/100\n",
            "20/23 [=========================>....] - ETA: 0s - loss: 141.7218 - mae: 141.7218 - mse: 93633.8203INFO:tensorflow:Assets written to: model_experiments/model_1/assets\n"
          ]
        },
        {
          "output_type": "stream",
          "name": "stderr",
          "text": [
            "INFO:tensorflow:Assets written to: model_experiments/model_1/assets\n"
          ]
        },
        {
          "output_type": "stream",
          "name": "stdout",
          "text": [
            "\b\b\b\b\b\b\b\b\b\b\b\b\b\b\b\b\b\b\b\b\b\b\b\b\b\b\b\b\b\b\b\b\b\b\b\b\b\b\b\b\b\b\b\b\b\b\b\b\b\b\b\b\b\b\b\b\b\b\b\b\b\b\b\b\b\b\b\b\b\b\b\b\b\b\b\b\b\b\b\b\b\b\b\b\b\b\b\b\b\b\b\b\b\b\b\b\b\b\b\r23/23 [==============================] - 0s 22ms/step - loss: 144.1076 - mae: 144.1076 - mse: 96514.8203 - val_loss: 1305.1370 - val_mae: 1305.1370 - val_mse: 3132784.5000\n",
            "Epoch 36/100\n",
            "23/23 [==============================] - 0s 4ms/step - loss: 140.9917 - mae: 140.9917 - mse: 94140.4453 - val_loss: 1440.2095 - val_mae: 1440.2095 - val_mse: 3526627.5000\n",
            "Epoch 37/100\n",
            "23/23 [==============================] - 0s 5ms/step - loss: 150.1818 - mae: 150.1818 - mse: 99898.7656 - val_loss: 1311.9659 - val_mae: 1311.9659 - val_mse: 3128894.0000\n",
            "Epoch 38/100\n",
            "23/23 [==============================] - 0s 4ms/step - loss: 142.9901 - mae: 142.9901 - mse: 95601.6641 - val_loss: 1476.9303 - val_mae: 1476.9303 - val_mse: 3671134.2500\n",
            "Epoch 39/100\n",
            "23/23 [==============================] - 0s 4ms/step - loss: 144.6763 - mae: 144.6763 - mse: 96323.6875 - val_loss: 1316.9172 - val_mae: 1316.9172 - val_mse: 3128911.5000\n",
            "Epoch 40/100\n",
            "22/23 [===========================>..] - ETA: 0s - loss: 140.1802 - mae: 140.1802 - mse: 93925.4219INFO:tensorflow:Assets written to: model_experiments/model_1/assets\n"
          ]
        },
        {
          "output_type": "stream",
          "name": "stderr",
          "text": [
            "INFO:tensorflow:Assets written to: model_experiments/model_1/assets\n"
          ]
        },
        {
          "output_type": "stream",
          "name": "stdout",
          "text": [
            "\b\b\b\b\b\b\b\b\b\b\b\b\b\b\b\b\b\b\b\b\b\b\b\b\b\b\b\b\b\b\b\b\b\b\b\b\b\b\b\b\b\b\b\b\b\b\b\b\b\b\b\b\b\b\b\b\b\b\b\b\b\b\b\b\b\b\b\b\b\b\b\b\b\b\b\b\b\b\b\b\b\b\b\b\b\b\b\b\b\b\b\b\b\b\b\b\b\b\b\r23/23 [==============================] - 0s 21ms/step - loss: 138.5404 - mae: 138.5404 - mse: 92087.5469 - val_loss: 1300.5160 - val_mae: 1300.5160 - val_mse: 3154102.0000\n",
            "Epoch 41/100\n",
            "23/23 [==============================] - 0s 4ms/step - loss: 139.8191 - mae: 139.8191 - mse: 92310.4844 - val_loss: 1434.0232 - val_mae: 1434.0232 - val_mse: 3642547.0000\n",
            "Epoch 42/100\n",
            "23/23 [==============================] - 0s 4ms/step - loss: 139.3451 - mae: 139.3451 - mse: 91625.0859 - val_loss: 1399.1294 - val_mae: 1399.1294 - val_mse: 3510149.5000\n",
            "Epoch 43/100\n",
            "21/23 [==========================>...] - ETA: 0s - loss: 144.0999 - mae: 144.0999 - mse: 95538.6406INFO:tensorflow:Assets written to: model_experiments/model_1/assets\n"
          ]
        },
        {
          "output_type": "stream",
          "name": "stderr",
          "text": [
            "INFO:tensorflow:Assets written to: model_experiments/model_1/assets\n"
          ]
        },
        {
          "output_type": "stream",
          "name": "stdout",
          "text": [
            "\b\b\b\b\b\b\b\b\b\b\b\b\b\b\b\b\b\b\b\b\b\b\b\b\b\b\b\b\b\b\b\b\b\b\b\b\b\b\b\b\b\b\b\b\b\b\b\b\b\b\b\b\b\b\b\b\b\b\b\b\b\b\b\b\b\b\b\b\b\b\b\b\b\b\b\b\b\b\b\b\b\b\b\b\b\b\b\b\b\b\b\b\b\b\b\b\b\b\b\r23/23 [==============================] - 0s 20ms/step - loss: 143.4077 - mae: 143.4077 - mse: 93595.6875 - val_loss: 1294.6111 - val_mae: 1294.6111 - val_mse: 3134514.7500\n",
            "Epoch 44/100\n",
            "21/23 [==========================>...] - ETA: 0s - loss: 147.0971 - mae: 147.0971 - mse: 99140.0234INFO:tensorflow:Assets written to: model_experiments/model_1/assets\n"
          ]
        },
        {
          "output_type": "stream",
          "name": "stderr",
          "text": [
            "INFO:tensorflow:Assets written to: model_experiments/model_1/assets\n"
          ]
        },
        {
          "output_type": "stream",
          "name": "stdout",
          "text": [
            "\b\b\b\b\b\b\b\b\b\b\b\b\b\b\b\b\b\b\b\b\b\b\b\b\b\b\b\b\b\b\b\b\b\b\b\b\b\b\b\b\b\b\b\b\b\b\b\b\b\b\b\b\b\b\b\b\b\b\b\b\b\b\b\b\b\b\b\b\b\b\b\b\b\b\b\b\b\b\b\b\b\b\b\b\b\b\b\b\b\b\b\b\b\b\b\b\b\b\b\r23/23 [==============================] - 0s 21ms/step - loss: 146.7040 - mae: 146.7040 - mse: 98008.2031 - val_loss: 1287.1322 - val_mae: 1287.1322 - val_mse: 3076497.0000\n",
            "Epoch 45/100\n",
            "23/23 [==============================] - 0s 5ms/step - loss: 149.2489 - mae: 149.2489 - mse: 94620.7422 - val_loss: 1318.1101 - val_mae: 1318.1101 - val_mse: 3219578.0000\n",
            "Epoch 46/100\n",
            "23/23 [==============================] - 0s 4ms/step - loss: 139.6474 - mae: 139.6474 - mse: 91815.1016 - val_loss: 1297.5964 - val_mae: 1297.5963 - val_mse: 3077538.0000\n",
            "Epoch 47/100\n",
            "23/23 [==============================] - 0s 5ms/step - loss: 139.1042 - mae: 139.1042 - mse: 91296.7969 - val_loss: 1289.9238 - val_mae: 1289.9238 - val_mse: 3118255.7500\n",
            "Epoch 48/100\n",
            "23/23 [==============================] - 0s 4ms/step - loss: 138.0310 - mae: 138.0310 - mse: 90673.6406 - val_loss: 1349.7025 - val_mae: 1349.7025 - val_mse: 3214422.7500\n",
            "Epoch 49/100\n",
            "23/23 [==============================] - 0s 4ms/step - loss: 138.1603 - mae: 138.1603 - mse: 90693.6406 - val_loss: 1351.2196 - val_mae: 1351.2196 - val_mse: 3220254.5000\n",
            "Epoch 50/100\n",
            "19/23 [=======================>......] - ETA: 0s - loss: 148.6300 - mae: 148.6300 - mse: 101082.1797INFO:tensorflow:Assets written to: model_experiments/model_1/assets\n"
          ]
        },
        {
          "output_type": "stream",
          "name": "stderr",
          "text": [
            "INFO:tensorflow:Assets written to: model_experiments/model_1/assets\n"
          ]
        },
        {
          "output_type": "stream",
          "name": "stdout",
          "text": [
            "\b\b\b\b\b\b\b\b\b\b\b\b\b\b\b\b\b\b\b\b\b\b\b\b\b\b\b\b\b\b\b\b\b\b\b\b\b\b\b\b\b\b\b\b\b\b\b\b\b\b\b\b\b\b\b\b\b\b\b\b\b\b\b\b\b\b\b\b\b\b\b\b\b\b\b\b\b\b\b\b\b\b\b\b\b\b\b\b\b\b\b\b\b\b\b\b\b\b\b\b\r23/23 [==============================] - 0s 21ms/step - loss: 147.1597 - mae: 147.1597 - mse: 96907.0469 - val_loss: 1278.1251 - val_mae: 1278.1251 - val_mse: 3045700.5000\n",
            "Epoch 51/100\n",
            "23/23 [==============================] - 0s 4ms/step - loss: 150.7811 - mae: 150.7811 - mse: 95543.5156 - val_loss: 1293.2645 - val_mae: 1293.2645 - val_mse: 3061719.0000\n",
            "Epoch 52/100\n",
            "23/23 [==============================] - 0s 4ms/step - loss: 148.6893 - mae: 148.6893 - mse: 94890.1953 - val_loss: 1402.4088 - val_mae: 1402.4086 - val_mse: 3513711.0000\n",
            "Epoch 53/100\n",
            "23/23 [==============================] - 0s 5ms/step - loss: 147.7238 - mae: 147.7238 - mse: 97598.7031 - val_loss: 1301.9166 - val_mae: 1301.9166 - val_mse: 3077783.5000\n",
            "Epoch 54/100\n",
            "23/23 [==============================] - 0s 4ms/step - loss: 136.6358 - mae: 136.6358 - mse: 89992.6641 - val_loss: 1288.6139 - val_mae: 1288.6139 - val_mse: 3049884.5000\n",
            "Epoch 55/100\n",
            "23/23 [==============================] - 0s 4ms/step - loss: 139.0473 - mae: 139.0473 - mse: 91985.2031 - val_loss: 1337.9762 - val_mae: 1337.9762 - val_mse: 3179650.2500\n",
            "Epoch 56/100\n",
            "21/23 [==========================>...] - ETA: 0s - loss: 144.9195 - mae: 144.9195 - mse: 93546.6094INFO:tensorflow:Assets written to: model_experiments/model_1/assets\n"
          ]
        },
        {
          "output_type": "stream",
          "name": "stderr",
          "text": [
            "INFO:tensorflow:Assets written to: model_experiments/model_1/assets\n"
          ]
        },
        {
          "output_type": "stream",
          "name": "stdout",
          "text": [
            "\b\b\b\b\b\b\b\b\b\b\b\b\b\b\b\b\b\b\b\b\b\b\b\b\b\b\b\b\b\b\b\b\b\b\b\b\b\b\b\b\b\b\b\b\b\b\b\b\b\b\b\b\b\b\b\b\b\b\b\b\b\b\b\b\b\b\b\b\b\b\b\b\b\b\b\b\b\b\b\b\b\b\b\b\b\b\b\b\b\b\b\b\b\b\b\b\b\b\b\r23/23 [==============================] - 0s 21ms/step - loss: 143.0226 - mae: 143.0226 - mse: 91517.4297 - val_loss: 1273.1276 - val_mae: 1273.1276 - val_mse: 3027015.7500\n",
            "Epoch 57/100\n",
            "23/23 [==============================] - 0s 4ms/step - loss: 138.5800 - mae: 138.5800 - mse: 90560.0000 - val_loss: 1366.3599 - val_mae: 1366.3599 - val_mse: 3379358.7500\n",
            "Epoch 58/100\n",
            "23/23 [==============================] - 0s 5ms/step - loss: 139.8548 - mae: 139.8548 - mse: 91541.8203 - val_loss: 1308.0414 - val_mae: 1308.0414 - val_mse: 3176269.0000\n",
            "Epoch 59/100\n",
            "23/23 [==============================] - 0s 4ms/step - loss: 135.9467 - mae: 135.9467 - mse: 89170.0312 - val_loss: 1279.3779 - val_mae: 1279.3779 - val_mse: 3078738.0000\n",
            "Epoch 60/100\n",
            "23/23 [==============================] - 0s 4ms/step - loss: 141.6360 - mae: 141.6360 - mse: 90435.7500 - val_loss: 1313.7931 - val_mae: 1313.7931 - val_mse: 3108957.7500\n",
            "Epoch 61/100\n",
            "21/23 [==========================>...] - ETA: 0s - loss: 139.4720 - mae: 139.4720 - mse: 93615.3203 INFO:tensorflow:Assets written to: model_experiments/model_1/assets\n"
          ]
        },
        {
          "output_type": "stream",
          "name": "stderr",
          "text": [
            "INFO:tensorflow:Assets written to: model_experiments/model_1/assets\n"
          ]
        },
        {
          "output_type": "stream",
          "name": "stdout",
          "text": [
            "\b\b\b\b\b\b\b\b\b\b\b\b\b\b\b\b\b\b\b\b\b\b\b\b\b\b\b\b\b\b\b\b\b\b\b\b\b\b\b\b\b\b\b\b\b\b\b\b\b\b\b\b\b\b\b\b\b\b\b\b\b\b\b\b\b\b\b\b\b\b\b\b\b\b\b\b\b\b\b\b\b\b\b\b\b\b\b\b\b\b\b\b\b\b\b\b\b\b\b\r23/23 [==============================] - 0s 21ms/step - loss: 139.4373 - mae: 139.4373 - mse: 91748.1172 - val_loss: 1267.9445 - val_mae: 1267.9445 - val_mse: 3011987.7500\n",
            "Epoch 62/100\n",
            "23/23 [==============================] - 0s 4ms/step - loss: 142.4844 - mae: 142.4844 - mse: 92641.6953 - val_loss: 1408.1639 - val_mae: 1408.1639 - val_mse: 3529677.0000\n",
            "Epoch 63/100\n",
            "23/23 [==============================] - 0s 4ms/step - loss: 146.7453 - mae: 146.7453 - mse: 93832.0625 - val_loss: 1304.2401 - val_mae: 1304.2401 - val_mse: 3160152.2500\n",
            "Epoch 64/100\n",
            "23/23 [==============================] - 0s 4ms/step - loss: 141.5374 - mae: 141.5374 - mse: 91898.9453 - val_loss: 1290.2153 - val_mae: 1290.2153 - val_mse: 3044569.0000\n",
            "Epoch 65/100\n",
            "23/23 [==============================] - 0s 4ms/step - loss: 138.9938 - mae: 138.9938 - mse: 89907.0312 - val_loss: 1335.0409 - val_mae: 1335.0409 - val_mse: 3173528.0000\n",
            "Epoch 66/100\n",
            "23/23 [==============================] - 0s 5ms/step - loss: 141.5260 - mae: 141.5260 - mse: 91458.3984 - val_loss: 1311.7593 - val_mae: 1311.7593 - val_mse: 3184617.5000\n",
            "Epoch 67/100\n",
            "23/23 [==============================] - 0s 5ms/step - loss: 136.6952 - mae: 136.6952 - mse: 89624.1953 - val_loss: 1291.4080 - val_mae: 1291.4078 - val_mse: 3046328.7500\n",
            "Epoch 68/100\n",
            "23/23 [==============================] - 0s 4ms/step - loss: 138.6971 - mae: 138.6971 - mse: 90046.6641 - val_loss: 1459.2631 - val_mae: 1459.2631 - val_mse: 3603968.7500\n",
            "Epoch 69/100\n",
            "23/23 [==============================] - 0s 4ms/step - loss: 147.8173 - mae: 147.8173 - mse: 95801.4922 - val_loss: 1306.3829 - val_mae: 1306.3829 - val_mse: 3087643.5000\n",
            "Epoch 70/100\n",
            "23/23 [==============================] - 0s 4ms/step - loss: 142.7370 - mae: 142.7370 - mse: 90870.6250 - val_loss: 1271.5226 - val_mae: 1271.5226 - val_mse: 3004572.7500\n",
            "Epoch 71/100\n",
            "23/23 [==============================] - 0s 5ms/step - loss: 139.0731 - mae: 139.0731 - mse: 91337.9062 - val_loss: 1294.6267 - val_mae: 1294.6267 - val_mse: 3127027.0000\n",
            "Epoch 72/100\n",
            "23/23 [==============================] - 0s 5ms/step - loss: 138.7759 - mae: 138.7759 - mse: 90638.2734 - val_loss: 1281.3527 - val_mae: 1281.3527 - val_mse: 3021596.7500\n",
            "Epoch 73/100\n",
            "23/23 [==============================] - 0s 4ms/step - loss: 148.4893 - mae: 148.4893 - mse: 96451.4375 - val_loss: 1566.2601 - val_mae: 1566.2601 - val_mse: 4024323.5000\n",
            "Epoch 74/100\n",
            "20/23 [=========================>....] - ETA: 0s - loss: 141.9576 - mae: 141.9576 - mse: 89660.3203INFO:tensorflow:Assets written to: model_experiments/model_1/assets\n"
          ]
        },
        {
          "output_type": "stream",
          "name": "stderr",
          "text": [
            "INFO:tensorflow:Assets written to: model_experiments/model_1/assets\n"
          ]
        },
        {
          "output_type": "stream",
          "name": "stdout",
          "text": [
            "\b\b\b\b\b\b\b\b\b\b\b\b\b\b\b\b\b\b\b\b\b\b\b\b\b\b\b\b\b\b\b\b\b\b\b\b\b\b\b\b\b\b\b\b\b\b\b\b\b\b\b\b\b\b\b\b\b\b\b\b\b\b\b\b\b\b\b\b\b\b\b\b\b\b\b\b\b\b\b\b\b\b\b\b\b\b\b\b\b\b\b\b\b\b\b\b\b\b\b\r23/23 [==============================] - 0s 21ms/step - loss: 143.7582 - mae: 143.7582 - mse: 92103.6953 - val_loss: 1259.4994 - val_mae: 1259.4994 - val_mse: 2997974.7500\n",
            "Epoch 75/100\n",
            "23/23 [==============================] - 0s 4ms/step - loss: 134.6522 - mae: 134.6522 - mse: 87639.3750 - val_loss: 1274.5320 - val_mae: 1274.5320 - val_mse: 3060611.7500\n",
            "Epoch 76/100\n",
            "23/23 [==============================] - 0s 4ms/step - loss: 134.9317 - mae: 134.9317 - mse: 87064.5625 - val_loss: 1277.7141 - val_mae: 1277.7141 - val_mse: 3015898.0000\n",
            "Epoch 77/100\n",
            "23/23 [==============================] - 0s 4ms/step - loss: 138.5652 - mae: 138.5652 - mse: 88194.0156 - val_loss: 1335.4097 - val_mae: 1335.4097 - val_mse: 3175092.0000\n",
            "Epoch 78/100\n",
            "23/23 [==============================] - 0s 5ms/step - loss: 145.1709 - mae: 145.1709 - mse: 92485.2344 - val_loss: 1383.9319 - val_mae: 1383.9319 - val_mse: 3334471.0000\n",
            "Epoch 79/100\n",
            "23/23 [==============================] - 0s 4ms/step - loss: 142.4453 - mae: 142.4453 - mse: 91595.8594 - val_loss: 1315.3867 - val_mae: 1315.3867 - val_mse: 3115271.0000\n",
            "Epoch 80/100\n",
            "23/23 [==============================] - 0s 4ms/step - loss: 137.5337 - mae: 137.5337 - mse: 89177.7500 - val_loss: 1264.1796 - val_mae: 1264.1796 - val_mse: 3019220.2500\n",
            "Epoch 81/100\n",
            "23/23 [==============================] - 0s 4ms/step - loss: 137.6689 - mae: 137.6689 - mse: 87765.5859 - val_loss: 1371.1669 - val_mae: 1371.1669 - val_mse: 3390361.0000\n",
            "Epoch 82/100\n",
            "20/23 [=========================>....] - ETA: 0s - loss: 141.4483 - mae: 141.4483 - mse: 91093.4609INFO:tensorflow:Assets written to: model_experiments/model_1/assets\n"
          ]
        },
        {
          "output_type": "stream",
          "name": "stderr",
          "text": [
            "INFO:tensorflow:Assets written to: model_experiments/model_1/assets\n"
          ]
        },
        {
          "output_type": "stream",
          "name": "stdout",
          "text": [
            "\b\b\b\b\b\b\b\b\b\b\b\b\b\b\b\b\b\b\b\b\b\b\b\b\b\b\b\b\b\b\b\b\b\b\b\b\b\b\b\b\b\b\b\b\b\b\b\b\b\b\b\b\b\b\b\b\b\b\b\b\b\b\b\b\b\b\b\b\b\b\b\b\b\b\b\b\b\b\b\b\b\b\b\b\b\b\b\b\b\b\b\b\b\b\b\b\b\b\b\r23/23 [==============================] - 0s 21ms/step - loss: 141.9206 - mae: 141.9206 - mse: 91250.4453 - val_loss: 1259.4542 - val_mae: 1259.4542 - val_mse: 2981456.7500\n",
            "Epoch 83/100\n",
            "23/23 [==============================] - 0s 4ms/step - loss: 133.8604 - mae: 133.8604 - mse: 86550.9609 - val_loss: 1259.8138 - val_mae: 1259.8138 - val_mse: 2999694.2500\n",
            "Epoch 84/100\n",
            "23/23 [==============================] - 0s 4ms/step - loss: 138.6226 - mae: 138.6226 - mse: 90849.9062 - val_loss: 1359.5184 - val_mae: 1359.5184 - val_mse: 3253438.2500\n",
            "Epoch 85/100\n",
            "17/23 [=====================>........] - ETA: 0s - loss: 136.8511 - mae: 136.8511 - mse: 91426.3438INFO:tensorflow:Assets written to: model_experiments/model_1/assets\n"
          ]
        },
        {
          "output_type": "stream",
          "name": "stderr",
          "text": [
            "INFO:tensorflow:Assets written to: model_experiments/model_1/assets\n"
          ]
        },
        {
          "output_type": "stream",
          "name": "stdout",
          "text": [
            "\b\b\b\b\b\b\b\b\b\b\b\b\b\b\b\b\b\b\b\b\b\b\b\b\b\b\b\b\b\b\b\b\b\b\b\b\b\b\b\b\b\b\b\b\b\b\b\b\b\b\b\b\b\b\b\b\b\b\b\b\b\b\b\b\b\b\b\b\b\b\b\b\b\b\b\b\b\b\b\b\b\b\b\b\b\b\b\b\b\b\b\b\b\b\b\b\b\b\b\r23/23 [==============================] - 0s 21ms/step - loss: 136.7860 - mae: 136.7860 - mse: 88125.7734 - val_loss: 1255.3903 - val_mae: 1255.3903 - val_mse: 2978559.7500\n",
            "Epoch 86/100\n",
            "23/23 [==============================] - 0s 4ms/step - loss: 133.8150 - mae: 133.8150 - mse: 86838.3203 - val_loss: 1319.9534 - val_mae: 1319.9534 - val_mse: 3208429.5000\n",
            "Epoch 87/100\n",
            "23/23 [==============================] - 0s 4ms/step - loss: 135.5559 - mae: 135.5560 - mse: 87575.8203 - val_loss: 1375.1663 - val_mae: 1375.1663 - val_mse: 3403824.7500\n",
            "Epoch 88/100\n",
            "23/23 [==============================] - 0s 4ms/step - loss: 136.3356 - mae: 136.3356 - mse: 88290.4688 - val_loss: 1261.1090 - val_mae: 1261.1090 - val_mse: 2975270.0000\n",
            "Epoch 89/100\n",
            "23/23 [==============================] - 0s 4ms/step - loss: 136.8569 - mae: 136.8569 - mse: 88203.3828 - val_loss: 1275.4531 - val_mae: 1275.4531 - val_mse: 3058265.2500\n",
            "Epoch 90/100\n",
            "23/23 [==============================] - 0s 4ms/step - loss: 138.1649 - mae: 138.1649 - mse: 88316.2500 - val_loss: 1263.2211 - val_mae: 1263.2211 - val_mse: 2977574.0000\n",
            "Epoch 91/100\n",
            "23/23 [==============================] - 0s 4ms/step - loss: 136.8807 - mae: 136.8807 - mse: 87068.2031 - val_loss: 1258.1366 - val_mae: 1258.1366 - val_mse: 2991310.7500\n",
            "Epoch 92/100\n",
            "23/23 [==============================] - 0s 4ms/step - loss: 135.3271 - mae: 135.3271 - mse: 87405.8359 - val_loss: 1264.7911 - val_mae: 1264.7911 - val_mse: 3019505.5000\n",
            "Epoch 93/100\n",
            "23/23 [==============================] - 0s 4ms/step - loss: 141.0393 - mae: 141.0393 - mse: 91360.1719 - val_loss: 1258.0037 - val_mae: 1258.0037 - val_mse: 2992959.5000\n",
            "Epoch 94/100\n",
            "23/23 [==============================] - 0s 4ms/step - loss: 135.6500 - mae: 135.6500 - mse: 86906.5234 - val_loss: 1266.2041 - val_mae: 1266.2041 - val_mse: 2982814.7500\n",
            "Epoch 95/100\n",
            "23/23 [==============================] - 0s 4ms/step - loss: 136.7594 - mae: 136.7594 - mse: 88232.0703 - val_loss: 1275.1273 - val_mae: 1275.1273 - val_mse: 3001941.5000\n",
            "Epoch 96/100\n",
            "23/23 [==============================] - 0s 4ms/step - loss: 136.3116 - mae: 136.3116 - mse: 86589.9922 - val_loss: 1282.2506 - val_mae: 1282.2506 - val_mse: 3077915.2500\n",
            "Epoch 97/100\n",
            "23/23 [==============================] - 0s 5ms/step - loss: 137.0912 - mae: 137.0912 - mse: 88002.9219 - val_loss: 1405.8115 - val_mae: 1405.8115 - val_mse: 3517767.5000\n",
            "Epoch 98/100\n",
            "23/23 [==============================] - 0s 4ms/step - loss: 141.0159 - mae: 141.0159 - mse: 91184.1406 - val_loss: 1275.2821 - val_mae: 1275.2821 - val_mse: 3000548.5000\n",
            "Epoch 99/100\n",
            "17/23 [=====================>........] - ETA: 0s - loss: 134.2847 - mae: 134.2847 - mse: 89147.1562 INFO:tensorflow:Assets written to: model_experiments/model_1/assets\n"
          ]
        },
        {
          "output_type": "stream",
          "name": "stderr",
          "text": [
            "INFO:tensorflow:Assets written to: model_experiments/model_1/assets\n"
          ]
        },
        {
          "output_type": "stream",
          "name": "stdout",
          "text": [
            "\b\b\b\b\b\b\b\b\b\b\b\b\b\b\b\b\b\b\b\b\b\b\b\b\b\b\b\b\b\b\b\b\b\b\b\b\b\b\b\b\b\b\b\b\b\b\b\b\b\b\b\b\b\b\b\b\b\b\b\b\b\b\b\b\b\b\b\b\b\b\b\b\b\b\b\b\b\b\b\b\b\b\b\b\b\b\b\b\b\b\b\b\b\b\b\b\b\b\b\r23/23 [==============================] - 0s 22ms/step - loss: 134.2634 - mae: 134.2634 - mse: 86972.2188 - val_loss: 1251.7927 - val_mae: 1251.7927 - val_mse: 2964340.2500\n",
            "Epoch 100/100\n",
            "23/23 [==============================] - 0s 4ms/step - loss: 135.2841 - mae: 135.2841 - mse: 87873.2031 - val_loss: 1285.6764 - val_mae: 1285.6764 - val_mse: 3028592.0000\n"
          ]
        },
        {
          "output_type": "execute_result",
          "data": {
            "text/plain": [
              "<keras.callbacks.History at 0x7fc57efa1dd0>"
            ]
          },
          "metadata": {},
          "execution_count": 98
        }
      ]
    },
    {
      "cell_type": "code",
      "source": [
        "model_1 = tf.keras.models.load_model('/content/model_experiments/model_1')\n",
        "model_1.evaluate(test_windows, test_labels)"
      ],
      "metadata": {
        "colab": {
          "base_uri": "https://localhost:8080/"
        },
        "id": "jcSwARY5iQDO",
        "outputId": "211fb941-d37c-4a72-cba4-93dbc3624d9c"
      },
      "execution_count": null,
      "outputs": [
        {
          "output_type": "stream",
          "name": "stdout",
          "text": [
            "18/18 [==============================] - 0s 2ms/step - loss: 1251.7927 - mae: 1251.7927 - mse: 2964340.0000\n"
          ]
        },
        {
          "output_type": "execute_result",
          "data": {
            "text/plain": [
              "[1251.792724609375, 1251.792724609375, 2964340.0]"
            ]
          },
          "metadata": {},
          "execution_count": 99
        }
      ]
    },
    {
      "cell_type": "code",
      "source": [
        "model_1_preds = make_preds(model_1, test_windows)\n",
        "len(model_1_preds), model_1_preds[:10]"
      ],
      "metadata": {
        "colab": {
          "base_uri": "https://localhost:8080/"
        },
        "id": "6ZAjMdX2i9-Z",
        "outputId": "ccd8bf5e-b77e-4973-de56-81ebf26d0932"
      },
      "execution_count": null,
      "outputs": [
        {
          "output_type": "execute_result",
          "data": {
            "text/plain": [
              "(566, <tf.Tensor: shape=(10,), dtype=float32, numpy=\n",
              " array([19009.38 , 19201.975, 19418.12 , 18914.287, 19009.639, 19365.912,\n",
              "        19261.484, 18388.383, 18534.62 , 18306.137], dtype=float32)>)"
            ]
          },
          "metadata": {},
          "execution_count": 100
        }
      ]
    },
    {
      "cell_type": "code",
      "source": [
        "model_1_results = evaluate_pred(y_true = tf.squeeze(test_labels), y_pred = model_1_preds)\n",
        "model_1_results"
      ],
      "metadata": {
        "colab": {
          "base_uri": "https://localhost:8080/"
        },
        "id": "Ibx0CvQcmiZ7",
        "outputId": "c9df4c6b-28df-407e-cfb7-3ae8972b14e9"
      },
      "execution_count": null,
      "outputs": [
        {
          "output_type": "execute_result",
          "data": {
            "text/plain": [
              "{'mae': 1251.7927,\n",
              " 'mape': 2.9839077,\n",
              " 'mase': 1.0040377,\n",
              " 'mse': 2964340.0,\n",
              " 'rmse': 1721.7258}"
            ]
          },
          "metadata": {},
          "execution_count": 101
        }
      ]
    },
    {
      "cell_type": "code",
      "source": [
        "naive_results"
      ],
      "metadata": {
        "colab": {
          "base_uri": "https://localhost:8080/"
        },
        "id": "T9AoQQ5znKaW",
        "outputId": "34bc6e8e-9cc0-4c62-dd2b-2032e8e17ea6"
      },
      "execution_count": null,
      "outputs": [
        {
          "output_type": "execute_result",
          "data": {
            "text/plain": [
              "{'mae': 1245.2593,\n",
              " 'mape': 2.9662337,\n",
              " 'mase': 0.99879736,\n",
              " 'mse': 2924243.8,\n",
              " 'rmse': 1710.042}"
            ]
          },
          "metadata": {},
          "execution_count": 102
        }
      ]
    },
    {
      "cell_type": "code",
      "source": [
        "offset = 450\n",
        "plt.figure(figsize=(10,7))\n",
        "plot_time_series(timesteps = X_test[-len(test_windows):], values = test_labels[:, 0], start = offset, label = \"Test Data\")\n",
        "plot_time_series(timesteps = X_test[-len(test_windows):], values = model_1_preds, start = offset, format = '-', label = 'model_1_preds')"
      ],
      "metadata": {
        "colab": {
          "base_uri": "https://localhost:8080/"
        },
        "id": "xHZHSiWQncVR",
        "outputId": "4de5cf7d-2a22-4d93-f49e-9e74b6f452c6"
      },
      "execution_count": null,
      "outputs": [
        {
          "output_type": "display_data",
          "data": {
            "text/plain": [
              "<Figure size 720x504 with 1 Axes>"
            ],
            "image/png": "[encoded data removed]"
          },
          "metadata": {
            "needs_background": "light"
          }
        }
      ]
    },
    {
      "cell_type": "markdown",
      "source": [
        "### Model 2: Dense Model (window = 30, horizon = 1)"
      ],
      "metadata": {
        "id": "XWws7I98oyc7"
      }
    },
    {
      "cell_type": "code",
      "source": [
        "WINDOW_SIZE = 30\n",
        "HORIZON = 1\n",
        "full_windows, full_labels = make_windows(prices, window_size = WINDOW_SIZE, horizon = HORIZON)\n",
        "train_windows, test_windows, train_labels, test_labels = make_train_test_splits(full_windows, full_labels)"
      ],
      "metadata": {
        "id": "ujKbPIdgpVGu"
      },
      "execution_count": null,
      "outputs": []
    },
    {
      "cell_type": "code",
      "source": [
        "import tensorflow as tf\n",
        "from tensorflow.keras import layers\n",
        "\n",
        "tf.random.set_seed(42)\n",
        "model_2 = tf.keras.Sequential([\n",
        "  layers.Dense(128, activation = 'relu'),\n",
        "  layers.Dense(HORIZON, activation = 'linear')\n",
        "], name = 'model_2')\n",
        "\n",
        "model_2.compile(loss = \"mae\", \n",
        "                optimizer = tf.keras.optimizers.Adam(),\n",
        "                metrics = ['mae', 'mse'])\n",
        "\n",
        "model_2.fit(x = train_windows,y = train_labels, \n",
        "            epochs = 100, \n",
        "            verbose = 1, \n",
        "            batch_size = 100, \n",
        "            validation_data = (test_windows, test_labels), \n",
        "            callbacks = [create_model_checkpoint(model_name = model_2.name)])"
      ],
      "metadata": {
        "colab": {
          "base_uri": "https://localhost:8080/"
        },
        "id": "zO6YGXn1o9jA",
        "outputId": "c292916a-fcff-4b64-8e7d-0c58f4cbe86a"
      },
      "execution_count": null,
      "outputs": [
        {
          "output_type": "stream",
          "name": "stdout",
          "text": [
            "Epoch 1/100\n",
            "20/23 [=========================>....] - ETA: 0s - loss: 1351.8380 - mae: 1351.8380 - mse: 6231781.5000 INFO:tensorflow:Assets written to: model_experiments/model_2/assets\n"
          ]
        },
        {
          "output_type": "stream",
          "name": "stderr",
          "text": [
            "INFO:tensorflow:Assets written to: model_experiments/model_2/assets\n"
          ]
        },
        {
          "output_type": "stream",
          "name": "stdout",
          "text": [
            "\b\b\b\b\b\b\b\b\b\b\b\b\b\b\b\b\b\b\b\b\b\b\b\b\b\b\b\b\b\b\b\b\b\b\b\b\b\b\b\b\b\b\b\b\b\b\b\b\b\b\b\b\b\b\b\b\b\b\b\b\b\b\b\b\b\b\b\b\b\b\b\b\b\b\b\b\b\b\b\b\b\b\b\b\b\b\b\b\b\b\b\b\b\b\b\b\b\b\b\b\b\b\b\r23/23 [==============================] - 1s 40ms/step - loss: 1270.9738 - mae: 1270.9738 - mse: 5702197.5000 - val_loss: 5809.7002 - val_mae: 5809.7002 - val_mse: 51575140.0000\n",
            "Epoch 2/100\n",
            "19/23 [=======================>......] - ETA: 0s - loss: 476.2273 - mae: 476.2273 - mse: 781229.6250INFO:tensorflow:Assets written to: model_experiments/model_2/assets\n"
          ]
        },
        {
          "output_type": "stream",
          "name": "stderr",
          "text": [
            "INFO:tensorflow:Assets written to: model_experiments/model_2/assets\n"
          ]
        },
        {
          "output_type": "stream",
          "name": "stdout",
          "text": [
            "\b\b\b\b\b\b\b\b\b\b\b\b\b\b\b\b\b\b\b\b\b\b\b\b\b\b\b\b\b\b\b\b\b\b\b\b\b\b\b\b\b\b\b\b\b\b\b\b\b\b\b\b\b\b\b\b\b\b\b\b\b\b\b\b\b\b\b\b\b\b\b\b\b\b\b\b\b\b\b\b\b\b\b\b\b\b\b\b\b\b\b\b\b\b\b\b\b\b\b\b\r23/23 [==============================] - 0s 21ms/step - loss: 457.5442 - mae: 457.5442 - mse: 734457.7500 - val_loss: 2874.1519 - val_mae: 2874.1519 - val_mse: 12972859.0000\n",
            "Epoch 3/100\n",
            "16/23 [===================>..........] - ETA: 0s - loss: 301.4420 - mae: 301.4420 - mse: 357547.6875INFO:tensorflow:Assets written to: model_experiments/model_2/assets\n"
          ]
        },
        {
          "output_type": "stream",
          "name": "stderr",
          "text": [
            "INFO:tensorflow:Assets written to: model_experiments/model_2/assets\n"
          ]
        },
        {
          "output_type": "stream",
          "name": "stdout",
          "text": [
            "\b\b\b\b\b\b\b\b\b\b\b\b\b\b\b\b\b\b\b\b\b\b\b\b\b\b\b\b\b\b\b\b\b\b\b\b\b\b\b\b\b\b\b\b\b\b\b\b\b\b\b\b\b\b\b\b\b\b\b\b\b\b\b\b\b\b\b\b\b\b\b\b\b\b\b\b\b\b\b\b\b\b\b\b\b\b\b\b\b\b\b\b\b\b\b\b\b\b\b\b\r23/23 [==============================] - 0s 21ms/step - loss: 282.3473 - mae: 282.3473 - mse: 308064.3125 - val_loss: 2354.8252 - val_mae: 2354.8252 - val_mse: 8987779.0000\n",
            "Epoch 4/100\n",
            "23/23 [==============================] - 0s 5ms/step - loss: 247.4522 - mae: 247.4522 - mse: 238199.0156 - val_loss: 2483.1333 - val_mae: 2483.1333 - val_mse: 9431912.0000\n",
            "Epoch 5/100\n",
            "21/23 [==========================>...] - ETA: 0s - loss: 261.8749 - mae: 261.8749 - mse: 249908.7188INFO:tensorflow:Assets written to: model_experiments/model_2/assets\n"
          ]
        },
        {
          "output_type": "stream",
          "name": "stderr",
          "text": [
            "INFO:tensorflow:Assets written to: model_experiments/model_2/assets\n"
          ]
        },
        {
          "output_type": "stream",
          "name": "stdout",
          "text": [
            "\b\b\b\b\b\b\b\b\b\b\b\b\b\b\b\b\b\b\b\b\b\b\b\b\b\b\b\b\b\b\b\b\b\b\b\b\b\b\b\b\b\b\b\b\b\b\b\b\b\b\b\b\b\b\b\b\b\b\b\b\b\b\b\b\b\b\b\b\b\b\b\b\b\b\b\b\b\b\b\b\b\b\b\b\b\b\b\b\b\b\b\b\b\b\b\b\b\b\b\b\r23/23 [==============================] - 0s 21ms/step - loss: 258.7697 - mae: 258.7697 - mse: 245393.3750 - val_loss: 2167.9294 - val_mae: 2167.9294 - val_mse: 7791721.0000\n",
            "Epoch 6/100\n",
            "23/23 [==============================] - 0s 5ms/step - loss: 242.0428 - mae: 242.0428 - mse: 214074.9375 - val_loss: 2858.3889 - val_mae: 2858.3889 - val_mse: 12994624.0000\n",
            "Epoch 7/100\n",
            "23/23 [==============================] - 0s 4ms/step - loss: 247.8538 - mae: 247.8538 - mse: 222792.4219 - val_loss: 2362.3342 - val_mae: 2362.3342 - val_mse: 9262306.0000\n",
            "Epoch 8/100\n",
            "23/23 [==============================] - 0s 4ms/step - loss: 230.4454 - mae: 230.4454 - mse: 199807.4219 - val_loss: 2452.9648 - val_mae: 2452.9648 - val_mse: 9871729.0000\n",
            "Epoch 9/100\n",
            "19/23 [=======================>......] - ETA: 0s - loss: 244.2578 - mae: 244.2578 - mse: 219512.9062INFO:tensorflow:Assets written to: model_experiments/model_2/assets\n"
          ]
        },
        {
          "output_type": "stream",
          "name": "stderr",
          "text": [
            "INFO:tensorflow:Assets written to: model_experiments/model_2/assets\n"
          ]
        },
        {
          "output_type": "stream",
          "name": "stdout",
          "text": [
            "\b\b\b\b\b\b\b\b\b\b\b\b\b\b\b\b\b\b\b\b\b\b\b\b\b\b\b\b\b\b\b\b\b\b\b\b\b\b\b\b\b\b\b\b\b\b\b\b\b\b\b\b\b\b\b\b\b\b\b\b\b\b\b\b\b\b\b\b\b\b\b\b\b\b\b\b\b\b\b\b\b\b\b\b\b\b\b\b\b\b\b\b\b\b\b\b\b\b\b\b\r23/23 [==============================] - 0s 21ms/step - loss: 236.2387 - mae: 236.2387 - mse: 206388.5156 - val_loss: 1992.8556 - val_mae: 1992.8556 - val_mse: 6679972.0000\n",
            "Epoch 10/100\n",
            "21/23 [==========================>...] - ETA: 0s - loss: 212.3619 - mae: 212.3619 - mse: 167711.6406INFO:tensorflow:Assets written to: model_experiments/model_2/assets\n"
          ]
        },
        {
          "output_type": "stream",
          "name": "stderr",
          "text": [
            "INFO:tensorflow:Assets written to: model_experiments/model_2/assets\n"
          ]
        },
        {
          "output_type": "stream",
          "name": "stdout",
          "text": [
            "\b\b\b\b\b\b\b\b\b\b\b\b\b\b\b\b\b\b\b\b\b\b\b\b\b\b\b\b\b\b\b\b\b\b\b\b\b\b\b\b\b\b\b\b\b\b\b\b\b\b\b\b\b\b\b\b\b\b\b\b\b\b\b\b\b\b\b\b\b\b\b\b\b\b\b\b\b\b\b\b\b\b\b\b\b\b\b\b\b\b\b\b\b\b\b\b\b\b\b\b\r23/23 [==============================] - 0s 21ms/step - loss: 219.9454 - mae: 219.9454 - mse: 179121.3594 - val_loss: 1987.4546 - val_mae: 1987.4546 - val_mse: 6327037.5000\n",
            "Epoch 11/100\n",
            "20/23 [=========================>....] - ETA: 0s - loss: 217.1373 - mae: 217.1373 - mse: 179660.1875INFO:tensorflow:Assets written to: model_experiments/model_2/assets\n"
          ]
        },
        {
          "output_type": "stream",
          "name": "stderr",
          "text": [
            "INFO:tensorflow:Assets written to: model_experiments/model_2/assets\n"
          ]
        },
        {
          "output_type": "stream",
          "name": "stdout",
          "text": [
            "\b\b\b\b\b\b\b\b\b\b\b\b\b\b\b\b\b\b\b\b\b\b\b\b\b\b\b\b\b\b\b\b\b\b\b\b\b\b\b\b\b\b\b\b\b\b\b\b\b\b\b\b\b\b\b\b\b\b\b\b\b\b\b\b\b\b\b\b\b\b\b\b\b\b\b\b\b\b\b\b\b\b\b\b\b\b\b\b\b\b\b\b\b\b\b\b\b\b\b\b\r23/23 [==============================] - 0s 20ms/step - loss: 213.1312 - mae: 213.1312 - mse: 173435.1562 - val_loss: 1968.1012 - val_mae: 1968.1012 - val_mse: 6201293.0000\n",
            "Epoch 12/100\n",
            "23/23 [==============================] - 0s 4ms/step - loss: 216.6207 - mae: 216.6207 - mse: 173603.7812 - val_loss: 2044.2651 - val_mae: 2044.2651 - val_mse: 7037720.0000\n",
            "Epoch 13/100\n",
            "20/23 [=========================>....] - ETA: 0s - loss: 218.0192 - mae: 218.0192 - mse: 162279.4062INFO:tensorflow:Assets written to: model_experiments/model_2/assets\n"
          ]
        },
        {
          "output_type": "stream",
          "name": "stderr",
          "text": [
            "INFO:tensorflow:Assets written to: model_experiments/model_2/assets\n"
          ]
        },
        {
          "output_type": "stream",
          "name": "stdout",
          "text": [
            "\b\b\b\b\b\b\b\b\b\b\b\b\b\b\b\b\b\b\b\b\b\b\b\b\b\b\b\b\b\b\b\b\b\b\b\b\b\b\b\b\b\b\b\b\b\b\b\b\b\b\b\b\b\b\b\b\b\b\b\b\b\b\b\b\b\b\b\b\b\b\b\b\b\b\b\b\b\b\b\b\b\b\b\b\b\b\b\b\b\b\b\b\b\b\b\b\b\b\b\b\r23/23 [==============================] - 0s 21ms/step - loss: 215.9034 - mae: 215.9034 - mse: 170950.8906 - val_loss: 1844.3463 - val_mae: 1844.3463 - val_mse: 5743403.5000\n",
            "Epoch 14/100\n",
            "21/23 [==========================>...] - ETA: 0s - loss: 196.8394 - mae: 196.8394 - mse: 152109.2500INFO:tensorflow:Assets written to: model_experiments/model_2/assets\n"
          ]
        },
        {
          "output_type": "stream",
          "name": "stderr",
          "text": [
            "INFO:tensorflow:Assets written to: model_experiments/model_2/assets\n"
          ]
        },
        {
          "output_type": "stream",
          "name": "stdout",
          "text": [
            "\b\b\b\b\b\b\b\b\b\b\b\b\b\b\b\b\b\b\b\b\b\b\b\b\b\b\b\b\b\b\b\b\b\b\b\b\b\b\b\b\b\b\b\b\b\b\b\b\b\b\b\b\b\b\b\b\b\b\b\b\b\b\b\b\b\b\b\b\b\b\b\b\b\b\b\b\b\b\b\b\b\b\b\b\b\b\b\b\b\b\b\b\b\b\b\b\b\b\b\b\r23/23 [==============================] - 0s 21ms/step - loss: 199.7556 - mae: 199.7556 - mse: 156106.5781 - val_loss: 1800.9688 - val_mae: 1800.9688 - val_mse: 5440496.0000\n",
            "Epoch 15/100\n",
            "23/23 [==============================] - 0s 4ms/step - loss: 195.6407 - mae: 195.6407 - mse: 153613.6406 - val_loss: 1936.5775 - val_mae: 1936.5775 - val_mse: 6382349.0000\n",
            "Epoch 16/100\n",
            "23/23 [==============================] - 0s 4ms/step - loss: 223.3579 - mae: 223.3579 - mse: 181130.3125 - val_loss: 2030.8677 - val_mae: 2030.8677 - val_mse: 6432586.5000\n",
            "Epoch 17/100\n",
            "19/23 [=======================>......] - ETA: 0s - loss: 206.2192 - mae: 206.2192 - mse: 161695.6562INFO:tensorflow:Assets written to: model_experiments/model_2/assets\n"
          ]
        },
        {
          "output_type": "stream",
          "name": "stderr",
          "text": [
            "INFO:tensorflow:Assets written to: model_experiments/model_2/assets\n"
          ]
        },
        {
          "output_type": "stream",
          "name": "stdout",
          "text": [
            "\b\b\b\b\b\b\b\b\b\b\b\b\b\b\b\b\b\b\b\b\b\b\b\b\b\b\b\b\b\b\b\b\b\b\b\b\b\b\b\b\b\b\b\b\b\b\b\b\b\b\b\b\b\b\b\b\b\b\b\b\b\b\b\b\b\b\b\b\b\b\b\b\b\b\b\b\b\b\b\b\b\b\b\b\b\b\b\b\b\b\b\b\b\b\b\b\b\b\b\b\r23/23 [==============================] - 0s 21ms/step - loss: 205.2690 - mae: 205.2690 - mse: 161634.9219 - val_loss: 1722.1649 - val_mae: 1722.1649 - val_mse: 4985409.5000\n",
            "Epoch 18/100\n",
            "23/23 [==============================] - 0s 4ms/step - loss: 185.9852 - mae: 185.9852 - mse: 142734.1562 - val_loss: 1884.1704 - val_mae: 1884.1704 - val_mse: 6044471.0000\n",
            "Epoch 19/100\n",
            "23/23 [==============================] - 0s 5ms/step - loss: 200.4709 - mae: 200.4709 - mse: 154024.9688 - val_loss: 2403.0791 - val_mae: 2403.0791 - val_mse: 8519721.0000\n",
            "Epoch 20/100\n",
            "23/23 [==============================] - 0s 4ms/step - loss: 272.8631 - mae: 272.8631 - mse: 228264.5000 - val_loss: 1881.2028 - val_mae: 1881.2028 - val_mse: 5625784.5000\n",
            "Epoch 21/100\n",
            "23/23 [==============================] - 0s 4ms/step - loss: 224.2073 - mae: 224.2073 - mse: 169806.3750 - val_loss: 1835.5958 - val_mae: 1835.5958 - val_mse: 5413400.5000\n",
            "Epoch 22/100\n",
            "23/23 [==============================] - 0s 4ms/step - loss: 180.0931 - mae: 180.0931 - mse: 135355.3125 - val_loss: 2028.6965 - val_mae: 2028.6965 - val_mse: 6369094.0000\n",
            "Epoch 23/100\n",
            "21/23 [==========================>...] - ETA: 0s - loss: 212.2449 - mae: 212.2449 - mse: 163656.2969INFO:tensorflow:Assets written to: model_experiments/model_2/assets\n"
          ]
        },
        {
          "output_type": "stream",
          "name": "stderr",
          "text": [
            "INFO:tensorflow:Assets written to: model_experiments/model_2/assets\n"
          ]
        },
        {
          "output_type": "stream",
          "name": "stdout",
          "text": [
            "\b\b\b\b\b\b\b\b\b\b\b\b\b\b\b\b\b\b\b\b\b\b\b\b\b\b\b\b\b\b\b\b\b\b\b\b\b\b\b\b\b\b\b\b\b\b\b\b\b\b\b\b\b\b\b\b\b\b\b\b\b\b\b\b\b\b\b\b\b\b\b\b\b\b\b\b\b\b\b\b\b\b\b\b\b\b\b\b\b\b\b\b\b\b\b\b\b\b\b\b\r23/23 [==============================] - 0s 21ms/step - loss: 209.3908 - mae: 209.3908 - mse: 158778.7031 - val_loss: 1646.8387 - val_mae: 1646.8387 - val_mse: 4586863.0000\n",
            "Epoch 24/100\n",
            "23/23 [==============================] - 0s 4ms/step - loss: 190.0928 - mae: 190.0928 - mse: 140896.8750 - val_loss: 1709.2985 - val_mae: 1709.2985 - val_mse: 4828539.5000\n",
            "Epoch 25/100\n",
            "23/23 [==============================] - 0s 5ms/step - loss: 203.2131 - mae: 203.2131 - mse: 155152.5781 - val_loss: 1958.9751 - val_mae: 1958.9751 - val_mse: 6423973.0000\n",
            "Epoch 26/100\n",
            "21/23 [==========================>...] - ETA: 0s - loss: 187.4239 - mae: 187.4239 - mse: 143673.1250INFO:tensorflow:Assets written to: model_experiments/model_2/assets\n"
          ]
        },
        {
          "output_type": "stream",
          "name": "stderr",
          "text": [
            "INFO:tensorflow:Assets written to: model_experiments/model_2/assets\n"
          ]
        },
        {
          "output_type": "stream",
          "name": "stdout",
          "text": [
            "\b\b\b\b\b\b\b\b\b\b\b\b\b\b\b\b\b\b\b\b\b\b\b\b\b\b\b\b\b\b\b\b\b\b\b\b\b\b\b\b\b\b\b\b\b\b\b\b\b\b\b\b\b\b\b\b\b\b\b\b\b\b\b\b\b\b\b\b\b\b\b\b\b\b\b\b\b\b\b\b\b\b\b\b\b\b\b\b\b\b\b\b\b\b\b\b\b\b\b\b\r23/23 [==============================] - 1s 22ms/step - loss: 184.5861 - mae: 184.5861 - mse: 138238.3594 - val_loss: 1607.0396 - val_mae: 1607.0396 - val_mse: 4362587.5000\n",
            "Epoch 27/100\n",
            "23/23 [==============================] - 0s 5ms/step - loss: 177.0490 - mae: 177.0490 - mse: 128729.7812 - val_loss: 1731.2990 - val_mae: 1731.2990 - val_mse: 5167445.0000\n",
            "Epoch 28/100\n",
            "23/23 [==============================] - 0s 4ms/step - loss: 172.8653 - mae: 172.8653 - mse: 122122.2422 - val_loss: 1818.8386 - val_mae: 1818.8386 - val_mse: 5288784.5000\n",
            "Epoch 29/100\n",
            "21/23 [==========================>...] - ETA: 0s - loss: 193.1192 - mae: 193.1192 - mse: 142531.8594INFO:tensorflow:Assets written to: model_experiments/model_2/assets\n"
          ]
        },
        {
          "output_type": "stream",
          "name": "stderr",
          "text": [
            "INFO:tensorflow:Assets written to: model_experiments/model_2/assets\n"
          ]
        },
        {
          "output_type": "stream",
          "name": "stdout",
          "text": [
            "\b\b\b\b\b\b\b\b\b\b\b\b\b\b\b\b\b\b\b\b\b\b\b\b\b\b\b\b\b\b\b\b\b\b\b\b\b\b\b\b\b\b\b\b\b\b\b\b\b\b\b\b\b\b\b\b\b\b\b\b\b\b\b\b\b\b\b\b\b\b\b\b\b\b\b\b\b\b\b\b\b\b\b\b\b\b\b\b\b\b\b\b\b\b\b\b\b\b\b\b\r23/23 [==============================] - 0s 22ms/step - loss: 193.5827 - mae: 193.5827 - mse: 141817.0312 - val_loss: 1568.3695 - val_mae: 1568.3695 - val_mse: 4236133.0000\n",
            "Epoch 30/100\n",
            "20/23 [=========================>....] - ETA: 0s - loss: 175.1862 - mae: 175.1862 - mse: 128567.3438INFO:tensorflow:Assets written to: model_experiments/model_2/assets\n"
          ]
        },
        {
          "output_type": "stream",
          "name": "stderr",
          "text": [
            "INFO:tensorflow:Assets written to: model_experiments/model_2/assets\n"
          ]
        },
        {
          "output_type": "stream",
          "name": "stdout",
          "text": [
            "\b\b\b\b\b\b\b\b\b\b\b\b\b\b\b\b\b\b\b\b\b\b\b\b\b\b\b\b\b\b\b\b\b\b\b\b\b\b\b\b\b\b\b\b\b\b\b\b\b\b\b\b\b\b\b\b\b\b\b\b\b\b\b\b\b\b\b\b\b\b\b\b\b\b\b\b\b\b\b\b\b\b\b\b\b\b\b\b\b\b\b\b\b\b\b\b\b\b\b\b\r23/23 [==============================] - 0s 21ms/step - loss: 175.1302 - mae: 175.1302 - mse: 126222.8906 - val_loss: 1566.5021 - val_mae: 1566.5021 - val_mse: 4177161.2500\n",
            "Epoch 31/100\n",
            "23/23 [==============================] - 0s 4ms/step - loss: 170.5375 - mae: 170.5375 - mse: 123027.0156 - val_loss: 1590.4568 - val_mae: 1590.4568 - val_mse: 4408671.5000\n",
            "Epoch 32/100\n",
            "23/23 [==============================] - 0s 4ms/step - loss: 186.5224 - mae: 186.5224 - mse: 137441.9844 - val_loss: 2197.4932 - val_mae: 2197.4932 - val_mse: 7212693.5000\n",
            "Epoch 33/100\n",
            "23/23 [==============================] - 0s 4ms/step - loss: 191.1715 - mae: 191.1715 - mse: 139788.2188 - val_loss: 2322.2915 - val_mae: 2322.2915 - val_mse: 8397285.0000\n",
            "Epoch 34/100\n",
            "21/23 [==========================>...] - ETA: 0s - loss: 216.9498 - mae: 216.9498 - mse: 166356.7812INFO:tensorflow:Assets written to: model_experiments/model_2/assets\n"
          ]
        },
        {
          "output_type": "stream",
          "name": "stderr",
          "text": [
            "INFO:tensorflow:Assets written to: model_experiments/model_2/assets\n"
          ]
        },
        {
          "output_type": "stream",
          "name": "stdout",
          "text": [
            "\b\b\b\b\b\b\b\b\b\b\b\b\b\b\b\b\b\b\b\b\b\b\b\b\b\b\b\b\b\b\b\b\b\b\b\b\b\b\b\b\b\b\b\b\b\b\b\b\b\b\b\b\b\b\b\b\b\b\b\b\b\b\b\b\b\b\b\b\b\b\b\b\b\b\b\b\b\b\b\b\b\b\b\b\b\b\b\b\b\b\b\b\b\b\b\b\b\b\b\b\r23/23 [==============================] - 0s 21ms/step - loss: 215.0529 - mae: 215.0529 - mse: 163981.6875 - val_loss: 1527.1473 - val_mae: 1527.1473 - val_mse: 4008060.5000\n",
            "Epoch 35/100\n",
            "20/23 [=========================>....] - ETA: 0s - loss: 182.2854 - mae: 182.2854 - mse: 128132.7812INFO:tensorflow:Assets written to: model_experiments/model_2/assets\n"
          ]
        },
        {
          "output_type": "stream",
          "name": "stderr",
          "text": [
            "INFO:tensorflow:Assets written to: model_experiments/model_2/assets\n"
          ]
        },
        {
          "output_type": "stream",
          "name": "stdout",
          "text": [
            "\b\b\b\b\b\b\b\b\b\b\b\b\b\b\b\b\b\b\b\b\b\b\b\b\b\b\b\b\b\b\b\b\b\b\b\b\b\b\b\b\b\b\b\b\b\b\b\b\b\b\b\b\b\b\b\b\b\b\b\b\b\b\b\b\b\b\b\b\b\b\b\b\b\b\b\b\b\b\b\b\b\b\b\b\b\b\b\b\b\b\b\b\b\b\b\b\b\b\b\b\r23/23 [==============================] - 0s 21ms/step - loss: 182.1966 - mae: 182.1966 - mse: 125597.6016 - val_loss: 1515.1063 - val_mae: 1515.1063 - val_mse: 3972154.0000\n",
            "Epoch 36/100\n",
            "23/23 [==============================] - 0s 4ms/step - loss: 163.0383 - mae: 163.0383 - mse: 115101.1875 - val_loss: 1579.6104 - val_mae: 1579.6104 - val_mse: 4358682.0000\n",
            "Epoch 37/100\n",
            "21/23 [==========================>...] - ETA: 0s - loss: 161.0254 - mae: 161.0254 - mse: 113565.2734INFO:tensorflow:Assets written to: model_experiments/model_2/assets\n"
          ]
        },
        {
          "output_type": "stream",
          "name": "stderr",
          "text": [
            "INFO:tensorflow:Assets written to: model_experiments/model_2/assets\n"
          ]
        },
        {
          "output_type": "stream",
          "name": "stdout",
          "text": [
            "\b\b\b\b\b\b\b\b\b\b\b\b\b\b\b\b\b\b\b\b\b\b\b\b\b\b\b\b\b\b\b\b\b\b\b\b\b\b\b\b\b\b\b\b\b\b\b\b\b\b\b\b\b\b\b\b\b\b\b\b\b\b\b\b\b\b\b\b\b\b\b\b\b\b\b\b\b\b\b\b\b\b\b\b\b\b\b\b\b\b\b\b\b\b\b\b\b\b\b\b\r23/23 [==============================] - 0s 21ms/step - loss: 161.5112 - mae: 161.5112 - mse: 114606.0703 - val_loss: 1507.4443 - val_mae: 1507.4443 - val_mse: 3955675.5000\n",
            "Epoch 38/100\n",
            "19/23 [=======================>......] - ETA: 0s - loss: 172.5715 - mae: 172.5715 - mse: 120397.6406INFO:tensorflow:Assets written to: model_experiments/model_2/assets\n"
          ]
        },
        {
          "output_type": "stream",
          "name": "stderr",
          "text": [
            "INFO:tensorflow:Assets written to: model_experiments/model_2/assets\n"
          ]
        },
        {
          "output_type": "stream",
          "name": "stdout",
          "text": [
            "\b\b\b\b\b\b\b\b\b\b\b\b\b\b\b\b\b\b\b\b\b\b\b\b\b\b\b\b\b\b\b\b\b\b\b\b\b\b\b\b\b\b\b\b\b\b\b\b\b\b\b\b\b\b\b\b\b\b\b\b\b\b\b\b\b\b\b\b\b\b\b\b\b\b\b\b\b\b\b\b\b\b\b\b\b\b\b\b\b\b\b\b\b\b\b\b\b\b\b\b\r23/23 [==============================] - 0s 21ms/step - loss: 169.7578 - mae: 169.7578 - mse: 118444.0703 - val_loss: 1501.2111 - val_mae: 1501.2111 - val_mse: 3885009.5000\n",
            "Epoch 39/100\n",
            "23/23 [==============================] - 0s 4ms/step - loss: 178.7819 - mae: 178.7819 - mse: 126043.7188 - val_loss: 1724.4065 - val_mae: 1724.4065 - val_mse: 5053599.5000\n",
            "Epoch 40/100\n",
            "23/23 [==============================] - 0s 5ms/step - loss: 170.8922 - mae: 170.8922 - mse: 120198.0078 - val_loss: 2551.3887 - val_mae: 2551.3887 - val_mse: 9148261.0000\n",
            "Epoch 41/100\n",
            "23/23 [==============================] - 0s 4ms/step - loss: 198.1526 - mae: 198.1526 - mse: 143283.5469 - val_loss: 1567.4901 - val_mae: 1567.4901 - val_mse: 4127223.2500\n",
            "Epoch 42/100\n",
            "21/23 [==========================>...] - ETA: 0s - loss: 177.9507 - mae: 177.9507 - mse: 124818.8359INFO:tensorflow:Assets written to: model_experiments/model_2/assets\n"
          ]
        },
        {
          "output_type": "stream",
          "name": "stderr",
          "text": [
            "INFO:tensorflow:Assets written to: model_experiments/model_2/assets\n"
          ]
        },
        {
          "output_type": "stream",
          "name": "stdout",
          "text": [
            "\b\b\b\b\b\b\b\b\b\b\b\b\b\b\b\b\b\b\b\b\b\b\b\b\b\b\b\b\b\b\b\b\b\b\b\b\b\b\b\b\b\b\b\b\b\b\b\b\b\b\b\b\b\b\b\b\b\b\b\b\b\b\b\b\b\b\b\b\b\b\b\b\b\b\b\b\b\b\b\b\b\b\b\b\b\b\b\b\b\b\b\b\b\b\b\b\b\b\b\b\r23/23 [==============================] - 0s 21ms/step - loss: 173.8862 - mae: 173.8862 - mse: 120349.5859 - val_loss: 1468.6715 - val_mae: 1468.6715 - val_mse: 3756574.0000\n",
            "Epoch 43/100\n",
            "23/23 [==============================] - 0s 4ms/step - loss: 159.8155 - mae: 159.8154 - mse: 111364.2422 - val_loss: 1549.4370 - val_mae: 1549.4370 - val_mse: 4047385.5000\n",
            "Epoch 44/100\n",
            "23/23 [==============================] - 0s 4ms/step - loss: 160.4740 - mae: 160.4740 - mse: 112286.0312 - val_loss: 1577.6835 - val_mae: 1577.6835 - val_mse: 4327993.0000\n",
            "Epoch 45/100\n",
            "23/23 [==============================] - 0s 4ms/step - loss: 165.1862 - mae: 165.1862 - mse: 116035.8828 - val_loss: 1604.0764 - val_mae: 1604.0764 - val_mse: 4452861.5000\n",
            "Epoch 46/100\n",
            "23/23 [==============================] - 0s 4ms/step - loss: 159.4556 - mae: 159.4556 - mse: 110229.9062 - val_loss: 1556.1028 - val_mae: 1556.1028 - val_mse: 4073189.0000\n",
            "Epoch 47/100\n",
            "23/23 [==============================] - 0s 4ms/step - loss: 167.5226 - mae: 167.5226 - mse: 115190.6953 - val_loss: 1588.9514 - val_mae: 1588.9514 - val_mse: 4345749.0000\n",
            "Epoch 48/100\n",
            "21/23 [==========================>...] - ETA: 0s - loss: 164.0350 - mae: 164.0350 - mse: 111460.6172INFO:tensorflow:Assets written to: model_experiments/model_2/assets\n"
          ]
        },
        {
          "output_type": "stream",
          "name": "stderr",
          "text": [
            "INFO:tensorflow:Assets written to: model_experiments/model_2/assets\n"
          ]
        },
        {
          "output_type": "stream",
          "name": "stdout",
          "text": [
            "\b\b\b\b\b\b\b\b\b\b\b\b\b\b\b\b\b\b\b\b\b\b\b\b\b\b\b\b\b\b\b\b\b\b\b\b\b\b\b\b\b\b\b\b\b\b\b\b\b\b\b\b\b\b\b\b\b\b\b\b\b\b\b\b\b\b\b\b\b\b\b\b\b\b\b\b\b\b\b\b\b\b\b\b\b\b\b\b\b\b\b\b\b\b\b\b\b\b\b\b\r23/23 [==============================] - 0s 21ms/step - loss: 164.3331 - mae: 164.3331 - mse: 112720.9766 - val_loss: 1447.9888 - val_mae: 1447.9888 - val_mse: 3702006.5000\n",
            "Epoch 49/100\n",
            "23/23 [==============================] - 0s 4ms/step - loss: 173.0993 - mae: 173.0993 - mse: 123986.8906 - val_loss: 1534.7614 - val_mae: 1534.7614 - val_mse: 3975443.5000\n",
            "Epoch 50/100\n",
            "23/23 [==============================] - 0s 4ms/step - loss: 196.0104 - mae: 196.0104 - mse: 140577.5938 - val_loss: 2155.5591 - val_mae: 2155.5591 - val_mse: 7221565.0000\n",
            "Epoch 51/100\n",
            "23/23 [==============================] - 0s 4ms/step - loss: 172.4727 - mae: 172.4727 - mse: 116860.3594 - val_loss: 1465.8418 - val_mae: 1465.8418 - val_mse: 3784163.7500\n",
            "Epoch 52/100\n",
            "21/23 [==========================>...] - ETA: 0s - loss: 170.9949 - mae: 170.9949 - mse: 116974.9219INFO:tensorflow:Assets written to: model_experiments/model_2/assets\n"
          ]
        },
        {
          "output_type": "stream",
          "name": "stderr",
          "text": [
            "INFO:tensorflow:Assets written to: model_experiments/model_2/assets\n"
          ]
        },
        {
          "output_type": "stream",
          "name": "stdout",
          "text": [
            "\b\b\b\b\b\b\b\b\b\b\b\b\b\b\b\b\b\b\b\b\b\b\b\b\b\b\b\b\b\b\b\b\b\b\b\b\b\b\b\b\b\b\b\b\b\b\b\b\b\b\b\b\b\b\b\b\b\b\b\b\b\b\b\b\b\b\b\b\b\b\b\b\b\b\b\b\b\b\b\b\b\b\b\b\b\b\b\b\b\b\b\b\b\b\b\b\b\b\b\b\r23/23 [==============================] - 0s 21ms/step - loss: 173.2413 - mae: 173.2413 - mse: 119666.0312 - val_loss: 1438.0621 - val_mae: 1438.0621 - val_mse: 3600151.2500\n",
            "Epoch 53/100\n",
            "23/23 [==============================] - 0s 4ms/step - loss: 172.1514 - mae: 172.1514 - mse: 119396.3984 - val_loss: 1566.0253 - val_mae: 1566.0253 - val_mse: 4096998.5000\n",
            "Epoch 54/100\n",
            "20/23 [=========================>....] - ETA: 0s - loss: 162.4418 - mae: 162.4418 - mse: 113209.0391INFO:tensorflow:Assets written to: model_experiments/model_2/assets\n"
          ]
        },
        {
          "output_type": "stream",
          "name": "stderr",
          "text": [
            "INFO:tensorflow:Assets written to: model_experiments/model_2/assets\n"
          ]
        },
        {
          "output_type": "stream",
          "name": "stdout",
          "text": [
            "\b\b\b\b\b\b\b\b\b\b\b\b\b\b\b\b\b\b\b\b\b\b\b\b\b\b\b\b\b\b\b\b\b\b\b\b\b\b\b\b\b\b\b\b\b\b\b\b\b\b\b\b\b\b\b\b\b\b\b\b\b\b\b\b\b\b\b\b\b\b\b\b\b\b\b\b\b\b\b\b\b\b\b\b\b\b\b\b\b\b\b\b\b\b\b\b\b\b\b\b\r23/23 [==============================] - 1s 35ms/step - loss: 162.0111 - mae: 162.0111 - mse: 111599.5469 - val_loss: 1415.5767 - val_mae: 1415.5767 - val_mse: 3556267.7500\n",
            "Epoch 55/100\n",
            "17/23 [=====================>........] - ETA: 0s - loss: 159.3892 - mae: 159.3892 - mse: 110769.6172INFO:tensorflow:Assets written to: model_experiments/model_2/assets\n"
          ]
        },
        {
          "output_type": "stream",
          "name": "stderr",
          "text": [
            "INFO:tensorflow:Assets written to: model_experiments/model_2/assets\n"
          ]
        },
        {
          "output_type": "stream",
          "name": "stdout",
          "text": [
            "\b\b\b\b\b\b\b\b\b\b\b\b\b\b\b\b\b\b\b\b\b\b\b\b\b\b\b\b\b\b\b\b\b\b\b\b\b\b\b\b\b\b\b\b\b\b\b\b\b\b\b\b\b\b\b\b\b\b\b\b\b\b\b\b\b\b\b\b\b\b\b\b\b\b\b\b\b\b\b\b\b\b\b\b\b\b\b\b\b\b\b\b\b\b\b\b\b\b\b\b\r23/23 [==============================] - 0s 21ms/step - loss: 159.0504 - mae: 159.0504 - mse: 108409.8047 - val_loss: 1409.0128 - val_mae: 1409.0128 - val_mse: 3527875.5000\n",
            "Epoch 56/100\n",
            "23/23 [==============================] - 0s 4ms/step - loss: 165.2089 - mae: 165.2089 - mse: 109764.9766 - val_loss: 2150.6313 - val_mae: 2150.6313 - val_mse: 7160031.5000\n",
            "Epoch 57/100\n",
            "21/23 [==========================>...] - ETA: 0s - loss: 173.3932 - mae: 173.3932 - mse: 122619.5078INFO:tensorflow:Assets written to: model_experiments/model_2/assets\n"
          ]
        },
        {
          "output_type": "stream",
          "name": "stderr",
          "text": [
            "INFO:tensorflow:Assets written to: model_experiments/model_2/assets\n"
          ]
        },
        {
          "output_type": "stream",
          "name": "stdout",
          "text": [
            "\b\b\b\b\b\b\b\b\b\b\b\b\b\b\b\b\b\b\b\b\b\b\b\b\b\b\b\b\b\b\b\b\b\b\b\b\b\b\b\b\b\b\b\b\b\b\b\b\b\b\b\b\b\b\b\b\b\b\b\b\b\b\b\b\b\b\b\b\b\b\b\b\b\b\b\b\b\b\b\b\b\b\b\b\b\b\b\b\b\b\b\b\b\b\b\b\b\b\b\b\r23/23 [==============================] - 0s 21ms/step - loss: 172.2376 - mae: 172.2376 - mse: 119159.5469 - val_loss: 1403.9008 - val_mae: 1403.9008 - val_mse: 3505211.0000\n",
            "Epoch 58/100\n",
            "21/23 [==========================>...] - ETA: 0s - loss: 156.8754 - mae: 156.8754 - mse: 105391.6172INFO:tensorflow:Assets written to: model_experiments/model_2/assets\n"
          ]
        },
        {
          "output_type": "stream",
          "name": "stderr",
          "text": [
            "INFO:tensorflow:Assets written to: model_experiments/model_2/assets\n"
          ]
        },
        {
          "output_type": "stream",
          "name": "stdout",
          "text": [
            "\b\b\b\b\b\b\b\b\b\b\b\b\b\b\b\b\b\b\b\b\b\b\b\b\b\b\b\b\b\b\b\b\b\b\b\b\b\b\b\b\b\b\b\b\b\b\b\b\b\b\b\b\b\b\b\b\b\b\b\b\b\b\b\b\b\b\b\b\b\b\b\b\b\b\b\b\b\b\b\b\b\b\b\b\b\b\b\b\b\b\b\b\b\b\b\b\b\b\b\b\r23/23 [==============================] - 0s 21ms/step - loss: 155.2098 - mae: 155.2098 - mse: 104140.7812 - val_loss: 1397.6852 - val_mae: 1397.6852 - val_mse: 3457223.5000\n",
            "Epoch 59/100\n",
            "23/23 [==============================] - 0s 4ms/step - loss: 164.8956 - mae: 164.8956 - mse: 110638.3984 - val_loss: 1405.7253 - val_mae: 1405.7253 - val_mse: 3514809.2500\n",
            "Epoch 60/100\n",
            "23/23 [==============================] - 0s 4ms/step - loss: 156.0630 - mae: 156.0630 - mse: 107318.6797 - val_loss: 1450.9207 - val_mae: 1450.9207 - val_mse: 3719900.7500\n",
            "Epoch 61/100\n",
            "21/23 [==========================>...] - ETA: 0s - loss: 177.1166 - mae: 177.1166 - mse: 119205.8750INFO:tensorflow:Assets written to: model_experiments/model_2/assets\n"
          ]
        },
        {
          "output_type": "stream",
          "name": "stderr",
          "text": [
            "INFO:tensorflow:Assets written to: model_experiments/model_2/assets\n"
          ]
        },
        {
          "output_type": "stream",
          "name": "stdout",
          "text": [
            "\b\b\b\b\b\b\b\b\b\b\b\b\b\b\b\b\b\b\b\b\b\b\b\b\b\b\b\b\b\b\b\b\b\b\b\b\b\b\b\b\b\b\b\b\b\b\b\b\b\b\b\b\b\b\b\b\b\b\b\b\b\b\b\b\b\b\b\b\b\b\b\b\b\b\b\b\b\b\b\b\b\b\b\b\b\b\b\b\b\b\b\b\b\b\b\b\b\b\b\b\r23/23 [==============================] - 0s 21ms/step - loss: 175.7106 - mae: 175.7106 - mse: 116829.8594 - val_loss: 1389.7655 - val_mae: 1389.7655 - val_mse: 3441089.7500\n",
            "Epoch 62/100\n",
            "23/23 [==============================] - 0s 4ms/step - loss: 172.5288 - mae: 172.5288 - mse: 118071.5781 - val_loss: 1518.8623 - val_mae: 1518.8623 - val_mse: 3890856.7500\n",
            "Epoch 63/100\n",
            "23/23 [==============================] - 0s 5ms/step - loss: 176.3754 - mae: 176.3754 - mse: 120676.6250 - val_loss: 1698.3149 - val_mae: 1698.3149 - val_mse: 4660754.0000\n",
            "Epoch 64/100\n",
            "23/23 [==============================] - 0s 4ms/step - loss: 156.1175 - mae: 156.1175 - mse: 104558.4531 - val_loss: 1785.9783 - val_mae: 1785.9783 - val_mse: 5058378.5000\n",
            "Epoch 65/100\n",
            "23/23 [==============================] - 0s 4ms/step - loss: 179.2264 - mae: 179.2264 - mse: 123583.6328 - val_loss: 1683.1096 - val_mae: 1683.1096 - val_mse: 4740494.5000\n",
            "Epoch 66/100\n",
            "19/23 [=======================>......] - ETA: 0s - loss: 176.2889 - mae: 176.2889 - mse: 110103.7500INFO:tensorflow:Assets written to: model_experiments/model_2/assets\n"
          ]
        },
        {
          "output_type": "stream",
          "name": "stderr",
          "text": [
            "INFO:tensorflow:Assets written to: model_experiments/model_2/assets\n"
          ]
        },
        {
          "output_type": "stream",
          "name": "stdout",
          "text": [
            "\b\b\b\b\b\b\b\b\b\b\b\b\b\b\b\b\b\b\b\b\b\b\b\b\b\b\b\b\b\b\b\b\b\b\b\b\b\b\b\b\b\b\b\b\b\b\b\b\b\b\b\b\b\b\b\b\b\b\b\b\b\b\b\b\b\b\b\b\b\b\b\b\b\b\b\b\b\b\b\b\b\b\b\b\b\b\b\b\b\b\b\b\b\b\b\b\b\b\b\b\r23/23 [==============================] - 0s 21ms/step - loss: 179.8862 - mae: 179.8862 - mse: 120552.3750 - val_loss: 1380.9979 - val_mae: 1380.9979 - val_mse: 3415086.2500\n",
            "Epoch 67/100\n",
            "23/23 [==============================] - 0s 4ms/step - loss: 160.4509 - mae: 160.4509 - mse: 110545.9688 - val_loss: 1666.7531 - val_mae: 1666.7531 - val_mse: 4516472.5000\n",
            "Epoch 68/100\n",
            "23/23 [==============================] - 0s 4ms/step - loss: 168.2724 - mae: 168.2724 - mse: 112017.0703 - val_loss: 1508.7725 - val_mae: 1508.7725 - val_mse: 3846655.0000\n",
            "Epoch 69/100\n",
            "23/23 [==============================] - 0s 4ms/step - loss: 159.6956 - mae: 159.6956 - mse: 106599.6641 - val_loss: 1420.3333 - val_mae: 1420.3333 - val_mse: 3516234.0000\n",
            "Epoch 70/100\n",
            "23/23 [==============================] - 0s 4ms/step - loss: 167.9167 - mae: 167.9167 - mse: 114878.3672 - val_loss: 2058.6924 - val_mae: 2058.6924 - val_mse: 6360970.5000\n",
            "Epoch 71/100\n",
            "23/23 [==============================] - 0s 4ms/step - loss: 218.2516 - mae: 218.2515 - mse: 152410.6562 - val_loss: 1383.1652 - val_mae: 1383.1652 - val_mse: 3390756.2500\n",
            "Epoch 72/100\n",
            "23/23 [==============================] - 0s 4ms/step - loss: 152.8220 - mae: 152.8220 - mse: 102628.1328 - val_loss: 1426.8270 - val_mae: 1426.8270 - val_mse: 3539917.0000\n",
            "Epoch 73/100\n",
            "23/23 [==============================] - 0s 4ms/step - loss: 145.7586 - mae: 145.7586 - mse: 96861.1250 - val_loss: 1484.0763 - val_mae: 1484.0763 - val_mse: 3830597.7500\n",
            "Epoch 74/100\n",
            "23/23 [==============================] - 0s 4ms/step - loss: 148.8482 - mae: 148.8482 - mse: 99115.9609 - val_loss: 1459.1549 - val_mae: 1459.1549 - val_mse: 3722827.2500\n",
            "Epoch 75/100\n",
            "23/23 [==============================] - 0s 5ms/step - loss: 155.1970 - mae: 155.1970 - mse: 100915.0859 - val_loss: 1452.4125 - val_mae: 1452.4125 - val_mse: 3632908.5000\n",
            "Epoch 76/100\n",
            "23/23 [==============================] - 0s 5ms/step - loss: 156.3602 - mae: 156.3602 - mse: 105972.6328 - val_loss: 1630.4916 - val_mae: 1630.4916 - val_mse: 4347906.0000\n",
            "Epoch 77/100\n",
            "23/23 [==============================] - 0s 4ms/step - loss: 166.1690 - mae: 166.1690 - mse: 111665.8359 - val_loss: 1511.5042 - val_mae: 1511.5042 - val_mse: 3927617.2500\n",
            "Epoch 78/100\n",
            "23/23 [==============================] - 0s 4ms/step - loss: 151.2523 - mae: 151.2523 - mse: 100405.5000 - val_loss: 1400.8950 - val_mae: 1400.8950 - val_mse: 3476922.5000\n",
            "Epoch 79/100\n",
            "19/23 [=======================>......] - ETA: 0s - loss: 153.0920 - mae: 153.0920 - mse: 102579.4766INFO:tensorflow:Assets written to: model_experiments/model_2/assets\n"
          ]
        },
        {
          "output_type": "stream",
          "name": "stderr",
          "text": [
            "INFO:tensorflow:Assets written to: model_experiments/model_2/assets\n"
          ]
        },
        {
          "output_type": "stream",
          "name": "stdout",
          "text": [
            "\b\b\b\b\b\b\b\b\b\b\b\b\b\b\b\b\b\b\b\b\b\b\b\b\b\b\b\b\b\b\b\b\b\b\b\b\b\b\b\b\b\b\b\b\b\b\b\b\b\b\b\b\b\b\b\b\b\b\b\b\b\b\b\b\b\b\b\b\b\b\b\b\b\b\b\b\b\b\b\b\b\b\b\b\b\b\b\b\b\b\b\b\b\b\b\b\b\b\b\b\r23/23 [==============================] - 0s 21ms/step - loss: 152.0255 - mae: 152.0255 - mse: 100234.0234 - val_loss: 1362.5734 - val_mae: 1362.5734 - val_mse: 3314200.7500\n",
            "Epoch 80/100\n",
            "23/23 [==============================] - 0s 4ms/step - loss: 162.0049 - mae: 162.0049 - mse: 106812.4219 - val_loss: 1528.8850 - val_mae: 1528.8850 - val_mse: 3999964.5000\n",
            "Epoch 81/100\n",
            "21/23 [==========================>...] - ETA: 0s - loss: 176.2831 - mae: 176.2831 - mse: 117116.5156INFO:tensorflow:Assets written to: model_experiments/model_2/assets\n"
          ]
        },
        {
          "output_type": "stream",
          "name": "stderr",
          "text": [
            "INFO:tensorflow:Assets written to: model_experiments/model_2/assets\n"
          ]
        },
        {
          "output_type": "stream",
          "name": "stdout",
          "text": [
            "\b\b\b\b\b\b\b\b\b\b\b\b\b\b\b\b\b\b\b\b\b\b\b\b\b\b\b\b\b\b\b\b\b\b\b\b\b\b\b\b\b\b\b\b\b\b\b\b\b\b\b\b\b\b\b\b\b\b\b\b\b\b\b\b\b\b\b\b\b\b\b\b\b\b\b\b\b\b\b\b\b\b\b\b\b\b\b\b\b\b\b\b\b\b\b\b\b\b\b\b\r23/23 [==============================] - 0s 22ms/step - loss: 177.6324 - mae: 177.6324 - mse: 119054.7891 - val_loss: 1357.3289 - val_mae: 1357.3289 - val_mse: 3307076.2500\n",
            "Epoch 82/100\n",
            "23/23 [==============================] - 0s 4ms/step - loss: 152.1557 - mae: 152.1557 - mse: 99836.0469 - val_loss: 1436.3940 - val_mae: 1436.3940 - val_mse: 3615885.7500\n",
            "Epoch 83/100\n",
            "23/23 [==============================] - 0s 4ms/step - loss: 157.7248 - mae: 157.7248 - mse: 102996.1719 - val_loss: 1361.3562 - val_mae: 1361.3563 - val_mse: 3327130.7500\n",
            "Epoch 84/100\n",
            "23/23 [==============================] - 0s 4ms/step - loss: 155.7147 - mae: 155.7147 - mse: 99721.4844 - val_loss: 1817.2955 - val_mae: 1817.2955 - val_mse: 5325910.0000\n",
            "Epoch 85/100\n",
            "23/23 [==============================] - 0s 5ms/step - loss: 156.7258 - mae: 156.7258 - mse: 103729.8203 - val_loss: 1646.9579 - val_mae: 1646.9579 - val_mse: 4412270.0000\n",
            "Epoch 86/100\n",
            "23/23 [==============================] - 0s 4ms/step - loss: 163.1177 - mae: 163.1177 - mse: 106498.2734 - val_loss: 1450.4087 - val_mae: 1450.4087 - val_mse: 3618267.5000\n",
            "Epoch 87/100\n",
            "23/23 [==============================] - 0s 4ms/step - loss: 180.4773 - mae: 180.4773 - mse: 118153.4062 - val_loss: 1360.6758 - val_mae: 1360.6758 - val_mse: 3316354.0000\n",
            "Epoch 88/100\n",
            "18/23 [======================>.......] - ETA: 0s - loss: 147.8707 - mae: 147.8707 - mse: 98166.7891INFO:tensorflow:Assets written to: model_experiments/model_2/assets\n"
          ]
        },
        {
          "output_type": "stream",
          "name": "stderr",
          "text": [
            "INFO:tensorflow:Assets written to: model_experiments/model_2/assets\n"
          ]
        },
        {
          "output_type": "stream",
          "name": "stdout",
          "text": [
            "\b\b\b\b\b\b\b\b\b\b\b\b\b\b\b\b\b\b\b\b\b\b\b\b\b\b\b\b\b\b\b\b\b\b\b\b\b\b\b\b\b\b\b\b\b\b\b\b\b\b\b\b\b\b\b\b\b\b\b\b\b\b\b\b\b\b\b\b\b\b\b\b\b\b\b\b\b\b\b\b\b\b\b\b\b\b\b\b\b\b\b\b\b\b\b\b\b\b\b\r23/23 [==============================] - 0s 21ms/step - loss: 149.9984 - mae: 149.9984 - mse: 99153.6797 - val_loss: 1342.3201 - val_mae: 1342.3199 - val_mse: 3248894.0000\n",
            "Epoch 89/100\n",
            "23/23 [==============================] - 0s 5ms/step - loss: 163.9946 - mae: 163.9946 - mse: 104618.2344 - val_loss: 1503.9655 - val_mae: 1503.9655 - val_mse: 3824851.7500\n",
            "Epoch 90/100\n",
            "23/23 [==============================] - 0s 4ms/step - loss: 184.4120 - mae: 184.4120 - mse: 126426.7656 - val_loss: 1790.1810 - val_mae: 1790.1810 - val_mse: 5183078.0000\n",
            "Epoch 91/100\n",
            "23/23 [==============================] - 0s 4ms/step - loss: 179.6608 - mae: 179.6608 - mse: 118441.0703 - val_loss: 1680.9893 - val_mae: 1680.9893 - val_mse: 4546803.0000\n",
            "Epoch 92/100\n",
            "23/23 [==============================] - 0s 5ms/step - loss: 158.4710 - mae: 158.4710 - mse: 106129.5391 - val_loss: 1357.7875 - val_mae: 1357.7875 - val_mse: 3304439.2500\n",
            "Epoch 93/100\n",
            "23/23 [==============================] - 0s 4ms/step - loss: 150.2701 - mae: 150.2701 - mse: 99261.5312 - val_loss: 1952.5845 - val_mae: 1952.5845 - val_mse: 5973635.0000\n",
            "Epoch 94/100\n",
            "23/23 [==============================] - 0s 5ms/step - loss: 190.9897 - mae: 190.9897 - mse: 132087.1094 - val_loss: 1348.1371 - val_mae: 1348.1373 - val_mse: 3279771.0000\n",
            "Epoch 95/100\n",
            "21/23 [==========================>...] - ETA: 0s - loss: 161.0756 - mae: 161.0756 - mse: 104291.0469INFO:tensorflow:Assets written to: model_experiments/model_2/assets\n"
          ]
        },
        {
          "output_type": "stream",
          "name": "stderr",
          "text": [
            "INFO:tensorflow:Assets written to: model_experiments/model_2/assets\n"
          ]
        },
        {
          "output_type": "stream",
          "name": "stdout",
          "text": [
            "\b\b\b\b\b\b\b\b\b\b\b\b\b\b\b\b\b\b\b\b\b\b\b\b\b\b\b\b\b\b\b\b\b\b\b\b\b\b\b\b\b\b\b\b\b\b\b\b\b\b\b\b\b\b\b\b\b\b\b\b\b\b\b\b\b\b\b\b\b\b\b\b\b\b\b\b\b\b\b\b\b\b\b\b\b\b\b\b\b\b\b\b\b\b\b\b\b\b\b\b\r23/23 [==============================] - 0s 21ms/step - loss: 162.4292 - mae: 162.4292 - mse: 106748.4297 - val_loss: 1339.8077 - val_mae: 1339.8077 - val_mse: 3241047.2500\n",
            "Epoch 96/100\n",
            "23/23 [==============================] - 0s 4ms/step - loss: 170.4959 - mae: 170.4959 - mse: 109407.9219 - val_loss: 1380.9536 - val_mae: 1380.9536 - val_mse: 3402915.0000\n",
            "Epoch 97/100\n",
            "23/23 [==============================] - 0s 4ms/step - loss: 154.3425 - mae: 154.3425 - mse: 103103.9922 - val_loss: 1365.6418 - val_mae: 1365.6418 - val_mse: 3307457.7500\n",
            "Epoch 98/100\n",
            "21/23 [==========================>...] - ETA: 0s - loss: 152.0255 - mae: 152.0255 - mse: 98064.1094INFO:tensorflow:Assets written to: model_experiments/model_2/assets\n"
          ]
        },
        {
          "output_type": "stream",
          "name": "stderr",
          "text": [
            "INFO:tensorflow:Assets written to: model_experiments/model_2/assets\n"
          ]
        },
        {
          "output_type": "stream",
          "name": "stdout",
          "text": [
            "\b\b\b\b\b\b\b\b\b\b\b\b\b\b\b\b\b\b\b\b\b\b\b\b\b\b\b\b\b\b\b\b\b\b\b\b\b\b\b\b\b\b\b\b\b\b\b\b\b\b\b\b\b\b\b\b\b\b\b\b\b\b\b\b\b\b\b\b\b\b\b\b\b\b\b\b\b\b\b\b\b\b\b\b\b\b\b\b\b\b\b\b\b\b\b\b\b\b\b\r23/23 [==============================] - 0s 21ms/step - loss: 153.4366 - mae: 153.4366 - mse: 99105.0234 - val_loss: 1337.3606 - val_mae: 1337.3606 - val_mse: 3230423.2500\n",
            "Epoch 99/100\n",
            "20/23 [=========================>....] - ETA: 0s - loss: 164.4608 - mae: 164.4608 - mse: 107284.9375INFO:tensorflow:Assets written to: model_experiments/model_2/assets\n"
          ]
        },
        {
          "output_type": "stream",
          "name": "stderr",
          "text": [
            "INFO:tensorflow:Assets written to: model_experiments/model_2/assets\n"
          ]
        },
        {
          "output_type": "stream",
          "name": "stdout",
          "text": [
            "\b\b\b\b\b\b\b\b\b\b\b\b\b\b\b\b\b\b\b\b\b\b\b\b\b\b\b\b\b\b\b\b\b\b\b\b\b\b\b\b\b\b\b\b\b\b\b\b\b\b\b\b\b\b\b\b\b\b\b\b\b\b\b\b\b\b\b\b\b\b\b\b\b\b\b\b\b\b\b\b\b\b\b\b\b\b\b\b\b\b\b\b\b\b\b\b\b\b\b\b\r23/23 [==============================] - 0s 21ms/step - loss: 164.0527 - mae: 164.0527 - mse: 107282.3125 - val_loss: 1329.2882 - val_mae: 1329.2882 - val_mse: 3200148.7500\n",
            "Epoch 100/100\n",
            "23/23 [==============================] - 0s 5ms/step - loss: 158.7130 - mae: 158.7130 - mse: 100480.2891 - val_loss: 1373.6553 - val_mae: 1373.6553 - val_mse: 3340394.2500\n"
          ]
        },
        {
          "output_type": "execute_result",
          "data": {
            "text/plain": [
              "<keras.callbacks.History at 0x7fc58b4422d0>"
            ]
          },
          "metadata": {},
          "execution_count": 105
        }
      ]
    },
    {
      "cell_type": "code",
      "source": [
        "model_2 = tf.keras.models.load_model('/content/model_experiments/model_2')\n",
        "model_2.evaluate(test_windows, test_labels)"
      ],
      "metadata": {
        "colab": {
          "base_uri": "https://localhost:8080/"
        },
        "id": "9l4pFzpTqdpw",
        "outputId": "5018d3f6-935b-4f4d-9c07-fe89e69047ae"
      },
      "execution_count": null,
      "outputs": [
        {
          "output_type": "stream",
          "name": "stdout",
          "text": [
            "18/18 [==============================] - 0s 2ms/step - loss: 1329.2882 - mae: 1329.2882 - mse: 3200148.2500\n"
          ]
        },
        {
          "output_type": "execute_result",
          "data": {
            "text/plain": [
              "[1329.2882080078125, 1329.2882080078125, 3200148.25]"
            ]
          },
          "metadata": {},
          "execution_count": 106
        }
      ]
    },
    {
      "cell_type": "code",
      "source": [
        "model_2_preds = make_preds(model_2, test_windows)\n",
        "model_2_results = evaluate_pred(y_true = tf.squeeze(test_labels), y_pred = model_2_preds)\n",
        "model_2_results"
      ],
      "metadata": {
        "colab": {
          "base_uri": "https://localhost:8080/"
        },
        "id": "eszlJiXupFjt",
        "outputId": "a98efe83-8c12-44ed-e34c-965898991632"
      },
      "execution_count": null,
      "outputs": [
        {
          "output_type": "execute_result",
          "data": {
            "text/plain": [
              "{'mae': 1329.2881,\n",
              " 'mape': 3.159117,\n",
              " 'mase': 1.0594501,\n",
              " 'mse': 3200148.8,\n",
              " 'rmse': 1788.8959}"
            ]
          },
          "metadata": {},
          "execution_count": 107
        }
      ]
    },
    {
      "cell_type": "code",
      "source": [
        "naive_results"
      ],
      "metadata": {
        "colab": {
          "base_uri": "https://localhost:8080/"
        },
        "id": "dGpHMcb8qtvg",
        "outputId": "43518b0c-274a-4407-e889-92a6acb83c17"
      },
      "execution_count": null,
      "outputs": [
        {
          "output_type": "execute_result",
          "data": {
            "text/plain": [
              "{'mae': 1245.2593,\n",
              " 'mape': 2.9662337,\n",
              " 'mase': 0.99879736,\n",
              " 'mse': 2924243.8,\n",
              " 'rmse': 1710.042}"
            ]
          },
          "metadata": {},
          "execution_count": 108
        }
      ]
    },
    {
      "cell_type": "code",
      "source": [
        "offset = 300\n",
        "plt.figure(figsize=(10,7))\n",
        "plot_time_series(timesteps = X_test[-len(test_windows):], values = test_labels[:, 0], start = offset,label = \"Test Data\")\n",
        "plot_time_series(timesteps = X_test[-len(test_windows):], values = model_2_preds, start = offset, format = '-', label = 'model_2_preds')"
      ],
      "metadata": {
        "colab": {
          "base_uri": "https://localhost:8080/"
        },
        "id": "-t5hWaKaq2JN",
        "outputId": "94e35de4-7d9f-479c-9a71-fae7c93411e2"
      },
      "execution_count": null,
      "outputs": [
        {
          "output_type": "display_data",
          "data": {
            "text/plain": [
              "<Figure size 720x504 with 1 Axes>"
            ],
            "image/png": "[encoded data removed]"
          },
          "metadata": {
            "needs_background": "light"
          }
        }
      ]
    },
    {
      "cell_type": "markdown",
      "source": [
        "### Model 3: Dense Model (window = 30, horizon = 1)"
      ],
      "metadata": {
        "id": "8Fcd24KVuhrO"
      }
    },
    {
      "cell_type": "code",
      "source": [
        "WINDOW_SIZE = 30\n",
        "HORIZON = 7\n",
        "full_windows, full_labels = make_windows(prices, window_size = WINDOW_SIZE, horizon = HORIZON)\n",
        "train_windows, test_windows, train_labels, test_labels = make_train_test_splits(full_windows, full_labels)"
      ],
      "metadata": {
        "id": "1jUjF3YdoAm9"
      },
      "execution_count": null,
      "outputs": []
    },
    {
      "cell_type": "code",
      "source": [
        "import tensorflow as tf\n",
        "from tensorflow.keras import layers\n",
        "\n",
        "tf.random.set_seed(42)\n",
        "model_3 = tf.keras.Sequential([\n",
        "  layers.Dense(128, activation = 'relu'),\n",
        "  layers.Dense(HORIZON, activation = 'linear')\n",
        "], name = 'model_3')\n",
        "\n",
        "model_3.compile(loss = \"mae\", \n",
        "                optimizer = tf.keras.optimizers.Adam(),\n",
        "                metrics = ['mae', 'mse'])\n",
        "\n",
        "model_3.fit(x = train_windows,y = train_labels, \n",
        "            epochs = 100, \n",
        "            verbose = 0, \n",
        "            batch_size = 100, \n",
        "            validation_data = (test_windows, test_labels), \n",
        "            callbacks = [create_model_checkpoint(model_name = model_3.name)])"
      ],
      "metadata": {
        "colab": {
          "base_uri": "https://localhost:8080/"
        },
        "id": "uK5Qgzmboj5-",
        "outputId": "1e299f52-6cd8-4088-871b-1f2a8c35b1ee"
      },
      "execution_count": null,
      "outputs": [
        {
          "output_type": "stream",
          "name": "stdout",
          "text": [
            "INFO:tensorflow:Assets written to: model_experiments/model_3/assets\n"
          ]
        },
        {
          "output_type": "stream",
          "name": "stderr",
          "text": [
            "INFO:tensorflow:Assets written to: model_experiments/model_3/assets\n"
          ]
        },
        {
          "output_type": "stream",
          "name": "stdout",
          "text": [
            "INFO:tensorflow:Assets written to: model_experiments/model_3/assets\n"
          ]
        },
        {
          "output_type": "stream",
          "name": "stderr",
          "text": [
            "INFO:tensorflow:Assets written to: model_experiments/model_3/assets\n"
          ]
        },
        {
          "output_type": "stream",
          "name": "stdout",
          "text": [
            "INFO:tensorflow:Assets written to: model_experiments/model_3/assets\n"
          ]
        },
        {
          "output_type": "stream",
          "name": "stderr",
          "text": [
            "INFO:tensorflow:Assets written to: model_experiments/model_3/assets\n"
          ]
        },
        {
          "output_type": "stream",
          "name": "stdout",
          "text": [
            "INFO:tensorflow:Assets written to: model_experiments/model_3/assets\n"
          ]
        },
        {
          "output_type": "stream",
          "name": "stderr",
          "text": [
            "INFO:tensorflow:Assets written to: model_experiments/model_3/assets\n"
          ]
        },
        {
          "output_type": "stream",
          "name": "stdout",
          "text": [
            "INFO:tensorflow:Assets written to: model_experiments/model_3/assets\n"
          ]
        },
        {
          "output_type": "stream",
          "name": "stderr",
          "text": [
            "INFO:tensorflow:Assets written to: model_experiments/model_3/assets\n"
          ]
        },
        {
          "output_type": "stream",
          "name": "stdout",
          "text": [
            "INFO:tensorflow:Assets written to: model_experiments/model_3/assets\n"
          ]
        },
        {
          "output_type": "stream",
          "name": "stderr",
          "text": [
            "INFO:tensorflow:Assets written to: model_experiments/model_3/assets\n"
          ]
        },
        {
          "output_type": "stream",
          "name": "stdout",
          "text": [
            "INFO:tensorflow:Assets written to: model_experiments/model_3/assets\n"
          ]
        },
        {
          "output_type": "stream",
          "name": "stderr",
          "text": [
            "INFO:tensorflow:Assets written to: model_experiments/model_3/assets\n"
          ]
        },
        {
          "output_type": "stream",
          "name": "stdout",
          "text": [
            "INFO:tensorflow:Assets written to: model_experiments/model_3/assets\n"
          ]
        },
        {
          "output_type": "stream",
          "name": "stderr",
          "text": [
            "INFO:tensorflow:Assets written to: model_experiments/model_3/assets\n"
          ]
        },
        {
          "output_type": "stream",
          "name": "stdout",
          "text": [
            "INFO:tensorflow:Assets written to: model_experiments/model_3/assets\n"
          ]
        },
        {
          "output_type": "stream",
          "name": "stderr",
          "text": [
            "INFO:tensorflow:Assets written to: model_experiments/model_3/assets\n"
          ]
        },
        {
          "output_type": "stream",
          "name": "stdout",
          "text": [
            "INFO:tensorflow:Assets written to: model_experiments/model_3/assets\n"
          ]
        },
        {
          "output_type": "stream",
          "name": "stderr",
          "text": [
            "INFO:tensorflow:Assets written to: model_experiments/model_3/assets\n"
          ]
        },
        {
          "output_type": "stream",
          "name": "stdout",
          "text": [
            "INFO:tensorflow:Assets written to: model_experiments/model_3/assets\n"
          ]
        },
        {
          "output_type": "stream",
          "name": "stderr",
          "text": [
            "INFO:tensorflow:Assets written to: model_experiments/model_3/assets\n"
          ]
        },
        {
          "output_type": "stream",
          "name": "stdout",
          "text": [
            "INFO:tensorflow:Assets written to: model_experiments/model_3/assets\n"
          ]
        },
        {
          "output_type": "stream",
          "name": "stderr",
          "text": [
            "INFO:tensorflow:Assets written to: model_experiments/model_3/assets\n"
          ]
        },
        {
          "output_type": "stream",
          "name": "stdout",
          "text": [
            "INFO:tensorflow:Assets written to: model_experiments/model_3/assets\n"
          ]
        },
        {
          "output_type": "stream",
          "name": "stderr",
          "text": [
            "INFO:tensorflow:Assets written to: model_experiments/model_3/assets\n"
          ]
        },
        {
          "output_type": "stream",
          "name": "stdout",
          "text": [
            "INFO:tensorflow:Assets written to: model_experiments/model_3/assets\n"
          ]
        },
        {
          "output_type": "stream",
          "name": "stderr",
          "text": [
            "INFO:tensorflow:Assets written to: model_experiments/model_3/assets\n"
          ]
        },
        {
          "output_type": "stream",
          "name": "stdout",
          "text": [
            "INFO:tensorflow:Assets written to: model_experiments/model_3/assets\n"
          ]
        },
        {
          "output_type": "stream",
          "name": "stderr",
          "text": [
            "INFO:tensorflow:Assets written to: model_experiments/model_3/assets\n"
          ]
        },
        {
          "output_type": "stream",
          "name": "stdout",
          "text": [
            "INFO:tensorflow:Assets written to: model_experiments/model_3/assets\n"
          ]
        },
        {
          "output_type": "stream",
          "name": "stderr",
          "text": [
            "INFO:tensorflow:Assets written to: model_experiments/model_3/assets\n"
          ]
        },
        {
          "output_type": "stream",
          "name": "stdout",
          "text": [
            "INFO:tensorflow:Assets written to: model_experiments/model_3/assets\n"
          ]
        },
        {
          "output_type": "stream",
          "name": "stderr",
          "text": [
            "INFO:tensorflow:Assets written to: model_experiments/model_3/assets\n"
          ]
        },
        {
          "output_type": "stream",
          "name": "stdout",
          "text": [
            "INFO:tensorflow:Assets written to: model_experiments/model_3/assets\n"
          ]
        },
        {
          "output_type": "stream",
          "name": "stderr",
          "text": [
            "INFO:tensorflow:Assets written to: model_experiments/model_3/assets\n"
          ]
        },
        {
          "output_type": "stream",
          "name": "stdout",
          "text": [
            "INFO:tensorflow:Assets written to: model_experiments/model_3/assets\n"
          ]
        },
        {
          "output_type": "stream",
          "name": "stderr",
          "text": [
            "INFO:tensorflow:Assets written to: model_experiments/model_3/assets\n"
          ]
        },
        {
          "output_type": "stream",
          "name": "stdout",
          "text": [
            "INFO:tensorflow:Assets written to: model_experiments/model_3/assets\n"
          ]
        },
        {
          "output_type": "stream",
          "name": "stderr",
          "text": [
            "INFO:tensorflow:Assets written to: model_experiments/model_3/assets\n"
          ]
        },
        {
          "output_type": "stream",
          "name": "stdout",
          "text": [
            "INFO:tensorflow:Assets written to: model_experiments/model_3/assets\n"
          ]
        },
        {
          "output_type": "stream",
          "name": "stderr",
          "text": [
            "INFO:tensorflow:Assets written to: model_experiments/model_3/assets\n"
          ]
        },
        {
          "output_type": "stream",
          "name": "stdout",
          "text": [
            "INFO:tensorflow:Assets written to: model_experiments/model_3/assets\n"
          ]
        },
        {
          "output_type": "stream",
          "name": "stderr",
          "text": [
            "INFO:tensorflow:Assets written to: model_experiments/model_3/assets\n"
          ]
        },
        {
          "output_type": "stream",
          "name": "stdout",
          "text": [
            "INFO:tensorflow:Assets written to: model_experiments/model_3/assets\n"
          ]
        },
        {
          "output_type": "stream",
          "name": "stderr",
          "text": [
            "INFO:tensorflow:Assets written to: model_experiments/model_3/assets\n"
          ]
        },
        {
          "output_type": "stream",
          "name": "stdout",
          "text": [
            "INFO:tensorflow:Assets written to: model_experiments/model_3/assets\n"
          ]
        },
        {
          "output_type": "stream",
          "name": "stderr",
          "text": [
            "INFO:tensorflow:Assets written to: model_experiments/model_3/assets\n"
          ]
        },
        {
          "output_type": "stream",
          "name": "stdout",
          "text": [
            "INFO:tensorflow:Assets written to: model_experiments/model_3/assets\n"
          ]
        },
        {
          "output_type": "stream",
          "name": "stderr",
          "text": [
            "INFO:tensorflow:Assets written to: model_experiments/model_3/assets\n"
          ]
        },
        {
          "output_type": "stream",
          "name": "stdout",
          "text": [
            "INFO:tensorflow:Assets written to: model_experiments/model_3/assets\n"
          ]
        },
        {
          "output_type": "stream",
          "name": "stderr",
          "text": [
            "INFO:tensorflow:Assets written to: model_experiments/model_3/assets\n"
          ]
        },
        {
          "output_type": "stream",
          "name": "stdout",
          "text": [
            "INFO:tensorflow:Assets written to: model_experiments/model_3/assets\n"
          ]
        },
        {
          "output_type": "stream",
          "name": "stderr",
          "text": [
            "INFO:tensorflow:Assets written to: model_experiments/model_3/assets\n"
          ]
        },
        {
          "output_type": "execute_result",
          "data": {
            "text/plain": [
              "<keras.callbacks.History at 0x7fc58c144390>"
            ]
          },
          "metadata": {},
          "execution_count": 111
        }
      ]
    },
    {
      "cell_type": "code",
      "source": [
        "model_3 = tf.keras.models.load_model('/content/model_experiments/model_3')\n",
        "model_3.evaluate(test_windows, test_labels)"
      ],
      "metadata": {
        "colab": {
          "base_uri": "https://localhost:8080/"
        },
        "id": "PghaGciroqqX",
        "outputId": "93e93e94-7a67-4be0-977a-36dcf578f769"
      },
      "execution_count": null,
      "outputs": [
        {
          "output_type": "stream",
          "name": "stdout",
          "text": [
            "18/18 [==============================] - 0s 2ms/step - loss: 2677.5637 - mae: 2677.5637 - mse: 13045047.0000\n"
          ]
        },
        {
          "output_type": "execute_result",
          "data": {
            "text/plain": [
              "[2677.563720703125, 2677.563720703125, 13045047.0]"
            ]
          },
          "metadata": {},
          "execution_count": 112
        }
      ]
    },
    {
      "cell_type": "code",
      "source": [
        "model_3_preds = make_preds(model_3, test_windows)\n",
        "model_3_results = evaluate_pred(y_true = tf.squeeze(test_labels), y_pred = model_3_preds)\n",
        "model_3_results"
      ],
      "metadata": {
        "colab": {
          "base_uri": "https://localhost:8080/"
        },
        "id": "JQAr2pqgo3l7",
        "outputId": "dd43a90d-71fc-4fc3-f69a-bd299dc67c37"
      },
      "execution_count": null,
      "outputs": [
        {
          "output_type": "execute_result",
          "data": {
            "text/plain": [
              "{'mae': 2677.564,\n",
              " 'mape': 6.4224863,\n",
              " 'mase': 2.1370761,\n",
              " 'mse': 13045047.0,\n",
              " 'rmse': 3073.5884}"
            ]
          },
          "metadata": {},
          "execution_count": 113
        }
      ]
    },
    {
      "cell_type": "code",
      "source": [
        "naive_results"
      ],
      "metadata": {
        "colab": {
          "base_uri": "https://localhost:8080/"
        },
        "id": "JxzylzGco7V9",
        "outputId": "56f39ef9-4d96-4e50-adf8-ab7accd67b1d"
      },
      "execution_count": null,
      "outputs": [
        {
          "output_type": "execute_result",
          "data": {
            "text/plain": [
              "{'mae': 1245.2593,\n",
              " 'mape': 2.9662337,\n",
              " 'mase': 0.99879736,\n",
              " 'mse': 2924243.8,\n",
              " 'rmse': 1710.042}"
            ]
          },
          "metadata": {},
          "execution_count": 114
        }
      ]
    },
    {
      "cell_type": "code",
      "source": [
        "offset = 300\n",
        "plt.figure(figsize=(10,7))\n",
        "plot_time_series(timesteps = X_test[-len(test_windows):], values = test_labels[:, 0], start = offset,format = '-', label = \"Test Data\")\n",
        "plot_time_series(timesteps = X_test[-len(test_windows):], values = model_3_preds, start = offset, label = 'model_3_preds')"
      ],
      "metadata": {
        "colab": {
          "base_uri": "https://localhost:8080/"
        },
        "id": "8IUXZGa8o8E1",
        "outputId": "325c7756-0de2-4644-d6f4-6e72043a0093"
      },
      "execution_count": null,
      "outputs": [
        {
          "output_type": "display_data",
          "data": {
            "text/plain": [
              "<Figure size 720x504 with 1 Axes>"
            ],
            "image/png": "[encoded data removed]"
          },
          "metadata": {
            "needs_background": "light"
          }
        }
      ]
    },
    {
      "cell_type": "code",
      "source": [
        "offset = 300\n",
        "plt.figure(figsize=(10,7))\n",
        "plot_time_series(timesteps = X_test[-len(test_windows):], values = test_labels[:, 0], start = offset, format = '-' ,label = \"Test Data\")\n",
        "plot_time_series(timesteps = X_test[-len(test_windows):], values = tf.reduce_mean(model_3_preds, axis = 1), start = offset, format = '-', label = 'model_3_preds')"
      ],
      "metadata": {
        "colab": {
          "base_uri": "https://localhost:8080/"
        },
        "id": "Wd8UDzYYvLbk",
        "outputId": "3fda3b7e-5851-4382-c5f5-80b00c051ef7"
      },
      "execution_count": null,
      "outputs": [
        {
          "output_type": "display_data",
          "data": {
            "text/plain": [
              "<Figure size 720x504 with 1 Axes>"
            ],
            "image/png": "[encoded data removed]"
          },
          "metadata": {
            "needs_background": "light"
          }
        }
      ]
    },
    {
      "cell_type": "markdown",
      "source": [
        "### Comparing 3 models"
      ],
      "metadata": {
        "id": "wl7Jc9NEwGd8"
      }
    },
    {
      "cell_type": "code",
      "source": [
        "pd.DataFrame({\"naive\": naive_results[\"mae\"],\n",
        "              \"horizon_1_window_7\": model_1_results[\"mae\"],\n",
        "              \"horizon_1_window_30\": model_2_results[\"mae\"],\n",
        "              \"horizon_7_window_30\": model_3_results[\"mae\"]}, index = [\"mae\"]).plot(figsize = (10, 7), kind = \"bar\")"
      ],
      "metadata": {
        "colab": {
          "base_uri": "https://localhost:8080/"
        },
        "id": "9L8dyjNNwLIB",
        "outputId": "60fab36b-f2c5-4a49-a804-3876215a58bf"
      },
      "execution_count": null,
      "outputs": [
        {
          "output_type": "execute_result",
          "data": {
            "text/plain": [
              "<matplotlib.axes._subplots.AxesSubplot at 0x7fc58b3f4410>"
            ]
          },
          "metadata": {},
          "execution_count": 117
        },
        {
          "output_type": "display_data",
          "data": {
            "text/plain": [
              "<Figure size 720x504 with 1 Axes>"
            ],
            "image/png": "[encoded data removed]"
          },
          "metadata": {
            "needs_background": "light"
          }
        }
      ]
    },
    {
      "cell_type": "markdown",
      "source": [
        "### Model 4: Conv 1D"
      ],
      "metadata": {
        "id": "nd7Uro6Y0QiD"
      }
    },
    {
      "cell_type": "code",
      "source": [
        "HORIZON = 1\n",
        "WINDOW_SIZE = 7"
      ],
      "metadata": {
        "id": "zR2KPdQk0ZDs"
      },
      "execution_count": null,
      "outputs": []
    },
    {
      "cell_type": "code",
      "source": [
        "full_windows, full_labels = make_windows(prices, window_size = WINDOW_SIZE, horizon = HORIZON)\n",
        "train_windows, test_windows, train_labels, test_labels = make_train_test_splits(full_windows, full_labels)"
      ],
      "metadata": {
        "id": "mHDsHuz45Enh"
      },
      "execution_count": null,
      "outputs": []
    },
    {
      "cell_type": "code",
      "source": [
        "x = tf.constant(train_windows[0])\n",
        "x"
      ],
      "metadata": {
        "colab": {
          "base_uri": "https://localhost:8080/"
        },
        "id": "yB2zkxmY5M2o",
        "outputId": "994d35d7-c438-401d-ab79-a5c95ccc65d8"
      },
      "execution_count": null,
      "outputs": [
        {
          "output_type": "execute_result",
          "data": {
            "text/plain": [
              "<tf.Tensor: shape=(7,), dtype=float64, numpy=\n",
              "array([457.334015, 424.440002, 394.79599 , 408.903992, 398.821014,\n",
              "       402.152008, 435.790985])>"
            ]
          },
          "metadata": {},
          "execution_count": 120
        }
      ]
    },
    {
      "cell_type": "code",
      "source": [
        "expand_dims_layer = layers.Lambda(lambda x: tf.expand_dims(x, axis=1))"
      ],
      "metadata": {
        "id": "FQ8T35bS6VAW"
      },
      "execution_count": null,
      "outputs": []
    },
    {
      "cell_type": "code",
      "source": [
        "tf.random.set_seed(42)\n",
        "model_4 = tf.keras.Sequential([\n",
        "                               layers.Lambda(lambda x: tf.expand_dims(x, axis = 1)),\n",
        "                               layers.Conv1D(filters = 128, kernel_size=5, strides=1, padding=\"causal\", activation=\"relu\"),\n",
        "                               layers.Dense(HORIZON)\n",
        "                               ], name = 'model_4')\n",
        "model_4.compile(loss = 'mae', \n",
        "                optimizer = tf.keras.optimizers.Adam())\n",
        "model_4.fit(train_windows,\n",
        "            train_labels,\n",
        "            batch_size=128,\n",
        "            epochs=100,\n",
        "            verbose=0,\n",
        "            validation_data=(test_windows,test_labels),\n",
        "            callbacks=[create_model_checkpoint(model_name=model_4.name)])"
      ],
      "metadata": {
        "colab": {
          "base_uri": "https://localhost:8080/"
        },
        "id": "C8XAQc1b6fe5",
        "outputId": "812f0d27-1997-46c9-f7f5-f471e58a407c"
      },
      "execution_count": null,
      "outputs": [
        {
          "output_type": "stream",
          "name": "stdout",
          "text": [
            "INFO:tensorflow:Assets written to: model_experiments/model_4/assets\n"
          ]
        },
        {
          "output_type": "stream",
          "name": "stderr",
          "text": [
            "INFO:tensorflow:Assets written to: model_experiments/model_4/assets\n"
          ]
        },
        {
          "output_type": "stream",
          "name": "stdout",
          "text": [
            "INFO:tensorflow:Assets written to: model_experiments/model_4/assets\n"
          ]
        },
        {
          "output_type": "stream",
          "name": "stderr",
          "text": [
            "INFO:tensorflow:Assets written to: model_experiments/model_4/assets\n"
          ]
        },
        {
          "output_type": "stream",
          "name": "stdout",
          "text": [
            "INFO:tensorflow:Assets written to: model_experiments/model_4/assets\n"
          ]
        },
        {
          "output_type": "stream",
          "name": "stderr",
          "text": [
            "INFO:tensorflow:Assets written to: model_experiments/model_4/assets\n"
          ]
        },
        {
          "output_type": "stream",
          "name": "stdout",
          "text": [
            "INFO:tensorflow:Assets written to: model_experiments/model_4/assets\n"
          ]
        },
        {
          "output_type": "stream",
          "name": "stderr",
          "text": [
            "INFO:tensorflow:Assets written to: model_experiments/model_4/assets\n"
          ]
        },
        {
          "output_type": "stream",
          "name": "stdout",
          "text": [
            "INFO:tensorflow:Assets written to: model_experiments/model_4/assets\n"
          ]
        },
        {
          "output_type": "stream",
          "name": "stderr",
          "text": [
            "INFO:tensorflow:Assets written to: model_experiments/model_4/assets\n"
          ]
        },
        {
          "output_type": "stream",
          "name": "stdout",
          "text": [
            "INFO:tensorflow:Assets written to: model_experiments/model_4/assets\n"
          ]
        },
        {
          "output_type": "stream",
          "name": "stderr",
          "text": [
            "INFO:tensorflow:Assets written to: model_experiments/model_4/assets\n"
          ]
        },
        {
          "output_type": "stream",
          "name": "stdout",
          "text": [
            "INFO:tensorflow:Assets written to: model_experiments/model_4/assets\n"
          ]
        },
        {
          "output_type": "stream",
          "name": "stderr",
          "text": [
            "INFO:tensorflow:Assets written to: model_experiments/model_4/assets\n"
          ]
        },
        {
          "output_type": "stream",
          "name": "stdout",
          "text": [
            "INFO:tensorflow:Assets written to: model_experiments/model_4/assets\n"
          ]
        },
        {
          "output_type": "stream",
          "name": "stderr",
          "text": [
            "INFO:tensorflow:Assets written to: model_experiments/model_4/assets\n"
          ]
        },
        {
          "output_type": "stream",
          "name": "stdout",
          "text": [
            "INFO:tensorflow:Assets written to: model_experiments/model_4/assets\n"
          ]
        },
        {
          "output_type": "stream",
          "name": "stderr",
          "text": [
            "INFO:tensorflow:Assets written to: model_experiments/model_4/assets\n"
          ]
        },
        {
          "output_type": "stream",
          "name": "stdout",
          "text": [
            "INFO:tensorflow:Assets written to: model_experiments/model_4/assets\n"
          ]
        },
        {
          "output_type": "stream",
          "name": "stderr",
          "text": [
            "INFO:tensorflow:Assets written to: model_experiments/model_4/assets\n"
          ]
        },
        {
          "output_type": "stream",
          "name": "stdout",
          "text": [
            "INFO:tensorflow:Assets written to: model_experiments/model_4/assets\n"
          ]
        },
        {
          "output_type": "stream",
          "name": "stderr",
          "text": [
            "INFO:tensorflow:Assets written to: model_experiments/model_4/assets\n"
          ]
        },
        {
          "output_type": "stream",
          "name": "stdout",
          "text": [
            "INFO:tensorflow:Assets written to: model_experiments/model_4/assets\n"
          ]
        },
        {
          "output_type": "stream",
          "name": "stderr",
          "text": [
            "INFO:tensorflow:Assets written to: model_experiments/model_4/assets\n"
          ]
        },
        {
          "output_type": "stream",
          "name": "stdout",
          "text": [
            "INFO:tensorflow:Assets written to: model_experiments/model_4/assets\n"
          ]
        },
        {
          "output_type": "stream",
          "name": "stderr",
          "text": [
            "INFO:tensorflow:Assets written to: model_experiments/model_4/assets\n"
          ]
        },
        {
          "output_type": "stream",
          "name": "stdout",
          "text": [
            "INFO:tensorflow:Assets written to: model_experiments/model_4/assets\n"
          ]
        },
        {
          "output_type": "stream",
          "name": "stderr",
          "text": [
            "INFO:tensorflow:Assets written to: model_experiments/model_4/assets\n"
          ]
        },
        {
          "output_type": "stream",
          "name": "stdout",
          "text": [
            "INFO:tensorflow:Assets written to: model_experiments/model_4/assets\n"
          ]
        },
        {
          "output_type": "stream",
          "name": "stderr",
          "text": [
            "INFO:tensorflow:Assets written to: model_experiments/model_4/assets\n"
          ]
        },
        {
          "output_type": "stream",
          "name": "stdout",
          "text": [
            "INFO:tensorflow:Assets written to: model_experiments/model_4/assets\n"
          ]
        },
        {
          "output_type": "stream",
          "name": "stderr",
          "text": [
            "INFO:tensorflow:Assets written to: model_experiments/model_4/assets\n"
          ]
        },
        {
          "output_type": "stream",
          "name": "stdout",
          "text": [
            "INFO:tensorflow:Assets written to: model_experiments/model_4/assets\n"
          ]
        },
        {
          "output_type": "stream",
          "name": "stderr",
          "text": [
            "INFO:tensorflow:Assets written to: model_experiments/model_4/assets\n"
          ]
        },
        {
          "output_type": "stream",
          "name": "stdout",
          "text": [
            "INFO:tensorflow:Assets written to: model_experiments/model_4/assets\n"
          ]
        },
        {
          "output_type": "stream",
          "name": "stderr",
          "text": [
            "INFO:tensorflow:Assets written to: model_experiments/model_4/assets\n"
          ]
        },
        {
          "output_type": "stream",
          "name": "stdout",
          "text": [
            "INFO:tensorflow:Assets written to: model_experiments/model_4/assets\n"
          ]
        },
        {
          "output_type": "stream",
          "name": "stderr",
          "text": [
            "INFO:tensorflow:Assets written to: model_experiments/model_4/assets\n"
          ]
        },
        {
          "output_type": "stream",
          "name": "stdout",
          "text": [
            "INFO:tensorflow:Assets written to: model_experiments/model_4/assets\n"
          ]
        },
        {
          "output_type": "stream",
          "name": "stderr",
          "text": [
            "INFO:tensorflow:Assets written to: model_experiments/model_4/assets\n"
          ]
        },
        {
          "output_type": "stream",
          "name": "stdout",
          "text": [
            "INFO:tensorflow:Assets written to: model_experiments/model_4/assets\n"
          ]
        },
        {
          "output_type": "stream",
          "name": "stderr",
          "text": [
            "INFO:tensorflow:Assets written to: model_experiments/model_4/assets\n"
          ]
        },
        {
          "output_type": "stream",
          "name": "stdout",
          "text": [
            "INFO:tensorflow:Assets written to: model_experiments/model_4/assets\n"
          ]
        },
        {
          "output_type": "stream",
          "name": "stderr",
          "text": [
            "INFO:tensorflow:Assets written to: model_experiments/model_4/assets\n"
          ]
        },
        {
          "output_type": "stream",
          "name": "stdout",
          "text": [
            "INFO:tensorflow:Assets written to: model_experiments/model_4/assets\n"
          ]
        },
        {
          "output_type": "stream",
          "name": "stderr",
          "text": [
            "INFO:tensorflow:Assets written to: model_experiments/model_4/assets\n"
          ]
        },
        {
          "output_type": "stream",
          "name": "stdout",
          "text": [
            "INFO:tensorflow:Assets written to: model_experiments/model_4/assets\n"
          ]
        },
        {
          "output_type": "stream",
          "name": "stderr",
          "text": [
            "INFO:tensorflow:Assets written to: model_experiments/model_4/assets\n"
          ]
        },
        {
          "output_type": "stream",
          "name": "stdout",
          "text": [
            "INFO:tensorflow:Assets written to: model_experiments/model_4/assets\n"
          ]
        },
        {
          "output_type": "stream",
          "name": "stderr",
          "text": [
            "INFO:tensorflow:Assets written to: model_experiments/model_4/assets\n"
          ]
        },
        {
          "output_type": "stream",
          "name": "stdout",
          "text": [
            "INFO:tensorflow:Assets written to: model_experiments/model_4/assets\n"
          ]
        },
        {
          "output_type": "stream",
          "name": "stderr",
          "text": [
            "INFO:tensorflow:Assets written to: model_experiments/model_4/assets\n"
          ]
        },
        {
          "output_type": "stream",
          "name": "stdout",
          "text": [
            "INFO:tensorflow:Assets written to: model_experiments/model_4/assets\n"
          ]
        },
        {
          "output_type": "stream",
          "name": "stderr",
          "text": [
            "INFO:tensorflow:Assets written to: model_experiments/model_4/assets\n"
          ]
        },
        {
          "output_type": "stream",
          "name": "stdout",
          "text": [
            "INFO:tensorflow:Assets written to: model_experiments/model_4/assets\n"
          ]
        },
        {
          "output_type": "stream",
          "name": "stderr",
          "text": [
            "INFO:tensorflow:Assets written to: model_experiments/model_4/assets\n"
          ]
        },
        {
          "output_type": "stream",
          "name": "stdout",
          "text": [
            "INFO:tensorflow:Assets written to: model_experiments/model_4/assets\n"
          ]
        },
        {
          "output_type": "stream",
          "name": "stderr",
          "text": [
            "INFO:tensorflow:Assets written to: model_experiments/model_4/assets\n"
          ]
        },
        {
          "output_type": "stream",
          "name": "stdout",
          "text": [
            "INFO:tensorflow:Assets written to: model_experiments/model_4/assets\n"
          ]
        },
        {
          "output_type": "stream",
          "name": "stderr",
          "text": [
            "INFO:tensorflow:Assets written to: model_experiments/model_4/assets\n"
          ]
        },
        {
          "output_type": "stream",
          "name": "stdout",
          "text": [
            "INFO:tensorflow:Assets written to: model_experiments/model_4/assets\n"
          ]
        },
        {
          "output_type": "stream",
          "name": "stderr",
          "text": [
            "INFO:tensorflow:Assets written to: model_experiments/model_4/assets\n"
          ]
        },
        {
          "output_type": "stream",
          "name": "stdout",
          "text": [
            "INFO:tensorflow:Assets written to: model_experiments/model_4/assets\n"
          ]
        },
        {
          "output_type": "stream",
          "name": "stderr",
          "text": [
            "INFO:tensorflow:Assets written to: model_experiments/model_4/assets\n"
          ]
        },
        {
          "output_type": "stream",
          "name": "stdout",
          "text": [
            "INFO:tensorflow:Assets written to: model_experiments/model_4/assets\n"
          ]
        },
        {
          "output_type": "stream",
          "name": "stderr",
          "text": [
            "INFO:tensorflow:Assets written to: model_experiments/model_4/assets\n"
          ]
        },
        {
          "output_type": "stream",
          "name": "stdout",
          "text": [
            "INFO:tensorflow:Assets written to: model_experiments/model_4/assets\n"
          ]
        },
        {
          "output_type": "stream",
          "name": "stderr",
          "text": [
            "INFO:tensorflow:Assets written to: model_experiments/model_4/assets\n"
          ]
        },
        {
          "output_type": "stream",
          "name": "stdout",
          "text": [
            "INFO:tensorflow:Assets written to: model_experiments/model_4/assets\n"
          ]
        },
        {
          "output_type": "stream",
          "name": "stderr",
          "text": [
            "INFO:tensorflow:Assets written to: model_experiments/model_4/assets\n"
          ]
        },
        {
          "output_type": "stream",
          "name": "stdout",
          "text": [
            "INFO:tensorflow:Assets written to: model_experiments/model_4/assets\n"
          ]
        },
        {
          "output_type": "stream",
          "name": "stderr",
          "text": [
            "INFO:tensorflow:Assets written to: model_experiments/model_4/assets\n"
          ]
        },
        {
          "output_type": "stream",
          "name": "stdout",
          "text": [
            "INFO:tensorflow:Assets written to: model_experiments/model_4/assets\n"
          ]
        },
        {
          "output_type": "stream",
          "name": "stderr",
          "text": [
            "INFO:tensorflow:Assets written to: model_experiments/model_4/assets\n"
          ]
        },
        {
          "output_type": "stream",
          "name": "stdout",
          "text": [
            "INFO:tensorflow:Assets written to: model_experiments/model_4/assets\n"
          ]
        },
        {
          "output_type": "stream",
          "name": "stderr",
          "text": [
            "INFO:tensorflow:Assets written to: model_experiments/model_4/assets\n"
          ]
        },
        {
          "output_type": "stream",
          "name": "stdout",
          "text": [
            "INFO:tensorflow:Assets written to: model_experiments/model_4/assets\n"
          ]
        },
        {
          "output_type": "stream",
          "name": "stderr",
          "text": [
            "INFO:tensorflow:Assets written to: model_experiments/model_4/assets\n"
          ]
        },
        {
          "output_type": "stream",
          "name": "stdout",
          "text": [
            "INFO:tensorflow:Assets written to: model_experiments/model_4/assets\n"
          ]
        },
        {
          "output_type": "stream",
          "name": "stderr",
          "text": [
            "INFO:tensorflow:Assets written to: model_experiments/model_4/assets\n"
          ]
        },
        {
          "output_type": "stream",
          "name": "stdout",
          "text": [
            "INFO:tensorflow:Assets written to: model_experiments/model_4/assets\n"
          ]
        },
        {
          "output_type": "stream",
          "name": "stderr",
          "text": [
            "INFO:tensorflow:Assets written to: model_experiments/model_4/assets\n"
          ]
        },
        {
          "output_type": "stream",
          "name": "stdout",
          "text": [
            "INFO:tensorflow:Assets written to: model_experiments/model_4/assets\n"
          ]
        },
        {
          "output_type": "stream",
          "name": "stderr",
          "text": [
            "INFO:tensorflow:Assets written to: model_experiments/model_4/assets\n"
          ]
        },
        {
          "output_type": "stream",
          "name": "stdout",
          "text": [
            "INFO:tensorflow:Assets written to: model_experiments/model_4/assets\n"
          ]
        },
        {
          "output_type": "stream",
          "name": "stderr",
          "text": [
            "INFO:tensorflow:Assets written to: model_experiments/model_4/assets\n"
          ]
        },
        {
          "output_type": "stream",
          "name": "stdout",
          "text": [
            "INFO:tensorflow:Assets written to: model_experiments/model_4/assets\n"
          ]
        },
        {
          "output_type": "stream",
          "name": "stderr",
          "text": [
            "INFO:tensorflow:Assets written to: model_experiments/model_4/assets\n"
          ]
        },
        {
          "output_type": "stream",
          "name": "stdout",
          "text": [
            "INFO:tensorflow:Assets written to: model_experiments/model_4/assets\n"
          ]
        },
        {
          "output_type": "stream",
          "name": "stderr",
          "text": [
            "INFO:tensorflow:Assets written to: model_experiments/model_4/assets\n"
          ]
        },
        {
          "output_type": "stream",
          "name": "stdout",
          "text": [
            "INFO:tensorflow:Assets written to: model_experiments/model_4/assets\n"
          ]
        },
        {
          "output_type": "stream",
          "name": "stderr",
          "text": [
            "INFO:tensorflow:Assets written to: model_experiments/model_4/assets\n"
          ]
        },
        {
          "output_type": "stream",
          "name": "stdout",
          "text": [
            "INFO:tensorflow:Assets written to: model_experiments/model_4/assets\n"
          ]
        },
        {
          "output_type": "stream",
          "name": "stderr",
          "text": [
            "INFO:tensorflow:Assets written to: model_experiments/model_4/assets\n"
          ]
        },
        {
          "output_type": "execute_result",
          "data": {
            "text/plain": [
              "<keras.callbacks.History at 0x7fc57ebac310>"
            ]
          },
          "metadata": {},
          "execution_count": 122
        }
      ]
    },
    {
      "cell_type": "code",
      "source": [
        "model_4.summary()"
      ],
      "metadata": {
        "colab": {
          "base_uri": "https://localhost:8080/"
        },
        "id": "iAgfEeXQAsHg",
        "outputId": "a4d885de-11db-4502-f776-d753e79fe265"
      },
      "execution_count": null,
      "outputs": [
        {
          "output_type": "stream",
          "name": "stdout",
          "text": [
            "Model: \"model_4\"\n",
            "_________________________________________________________________\n",
            " Layer (type)                Output Shape              Param #   \n",
            "=================================================================\n",
            " lambda_4 (Lambda)           (None, 1, 7)              0         \n",
            "                                                                 \n",
            " conv1d_1 (Conv1D)           (None, 1, 128)            4608      \n",
            "                                                                 \n",
            " dense_16 (Dense)            (None, 1, 1)              129       \n",
            "                                                                 \n",
            "=================================================================\n",
            "Total params: 4,737\n",
            "Trainable params: 4,737\n",
            "Non-trainable params: 0\n",
            "_________________________________________________________________\n"
          ]
        }
      ]
    },
    {
      "cell_type": "code",
      "source": [
        "model_4 = tf.keras.models.load_model('/content/model_experiments/model_4')\n",
        "model_4.evaluate(test_windows, test_labels)"
      ],
      "metadata": {
        "colab": {
          "base_uri": "https://localhost:8080/"
        },
        "id": "2oAtLT_MAwA8",
        "outputId": "d29adde2-3ec6-43fc-b412-431e3a32a156"
      },
      "execution_count": null,
      "outputs": [
        {
          "output_type": "stream",
          "name": "stdout",
          "text": [
            "18/18 [==============================] - 0s 3ms/step - loss: 1258.8907\n"
          ]
        },
        {
          "output_type": "execute_result",
          "data": {
            "text/plain": [
              "1258.8907470703125"
            ]
          },
          "metadata": {},
          "execution_count": 124
        }
      ]
    },
    {
      "cell_type": "code",
      "source": [
        "model_4_preds = make_preds(model_4, test_windows)\n",
        "model_4_results = evaluate_pred(y_true = tf.squeeze(test_labels), y_pred = model_4_preds)\n",
        "model_4_results"
      ],
      "metadata": {
        "colab": {
          "base_uri": "https://localhost:8080/"
        },
        "id": "3gXHDtQwBkhM",
        "outputId": "ce6c597a-f816-4205-cd05-c78e011b5a1e"
      },
      "execution_count": null,
      "outputs": [
        {
          "output_type": "execute_result",
          "data": {
            "text/plain": [
              "{'mae': 1258.8906,\n",
              " 'mape': 3.0001152,\n",
              " 'mase': 1.0097308,\n",
              " 'mse': 2990960.5,\n",
              " 'rmse': 1729.4393}"
            ]
          },
          "metadata": {},
          "execution_count": 125
        }
      ]
    },
    {
      "cell_type": "code",
      "source": [
        "naive_results"
      ],
      "metadata": {
        "colab": {
          "base_uri": "https://localhost:8080/"
        },
        "id": "NgvwgYLtBq6U",
        "outputId": "eda1c2f8-2ebe-47f0-dcba-964ad9191621"
      },
      "execution_count": null,
      "outputs": [
        {
          "output_type": "execute_result",
          "data": {
            "text/plain": [
              "{'mae': 1245.2593,\n",
              " 'mape': 2.9662337,\n",
              " 'mase': 0.99879736,\n",
              " 'mse': 2924243.8,\n",
              " 'rmse': 1710.042}"
            ]
          },
          "metadata": {},
          "execution_count": 126
        }
      ]
    },
    {
      "cell_type": "markdown",
      "source": [
        "### Model 5: RNN (LSTM)"
      ],
      "metadata": {
        "id": "FnipJx-eCJgk"
      }
    },
    {
      "cell_type": "code",
      "source": [
        "tf.random.set_seed(42)\n",
        "inputs = layers.Input(shape = WINDOW_SIZE)\n",
        "x = layers.Lambda(lambda x: tf.expand_dims(x, axis=1))(inputs)\n",
        "# x = layers.LSTM(128, return_sequences = True)(x)\n",
        "x = layers.LSTM(128, activation=\"relu\")(x)\n",
        "# x = layers.Dense(32, activation=\"relu\")(x)\n",
        "output = layers.Dense(HORIZON)(x)  \n",
        "model_5 = tf.keras.Model(inputs=inputs, outputs=output, name=\"model_5\")\n",
        "\n",
        "model_5.compile(loss=\"mae\",\n",
        "                optimizer=tf.keras.optimizers.Adam())\n",
        "\n",
        "model_5.fit(train_windows,\n",
        "            train_labels,\n",
        "            epochs=100,\n",
        "            verbose=1,\n",
        "            batch_size=128,\n",
        "            validation_data=(test_windows, test_labels),\n",
        "            callbacks=[create_model_checkpoint(model_name=model_5.name)])"
      ],
      "metadata": {
        "colab": {
          "base_uri": "https://localhost:8080/"
        },
        "id": "wb_KSH7cVp2X",
        "outputId": "a5198a1a-c82a-497c-84ac-7aaba9d65727"
      },
      "execution_count": null,
      "outputs": [
        {
          "output_type": "stream",
          "name": "stdout",
          "text": [
            "WARNING:tensorflow:Layer lstm_1 will not use cuDNN kernels since it doesn't meet the criteria. It will use a generic GPU kernel as fallback when running on GPU.\n"
          ]
        },
        {
          "output_type": "stream",
          "name": "stderr",
          "text": [
            "WARNING:tensorflow:Layer lstm_1 will not use cuDNN kernels since it doesn't meet the criteria. It will use a generic GPU kernel as fallback when running on GPU.\n"
          ]
        },
        {
          "output_type": "stream",
          "name": "stdout",
          "text": [
            "Epoch 1/100\n",
            "17/18 [===========================>..] - ETA: 0s - loss: 3515.6775INFO:tensorflow:Assets written to: model_experiments/model_5/assets\n"
          ]
        },
        {
          "output_type": "stream",
          "name": "stderr",
          "text": [
            "INFO:tensorflow:Assets written to: model_experiments/model_5/assets\n",
            "WARNING:absl:<keras.layers.recurrent.LSTMCell object at 0x7fc57f9d4910> has the same name 'LSTMCell' as a built-in Keras object. Consider renaming <class 'keras.layers.recurrent.LSTMCell'> to avoid naming conflicts when loading with `tf.keras.models.load_model`. If renaming is not possible, pass the object in the `custom_objects` parameter of the load function.\n"
          ]
        },
        {
          "output_type": "stream",
          "name": "stdout",
          "text": [
            "\b\b\b\b\b\b\b\b\b\b\b\b\b\b\b\b\b\b\b\b\b\b\b\b\b\b\b\b\b\b\b\b\b\b\b\b\b\b\b\b\b\b\b\b\b\b\b\b\b\b\b\b\b\b\b\b\b\b\b\b\b\b\b\b\b\b\r18/18 [==============================] - 3s 123ms/step - loss: 3486.1484 - val_loss: 21352.9629\n",
            "Epoch 2/100\n",
            " 9/18 [==============>...............] - ETA: 0s - loss: 1842.8267INFO:tensorflow:Assets written to: model_experiments/model_5/assets\n"
          ]
        },
        {
          "output_type": "stream",
          "name": "stderr",
          "text": [
            "INFO:tensorflow:Assets written to: model_experiments/model_5/assets\n",
            "WARNING:absl:<keras.layers.recurrent.LSTMCell object at 0x7fc57f9d4910> has the same name 'LSTMCell' as a built-in Keras object. Consider renaming <class 'keras.layers.recurrent.LSTMCell'> to avoid naming conflicts when loading with `tf.keras.models.load_model`. If renaming is not possible, pass the object in the `custom_objects` parameter of the load function.\n"
          ]
        },
        {
          "output_type": "stream",
          "name": "stdout",
          "text": [
            "\b\b\b\b\b\b\b\b\b\b\b\b\b\b\b\b\b\b\b\b\b\b\b\b\b\b\b\b\b\b\b\b\b\b\b\b\b\b\b\b\b\b\b\b\b\b\b\b\b\b\b\b\b\b\b\b\b\b\b\b\b\b\b\b\b\b\r18/18 [==============================] - 2s 97ms/step - loss: 1290.7638 - val_loss: 2095.0837\n",
            "Epoch 3/100\n",
            "18/18 [==============================] - 0s 7ms/step - loss: 335.3479 - val_loss: 2318.4106\n",
            "Epoch 4/100\n",
            "18/18 [==============================] - 0s 6ms/step - loss: 259.8101 - val_loss: 2273.4175\n",
            "Epoch 5/100\n",
            "18/18 [==============================] - 0s 6ms/step - loss: 233.1584 - val_loss: 2147.1692\n",
            "Epoch 6/100\n",
            "10/18 [===============>..............] - ETA: 0s - loss: 216.9727INFO:tensorflow:Assets written to: model_experiments/model_5/assets\n"
          ]
        },
        {
          "output_type": "stream",
          "name": "stderr",
          "text": [
            "INFO:tensorflow:Assets written to: model_experiments/model_5/assets\n",
            "WARNING:absl:<keras.layers.recurrent.LSTMCell object at 0x7fc57f9d4910> has the same name 'LSTMCell' as a built-in Keras object. Consider renaming <class 'keras.layers.recurrent.LSTMCell'> to avoid naming conflicts when loading with `tf.keras.models.load_model`. If renaming is not possible, pass the object in the `custom_objects` parameter of the load function.\n"
          ]
        },
        {
          "output_type": "stream",
          "name": "stdout",
          "text": [
            "\b\b\b\b\b\b\b\b\b\b\b\b\b\b\b\b\b\b\b\b\b\b\b\b\b\b\b\b\b\b\b\b\b\b\b\b\b\b\b\b\b\b\b\b\b\b\b\b\b\b\b\b\b\b\b\b\b\b\b\b\b\b\b\b\b\r18/18 [==============================] - 2s 95ms/step - loss: 226.4470 - val_loss: 2063.5442\n",
            "Epoch 7/100\n",
            "11/18 [=================>............] - ETA: 0s - loss: 215.0922INFO:tensorflow:Assets written to: model_experiments/model_5/assets\n"
          ]
        },
        {
          "output_type": "stream",
          "name": "stderr",
          "text": [
            "INFO:tensorflow:Assets written to: model_experiments/model_5/assets\n",
            "WARNING:absl:<keras.layers.recurrent.LSTMCell object at 0x7fc57f9d4910> has the same name 'LSTMCell' as a built-in Keras object. Consider renaming <class 'keras.layers.recurrent.LSTMCell'> to avoid naming conflicts when loading with `tf.keras.models.load_model`. If renaming is not possible, pass the object in the `custom_objects` parameter of the load function.\n"
          ]
        },
        {
          "output_type": "stream",
          "name": "stdout",
          "text": [
            "\b\b\b\b\b\b\b\b\b\b\b\b\b\b\b\b\b\b\b\b\b\b\b\b\b\b\b\b\b\b\b\b\b\b\b\b\b\b\b\b\b\b\b\b\b\b\b\b\b\b\b\b\b\b\b\b\b\b\b\b\b\b\b\b\b\r18/18 [==============================] - 2s 94ms/step - loss: 224.1179 - val_loss: 2055.1267\n",
            "Epoch 8/100\n",
            "11/18 [=================>............] - ETA: 0s - loss: 221.8831INFO:tensorflow:Assets written to: model_experiments/model_5/assets\n"
          ]
        },
        {
          "output_type": "stream",
          "name": "stderr",
          "text": [
            "INFO:tensorflow:Assets written to: model_experiments/model_5/assets\n",
            "WARNING:absl:<keras.layers.recurrent.LSTMCell object at 0x7fc57f9d4910> has the same name 'LSTMCell' as a built-in Keras object. Consider renaming <class 'keras.layers.recurrent.LSTMCell'> to avoid naming conflicts when loading with `tf.keras.models.load_model`. If renaming is not possible, pass the object in the `custom_objects` parameter of the load function.\n"
          ]
        },
        {
          "output_type": "stream",
          "name": "stdout",
          "text": [
            "\b\b\b\b\b\b\b\b\b\b\b\b\b\b\b\b\b\b\b\b\b\b\b\b\b\b\b\b\b\b\b\b\b\b\b\b\b\b\b\b\b\b\b\b\b\b\b\b\b\b\b\b\b\b\b\b\b\b\b\b\b\b\b\b\b\r18/18 [==============================] - 2s 92ms/step - loss: 222.2966 - val_loss: 2042.9492\n",
            "Epoch 9/100\n",
            "11/18 [=================>............] - ETA: 0s - loss: 219.0190INFO:tensorflow:Assets written to: model_experiments/model_5/assets\n"
          ]
        },
        {
          "output_type": "stream",
          "name": "stderr",
          "text": [
            "INFO:tensorflow:Assets written to: model_experiments/model_5/assets\n",
            "WARNING:absl:<keras.layers.recurrent.LSTMCell object at 0x7fc57f9d4910> has the same name 'LSTMCell' as a built-in Keras object. Consider renaming <class 'keras.layers.recurrent.LSTMCell'> to avoid naming conflicts when loading with `tf.keras.models.load_model`. If renaming is not possible, pass the object in the `custom_objects` parameter of the load function.\n"
          ]
        },
        {
          "output_type": "stream",
          "name": "stdout",
          "text": [
            "\b\b\b\b\b\b\b\b\b\b\b\b\b\b\b\b\b\b\b\b\b\b\b\b\b\b\b\b\b\b\b\b\b\b\b\b\b\b\b\b\b\b\b\b\b\b\b\b\b\b\b\b\b\b\b\b\b\b\b\b\b\b\b\b\b\r18/18 [==============================] - 2s 120ms/step - loss: 221.0363 - val_loss: 2022.4492\n",
            "Epoch 10/100\n",
            "12/18 [===================>..........] - ETA: 0s - loss: 215.4776INFO:tensorflow:Assets written to: model_experiments/model_5/assets\n"
          ]
        },
        {
          "output_type": "stream",
          "name": "stderr",
          "text": [
            "INFO:tensorflow:Assets written to: model_experiments/model_5/assets\n",
            "WARNING:absl:<keras.layers.recurrent.LSTMCell object at 0x7fc57f9d4910> has the same name 'LSTMCell' as a built-in Keras object. Consider renaming <class 'keras.layers.recurrent.LSTMCell'> to avoid naming conflicts when loading with `tf.keras.models.load_model`. If renaming is not possible, pass the object in the `custom_objects` parameter of the load function.\n"
          ]
        },
        {
          "output_type": "stream",
          "name": "stdout",
          "text": [
            "\b\b\b\b\b\b\b\b\b\b\b\b\b\b\b\b\b\b\b\b\b\b\b\b\b\b\b\b\b\b\b\b\b\b\b\b\b\b\b\b\b\b\b\b\b\b\b\b\b\b\b\b\b\b\b\b\b\b\b\b\b\b\b\b\b\r18/18 [==============================] - 2s 98ms/step - loss: 219.3566 - val_loss: 2009.8174\n",
            "Epoch 11/100\n",
            "10/18 [===============>..............] - ETA: 0s - loss: 212.3758INFO:tensorflow:Assets written to: model_experiments/model_5/assets\n"
          ]
        },
        {
          "output_type": "stream",
          "name": "stderr",
          "text": [
            "INFO:tensorflow:Assets written to: model_experiments/model_5/assets\n",
            "WARNING:absl:<keras.layers.recurrent.LSTMCell object at 0x7fc57f9d4910> has the same name 'LSTMCell' as a built-in Keras object. Consider renaming <class 'keras.layers.recurrent.LSTMCell'> to avoid naming conflicts when loading with `tf.keras.models.load_model`. If renaming is not possible, pass the object in the `custom_objects` parameter of the load function.\n"
          ]
        },
        {
          "output_type": "stream",
          "name": "stdout",
          "text": [
            "\b\b\b\b\b\b\b\b\b\b\b\b\b\b\b\b\b\b\b\b\b\b\b\b\b\b\b\b\b\b\b\b\b\b\b\b\b\b\b\b\b\b\b\b\b\b\b\b\b\b\b\b\b\b\b\b\b\b\b\b\b\b\b\b\b\r18/18 [==============================] - 2s 98ms/step - loss: 217.3077 - val_loss: 1998.9159\n",
            "Epoch 12/100\n",
            " 9/18 [==============>...............] - ETA: 0s - loss: 219.6058INFO:tensorflow:Assets written to: model_experiments/model_5/assets\n"
          ]
        },
        {
          "output_type": "stream",
          "name": "stderr",
          "text": [
            "INFO:tensorflow:Assets written to: model_experiments/model_5/assets\n",
            "WARNING:absl:<keras.layers.recurrent.LSTMCell object at 0x7fc57f9d4910> has the same name 'LSTMCell' as a built-in Keras object. Consider renaming <class 'keras.layers.recurrent.LSTMCell'> to avoid naming conflicts when loading with `tf.keras.models.load_model`. If renaming is not possible, pass the object in the `custom_objects` parameter of the load function.\n"
          ]
        },
        {
          "output_type": "stream",
          "name": "stdout",
          "text": [
            "\b\b\b\b\b\b\b\b\b\b\b\b\b\b\b\b\b\b\b\b\b\b\b\b\b\b\b\b\b\b\b\b\b\b\b\b\b\b\b\b\b\b\b\b\b\b\b\b\b\b\b\b\b\b\b\b\b\b\b\b\b\b\b\b\b\r18/18 [==============================] - 2s 93ms/step - loss: 215.4791 - val_loss: 1970.4594\n",
            "Epoch 13/100\n",
            "12/18 [===================>..........] - ETA: 0s - loss: 216.0574INFO:tensorflow:Assets written to: model_experiments/model_5/assets\n"
          ]
        },
        {
          "output_type": "stream",
          "name": "stderr",
          "text": [
            "INFO:tensorflow:Assets written to: model_experiments/model_5/assets\n",
            "WARNING:absl:<keras.layers.recurrent.LSTMCell object at 0x7fc57f9d4910> has the same name 'LSTMCell' as a built-in Keras object. Consider renaming <class 'keras.layers.recurrent.LSTMCell'> to avoid naming conflicts when loading with `tf.keras.models.load_model`. If renaming is not possible, pass the object in the `custom_objects` parameter of the load function.\n"
          ]
        },
        {
          "output_type": "stream",
          "name": "stdout",
          "text": [
            "\b\b\b\b\b\b\b\b\b\b\b\b\b\b\b\b\b\b\b\b\b\b\b\b\b\b\b\b\b\b\b\b\b\b\b\b\b\b\b\b\b\b\b\b\b\b\b\b\b\b\b\b\b\b\b\b\b\b\b\b\b\b\b\b\b\r18/18 [==============================] - 2s 94ms/step - loss: 214.4364 - val_loss: 1957.0221\n",
            "Epoch 14/100\n",
            "12/18 [===================>..........] - ETA: 0s - loss: 209.2265INFO:tensorflow:Assets written to: model_experiments/model_5/assets\n"
          ]
        },
        {
          "output_type": "stream",
          "name": "stderr",
          "text": [
            "INFO:tensorflow:Assets written to: model_experiments/model_5/assets\n",
            "WARNING:absl:<keras.layers.recurrent.LSTMCell object at 0x7fc57f9d4910> has the same name 'LSTMCell' as a built-in Keras object. Consider renaming <class 'keras.layers.recurrent.LSTMCell'> to avoid naming conflicts when loading with `tf.keras.models.load_model`. If renaming is not possible, pass the object in the `custom_objects` parameter of the load function.\n"
          ]
        },
        {
          "output_type": "stream",
          "name": "stdout",
          "text": [
            "\b\b\b\b\b\b\b\b\b\b\b\b\b\b\b\b\b\b\b\b\b\b\b\b\b\b\b\b\b\b\b\b\b\b\b\b\b\b\b\b\b\b\b\b\b\b\b\b\b\b\b\b\b\b\b\b\b\b\b\b\b\b\b\b\b\r18/18 [==============================] - 2s 119ms/step - loss: 211.0884 - val_loss: 1949.6233\n",
            "Epoch 15/100\n",
            "11/18 [=================>............] - ETA: 0s - loss: 219.2557INFO:tensorflow:Assets written to: model_experiments/model_5/assets\n"
          ]
        },
        {
          "output_type": "stream",
          "name": "stderr",
          "text": [
            "INFO:tensorflow:Assets written to: model_experiments/model_5/assets\n",
            "WARNING:absl:<keras.layers.recurrent.LSTMCell object at 0x7fc57f9d4910> has the same name 'LSTMCell' as a built-in Keras object. Consider renaming <class 'keras.layers.recurrent.LSTMCell'> to avoid naming conflicts when loading with `tf.keras.models.load_model`. If renaming is not possible, pass the object in the `custom_objects` parameter of the load function.\n"
          ]
        },
        {
          "output_type": "stream",
          "name": "stdout",
          "text": [
            "\b\b\b\b\b\b\b\b\b\b\b\b\b\b\b\b\b\b\b\b\b\b\b\b\b\b\b\b\b\b\b\b\b\b\b\b\b\b\b\b\b\b\b\b\b\b\b\b\b\b\b\b\b\b\b\b\b\b\b\b\b\b\b\b\b\r18/18 [==============================] - 2s 94ms/step - loss: 209.0309 - val_loss: 1924.3101\n",
            "Epoch 16/100\n",
            "11/18 [=================>............] - ETA: 0s - loss: 208.5583INFO:tensorflow:Assets written to: model_experiments/model_5/assets\n"
          ]
        },
        {
          "output_type": "stream",
          "name": "stderr",
          "text": [
            "INFO:tensorflow:Assets written to: model_experiments/model_5/assets\n",
            "WARNING:absl:<keras.layers.recurrent.LSTMCell object at 0x7fc57f9d4910> has the same name 'LSTMCell' as a built-in Keras object. Consider renaming <class 'keras.layers.recurrent.LSTMCell'> to avoid naming conflicts when loading with `tf.keras.models.load_model`. If renaming is not possible, pass the object in the `custom_objects` parameter of the load function.\n"
          ]
        },
        {
          "output_type": "stream",
          "name": "stdout",
          "text": [
            "\b\b\b\b\b\b\b\b\b\b\b\b\b\b\b\b\b\b\b\b\b\b\b\b\b\b\b\b\b\b\b\b\b\b\b\b\b\b\b\b\b\b\b\b\b\b\b\b\b\b\b\b\b\b\b\b\b\b\b\b\b\b\b\b\b\r18/18 [==============================] - 2s 93ms/step - loss: 206.6241 - val_loss: 1896.9302\n",
            "Epoch 17/100\n",
            "11/18 [=================>............] - ETA: 0s - loss: 206.8737INFO:tensorflow:Assets written to: model_experiments/model_5/assets\n"
          ]
        },
        {
          "output_type": "stream",
          "name": "stderr",
          "text": [
            "INFO:tensorflow:Assets written to: model_experiments/model_5/assets\n",
            "WARNING:absl:<keras.layers.recurrent.LSTMCell object at 0x7fc57f9d4910> has the same name 'LSTMCell' as a built-in Keras object. Consider renaming <class 'keras.layers.recurrent.LSTMCell'> to avoid naming conflicts when loading with `tf.keras.models.load_model`. If renaming is not possible, pass the object in the `custom_objects` parameter of the load function.\n"
          ]
        },
        {
          "output_type": "stream",
          "name": "stdout",
          "text": [
            "\b\b\b\b\b\b\b\b\b\b\b\b\b\b\b\b\b\b\b\b\b\b\b\b\b\b\b\b\b\b\b\b\b\b\b\b\b\b\b\b\b\b\b\b\b\b\b\b\b\b\b\b\b\b\b\b\b\b\b\b\b\b\b\b\b\r18/18 [==============================] - 2s 94ms/step - loss: 205.9225 - val_loss: 1876.6763\n",
            "Epoch 18/100\n",
            "11/18 [=================>............] - ETA: 0s - loss: 207.3998INFO:tensorflow:Assets written to: model_experiments/model_5/assets\n"
          ]
        },
        {
          "output_type": "stream",
          "name": "stderr",
          "text": [
            "INFO:tensorflow:Assets written to: model_experiments/model_5/assets\n",
            "WARNING:absl:<keras.layers.recurrent.LSTMCell object at 0x7fc57f9d4910> has the same name 'LSTMCell' as a built-in Keras object. Consider renaming <class 'keras.layers.recurrent.LSTMCell'> to avoid naming conflicts when loading with `tf.keras.models.load_model`. If renaming is not possible, pass the object in the `custom_objects` parameter of the load function.\n"
          ]
        },
        {
          "output_type": "stream",
          "name": "stdout",
          "text": [
            "\b\b\b\b\b\b\b\b\b\b\b\b\b\b\b\b\b\b\b\b\b\b\b\b\b\b\b\b\b\b\b\b\b\b\b\b\b\b\b\b\b\b\b\b\b\b\b\b\b\b\b\b\b\b\b\b\b\b\b\b\b\b\b\b\b\r18/18 [==============================] - 2s 93ms/step - loss: 201.7734 - val_loss: 1816.2317\n",
            "Epoch 19/100\n",
            "18/18 [==============================] - 0s 7ms/step - loss: 203.3597 - val_loss: 1881.2372\n",
            "Epoch 20/100\n",
            "18/18 [==============================] - 0s 7ms/step - loss: 199.1019 - val_loss: 1838.0599\n",
            "Epoch 21/100\n",
            "18/18 [==============================] - 0s 7ms/step - loss: 197.7135 - val_loss: 1940.8013\n",
            "Epoch 22/100\n",
            "18/18 [==============================] - 0s 7ms/step - loss: 204.0842 - val_loss: 1838.7607\n",
            "Epoch 23/100\n",
            "18/18 [==============================] - 0s 6ms/step - loss: 198.8221 - val_loss: 1818.8574\n",
            "Epoch 24/100\n",
            "18/18 [==============================] - 0s 7ms/step - loss: 195.4692 - val_loss: 1825.3156\n",
            "Epoch 25/100\n",
            "11/18 [=================>............] - ETA: 0s - loss: 202.8112INFO:tensorflow:Assets written to: model_experiments/model_5/assets\n"
          ]
        },
        {
          "output_type": "stream",
          "name": "stderr",
          "text": [
            "INFO:tensorflow:Assets written to: model_experiments/model_5/assets\n",
            "WARNING:absl:<keras.layers.recurrent.LSTMCell object at 0x7fc57f9d4910> has the same name 'LSTMCell' as a built-in Keras object. Consider renaming <class 'keras.layers.recurrent.LSTMCell'> to avoid naming conflicts when loading with `tf.keras.models.load_model`. If renaming is not possible, pass the object in the `custom_objects` parameter of the load function.\n"
          ]
        },
        {
          "output_type": "stream",
          "name": "stdout",
          "text": [
            "\b\b\b\b\b\b\b\b\b\b\b\b\b\b\b\b\b\b\b\b\b\b\b\b\b\b\b\b\b\b\b\b\b\b\b\b\b\b\b\b\b\b\b\b\b\b\b\b\b\b\b\b\b\b\b\b\b\b\b\b\b\b\b\b\b\r18/18 [==============================] - 2s 119ms/step - loss: 195.2404 - val_loss: 1780.5995\n",
            "Epoch 26/100\n",
            "18/18 [==============================] - 0s 7ms/step - loss: 192.4290 - val_loss: 1788.1938\n",
            "Epoch 27/100\n",
            "11/18 [=================>............] - ETA: 0s - loss: 180.6750INFO:tensorflow:Assets written to: model_experiments/model_5/assets\n"
          ]
        },
        {
          "output_type": "stream",
          "name": "stderr",
          "text": [
            "INFO:tensorflow:Assets written to: model_experiments/model_5/assets\n",
            "WARNING:absl:<keras.layers.recurrent.LSTMCell object at 0x7fc57f9d4910> has the same name 'LSTMCell' as a built-in Keras object. Consider renaming <class 'keras.layers.recurrent.LSTMCell'> to avoid naming conflicts when loading with `tf.keras.models.load_model`. If renaming is not possible, pass the object in the `custom_objects` parameter of the load function.\n"
          ]
        },
        {
          "output_type": "stream",
          "name": "stdout",
          "text": [
            "\b\b\b\b\b\b\b\b\b\b\b\b\b\b\b\b\b\b\b\b\b\b\b\b\b\b\b\b\b\b\b\b\b\b\b\b\b\b\b\b\b\b\b\b\b\b\b\b\b\b\b\b\b\b\b\b\b\b\b\b\b\b\b\b\b\r18/18 [==============================] - 2s 94ms/step - loss: 189.7143 - val_loss: 1779.5696\n",
            "Epoch 28/100\n",
            " 9/18 [==============>...............] - ETA: 0s - loss: 181.3043INFO:tensorflow:Assets written to: model_experiments/model_5/assets\n"
          ]
        },
        {
          "output_type": "stream",
          "name": "stderr",
          "text": [
            "INFO:tensorflow:Assets written to: model_experiments/model_5/assets\n",
            "WARNING:absl:<keras.layers.recurrent.LSTMCell object at 0x7fc57f9d4910> has the same name 'LSTMCell' as a built-in Keras object. Consider renaming <class 'keras.layers.recurrent.LSTMCell'> to avoid naming conflicts when loading with `tf.keras.models.load_model`. If renaming is not possible, pass the object in the `custom_objects` parameter of the load function.\n"
          ]
        },
        {
          "output_type": "stream",
          "name": "stdout",
          "text": [
            "\b\b\b\b\b\b\b\b\b\b\b\b\b\b\b\b\b\b\b\b\b\b\b\b\b\b\b\b\b\b\b\b\b\b\b\b\b\b\b\b\b\b\b\b\b\b\b\b\b\b\b\b\b\b\b\b\b\b\b\b\b\b\b\b\b\r18/18 [==============================] - 2s 94ms/step - loss: 188.4214 - val_loss: 1724.8428\n",
            "Epoch 29/100\n",
            "12/18 [===================>..........] - ETA: 0s - loss: 183.3027INFO:tensorflow:Assets written to: model_experiments/model_5/assets\n"
          ]
        },
        {
          "output_type": "stream",
          "name": "stderr",
          "text": [
            "INFO:tensorflow:Assets written to: model_experiments/model_5/assets\n",
            "WARNING:absl:<keras.layers.recurrent.LSTMCell object at 0x7fc57f9d4910> has the same name 'LSTMCell' as a built-in Keras object. Consider renaming <class 'keras.layers.recurrent.LSTMCell'> to avoid naming conflicts when loading with `tf.keras.models.load_model`. If renaming is not possible, pass the object in the `custom_objects` parameter of the load function.\n"
          ]
        },
        {
          "output_type": "stream",
          "name": "stdout",
          "text": [
            "\b\b\b\b\b\b\b\b\b\b\b\b\b\b\b\b\b\b\b\b\b\b\b\b\b\b\b\b\b\b\b\b\b\b\b\b\b\b\b\b\b\b\b\b\b\b\b\b\b\b\b\b\b\b\b\b\b\b\b\b\b\b\b\b\b\r18/18 [==============================] - 2s 95ms/step - loss: 185.1866 - val_loss: 1720.3513\n",
            "Epoch 30/100\n",
            "12/18 [===================>..........] - ETA: 0s - loss: 180.6977INFO:tensorflow:Assets written to: model_experiments/model_5/assets\n"
          ]
        },
        {
          "output_type": "stream",
          "name": "stderr",
          "text": [
            "INFO:tensorflow:Assets written to: model_experiments/model_5/assets\n",
            "WARNING:absl:<keras.layers.recurrent.LSTMCell object at 0x7fc57f9d4910> has the same name 'LSTMCell' as a built-in Keras object. Consider renaming <class 'keras.layers.recurrent.LSTMCell'> to avoid naming conflicts when loading with `tf.keras.models.load_model`. If renaming is not possible, pass the object in the `custom_objects` parameter of the load function.\n"
          ]
        },
        {
          "output_type": "stream",
          "name": "stdout",
          "text": [
            "\b\b\b\b\b\b\b\b\b\b\b\b\b\b\b\b\b\b\b\b\b\b\b\b\b\b\b\b\b\b\b\b\b\b\b\b\b\b\b\b\b\b\b\b\b\b\b\b\b\b\b\b\b\b\b\b\b\b\b\b\b\b\b\b\b\r18/18 [==============================] - 2s 117ms/step - loss: 182.7081 - val_loss: 1693.5607\n",
            "Epoch 31/100\n",
            "12/18 [===================>..........] - ETA: 0s - loss: 181.9719INFO:tensorflow:Assets written to: model_experiments/model_5/assets\n"
          ]
        },
        {
          "output_type": "stream",
          "name": "stderr",
          "text": [
            "INFO:tensorflow:Assets written to: model_experiments/model_5/assets\n",
            "WARNING:absl:<keras.layers.recurrent.LSTMCell object at 0x7fc57f9d4910> has the same name 'LSTMCell' as a built-in Keras object. Consider renaming <class 'keras.layers.recurrent.LSTMCell'> to avoid naming conflicts when loading with `tf.keras.models.load_model`. If renaming is not possible, pass the object in the `custom_objects` parameter of the load function.\n"
          ]
        },
        {
          "output_type": "stream",
          "name": "stdout",
          "text": [
            "\b\b\b\b\b\b\b\b\b\b\b\b\b\b\b\b\b\b\b\b\b\b\b\b\b\b\b\b\b\b\b\b\b\b\b\b\b\b\b\b\b\b\b\b\b\b\b\b\b\b\b\b\b\b\b\b\b\b\b\b\b\b\b\b\b\r18/18 [==============================] - 2s 95ms/step - loss: 181.9340 - val_loss: 1672.5562\n",
            "Epoch 32/100\n",
            "10/18 [===============>..............] - ETA: 0s - loss: 186.9041INFO:tensorflow:Assets written to: model_experiments/model_5/assets\n"
          ]
        },
        {
          "output_type": "stream",
          "name": "stderr",
          "text": [
            "INFO:tensorflow:Assets written to: model_experiments/model_5/assets\n",
            "WARNING:absl:<keras.layers.recurrent.LSTMCell object at 0x7fc57f9d4910> has the same name 'LSTMCell' as a built-in Keras object. Consider renaming <class 'keras.layers.recurrent.LSTMCell'> to avoid naming conflicts when loading with `tf.keras.models.load_model`. If renaming is not possible, pass the object in the `custom_objects` parameter of the load function.\n"
          ]
        },
        {
          "output_type": "stream",
          "name": "stdout",
          "text": [
            "\b\b\b\b\b\b\b\b\b\b\b\b\b\b\b\b\b\b\b\b\b\b\b\b\b\b\b\b\b\b\b\b\b\b\b\b\b\b\b\b\b\b\b\b\b\b\b\b\b\b\b\b\b\b\b\b\b\b\b\b\b\b\b\b\b\r18/18 [==============================] - 2s 97ms/step - loss: 178.9555 - val_loss: 1658.5557\n",
            "Epoch 33/100\n",
            "18/18 [==============================] - 0s 7ms/step - loss: 177.1689 - val_loss: 1661.1982\n",
            "Epoch 34/100\n",
            "11/18 [=================>............] - ETA: 0s - loss: 185.7052INFO:tensorflow:Assets written to: model_experiments/model_5/assets\n"
          ]
        },
        {
          "output_type": "stream",
          "name": "stderr",
          "text": [
            "INFO:tensorflow:Assets written to: model_experiments/model_5/assets\n",
            "WARNING:absl:<keras.layers.recurrent.LSTMCell object at 0x7fc57f9d4910> has the same name 'LSTMCell' as a built-in Keras object. Consider renaming <class 'keras.layers.recurrent.LSTMCell'> to avoid naming conflicts when loading with `tf.keras.models.load_model`. If renaming is not possible, pass the object in the `custom_objects` parameter of the load function.\n"
          ]
        },
        {
          "output_type": "stream",
          "name": "stdout",
          "text": [
            "\b\b\b\b\b\b\b\b\b\b\b\b\b\b\b\b\b\b\b\b\b\b\b\b\b\b\b\b\b\b\b\b\b\b\b\b\b\b\b\b\b\b\b\b\b\b\b\b\b\b\b\b\b\b\b\b\b\b\b\b\b\b\b\b\b\r18/18 [==============================] - 2s 94ms/step - loss: 175.8784 - val_loss: 1634.2228\n",
            "Epoch 35/100\n",
            "18/18 [==============================] - ETA: 0s - loss: 173.8671INFO:tensorflow:Assets written to: model_experiments/model_5/assets\n"
          ]
        },
        {
          "output_type": "stream",
          "name": "stderr",
          "text": [
            "INFO:tensorflow:Assets written to: model_experiments/model_5/assets\n",
            "WARNING:absl:<keras.layers.recurrent.LSTMCell object at 0x7fc57f9d4910> has the same name 'LSTMCell' as a built-in Keras object. Consider renaming <class 'keras.layers.recurrent.LSTMCell'> to avoid naming conflicts when loading with `tf.keras.models.load_model`. If renaming is not possible, pass the object in the `custom_objects` parameter of the load function.\n"
          ]
        },
        {
          "output_type": "stream",
          "name": "stdout",
          "text": [
            "\b\b\b\b\b\b\b\b\b\b\b\b\b\b\b\b\b\b\b\b\b\b\b\b\b\b\b\b\b\b\b\b\b\b\b\b\b\b\b\b\b\b\b\b\b\b\b\b\b\b\b\b\b\b\b\b\b\b\b\b\b\b\b\b\b\r18/18 [==============================] - 2s 99ms/step - loss: 173.8671 - val_loss: 1616.2051\n",
            "Epoch 36/100\n",
            "11/18 [=================>............] - ETA: 0s - loss: 177.3208INFO:tensorflow:Assets written to: model_experiments/model_5/assets\n"
          ]
        },
        {
          "output_type": "stream",
          "name": "stderr",
          "text": [
            "INFO:tensorflow:Assets written to: model_experiments/model_5/assets\n",
            "WARNING:absl:<keras.layers.recurrent.LSTMCell object at 0x7fc57f9d4910> has the same name 'LSTMCell' as a built-in Keras object. Consider renaming <class 'keras.layers.recurrent.LSTMCell'> to avoid naming conflicts when loading with `tf.keras.models.load_model`. If renaming is not possible, pass the object in the `custom_objects` parameter of the load function.\n"
          ]
        },
        {
          "output_type": "stream",
          "name": "stdout",
          "text": [
            "\b\b\b\b\b\b\b\b\b\b\b\b\b\b\b\b\b\b\b\b\b\b\b\b\b\b\b\b\b\b\b\b\b\b\b\b\b\b\b\b\b\b\b\b\b\b\b\b\b\b\b\b\b\b\b\b\b\b\b\b\b\b\b\b\b\r18/18 [==============================] - 2s 120ms/step - loss: 170.1351 - val_loss: 1608.2825\n",
            "Epoch 37/100\n",
            " 9/18 [==============>...............] - ETA: 0s - loss: 166.7070INFO:tensorflow:Assets written to: model_experiments/model_5/assets\n"
          ]
        },
        {
          "output_type": "stream",
          "name": "stderr",
          "text": [
            "INFO:tensorflow:Assets written to: model_experiments/model_5/assets\n",
            "WARNING:absl:<keras.layers.recurrent.LSTMCell object at 0x7fc57f9d4910> has the same name 'LSTMCell' as a built-in Keras object. Consider renaming <class 'keras.layers.recurrent.LSTMCell'> to avoid naming conflicts when loading with `tf.keras.models.load_model`. If renaming is not possible, pass the object in the `custom_objects` parameter of the load function.\n"
          ]
        },
        {
          "output_type": "stream",
          "name": "stdout",
          "text": [
            "\b\b\b\b\b\b\b\b\b\b\b\b\b\b\b\b\b\b\b\b\b\b\b\b\b\b\b\b\b\b\b\b\b\b\b\b\b\b\b\b\b\b\b\b\b\b\b\b\b\b\b\b\b\b\b\b\b\b\b\b\b\b\b\b\b\r18/18 [==============================] - 2s 95ms/step - loss: 169.0743 - val_loss: 1576.5797\n",
            "Epoch 38/100\n",
            "11/18 [=================>............] - ETA: 0s - loss: 175.7709INFO:tensorflow:Assets written to: model_experiments/model_5/assets\n"
          ]
        },
        {
          "output_type": "stream",
          "name": "stderr",
          "text": [
            "INFO:tensorflow:Assets written to: model_experiments/model_5/assets\n",
            "WARNING:absl:<keras.layers.recurrent.LSTMCell object at 0x7fc57f9d4910> has the same name 'LSTMCell' as a built-in Keras object. Consider renaming <class 'keras.layers.recurrent.LSTMCell'> to avoid naming conflicts when loading with `tf.keras.models.load_model`. If renaming is not possible, pass the object in the `custom_objects` parameter of the load function.\n"
          ]
        },
        {
          "output_type": "stream",
          "name": "stdout",
          "text": [
            "\b\b\b\b\b\b\b\b\b\b\b\b\b\b\b\b\b\b\b\b\b\b\b\b\b\b\b\b\b\b\b\b\b\b\b\b\b\b\b\b\b\b\b\b\b\b\b\b\b\b\b\b\b\b\b\b\b\b\b\b\b\b\b\b\b\r18/18 [==============================] - 2s 94ms/step - loss: 167.8157 - val_loss: 1561.5820\n",
            "Epoch 39/100\n",
            "11/18 [=================>............] - ETA: 0s - loss: 172.3273INFO:tensorflow:Assets written to: model_experiments/model_5/assets\n"
          ]
        },
        {
          "output_type": "stream",
          "name": "stderr",
          "text": [
            "INFO:tensorflow:Assets written to: model_experiments/model_5/assets\n",
            "WARNING:absl:<keras.layers.recurrent.LSTMCell object at 0x7fc57f9d4910> has the same name 'LSTMCell' as a built-in Keras object. Consider renaming <class 'keras.layers.recurrent.LSTMCell'> to avoid naming conflicts when loading with `tf.keras.models.load_model`. If renaming is not possible, pass the object in the `custom_objects` parameter of the load function.\n"
          ]
        },
        {
          "output_type": "stream",
          "name": "stdout",
          "text": [
            "\b\b\b\b\b\b\b\b\b\b\b\b\b\b\b\b\b\b\b\b\b\b\b\b\b\b\b\b\b\b\b\b\b\b\b\b\b\b\b\b\b\b\b\b\b\b\b\b\b\b\b\b\b\b\b\b\b\b\b\b\b\b\b\b\b\r18/18 [==============================] - 2s 93ms/step - loss: 165.7959 - val_loss: 1558.0690\n",
            "Epoch 40/100\n",
            "12/18 [===================>..........] - ETA: 0s - loss: 169.9626INFO:tensorflow:Assets written to: model_experiments/model_5/assets\n"
          ]
        },
        {
          "output_type": "stream",
          "name": "stderr",
          "text": [
            "INFO:tensorflow:Assets written to: model_experiments/model_5/assets\n",
            "WARNING:absl:<keras.layers.recurrent.LSTMCell object at 0x7fc57f9d4910> has the same name 'LSTMCell' as a built-in Keras object. Consider renaming <class 'keras.layers.recurrent.LSTMCell'> to avoid naming conflicts when loading with `tf.keras.models.load_model`. If renaming is not possible, pass the object in the `custom_objects` parameter of the load function.\n"
          ]
        },
        {
          "output_type": "stream",
          "name": "stdout",
          "text": [
            "\b\b\b\b\b\b\b\b\b\b\b\b\b\b\b\b\b\b\b\b\b\b\b\b\b\b\b\b\b\b\b\b\b\b\b\b\b\b\b\b\b\b\b\b\b\b\b\b\b\b\b\b\b\b\b\b\b\b\b\b\b\b\b\b\b\r18/18 [==============================] - 2s 93ms/step - loss: 165.0576 - val_loss: 1530.6547\n",
            "Epoch 41/100\n",
            "18/18 [==============================] - 0s 6ms/step - loss: 162.3635 - val_loss: 1530.8026\n",
            "Epoch 42/100\n",
            "11/18 [=================>............] - ETA: 0s - loss: 158.4138INFO:tensorflow:Assets written to: model_experiments/model_5/assets\n"
          ]
        },
        {
          "output_type": "stream",
          "name": "stderr",
          "text": [
            "INFO:tensorflow:Assets written to: model_experiments/model_5/assets\n",
            "WARNING:absl:<keras.layers.recurrent.LSTMCell object at 0x7fc57f9d4910> has the same name 'LSTMCell' as a built-in Keras object. Consider renaming <class 'keras.layers.recurrent.LSTMCell'> to avoid naming conflicts when loading with `tf.keras.models.load_model`. If renaming is not possible, pass the object in the `custom_objects` parameter of the load function.\n"
          ]
        },
        {
          "output_type": "stream",
          "name": "stdout",
          "text": [
            "\b\b\b\b\b\b\b\b\b\b\b\b\b\b\b\b\b\b\b\b\b\b\b\b\b\b\b\b\b\b\b\b\b\b\b\b\b\b\b\b\b\b\b\b\b\b\b\b\b\b\b\b\b\b\b\b\b\b\b\b\b\b\b\b\b\r18/18 [==============================] - 2s 119ms/step - loss: 164.5997 - val_loss: 1513.0499\n",
            "Epoch 43/100\n",
            "18/18 [==============================] - 0s 6ms/step - loss: 161.7058 - val_loss: 1519.5701\n",
            "Epoch 44/100\n",
            "11/18 [=================>............] - ETA: 0s - loss: 160.0613INFO:tensorflow:Assets written to: model_experiments/model_5/assets\n"
          ]
        },
        {
          "output_type": "stream",
          "name": "stderr",
          "text": [
            "INFO:tensorflow:Assets written to: model_experiments/model_5/assets\n",
            "WARNING:absl:<keras.layers.recurrent.LSTMCell object at 0x7fc57f9d4910> has the same name 'LSTMCell' as a built-in Keras object. Consider renaming <class 'keras.layers.recurrent.LSTMCell'> to avoid naming conflicts when loading with `tf.keras.models.load_model`. If renaming is not possible, pass the object in the `custom_objects` parameter of the load function.\n"
          ]
        },
        {
          "output_type": "stream",
          "name": "stdout",
          "text": [
            "\b\b\b\b\b\b\b\b\b\b\b\b\b\b\b\b\b\b\b\b\b\b\b\b\b\b\b\b\b\b\b\b\b\b\b\b\b\b\b\b\b\b\b\b\b\b\b\b\b\b\b\b\b\b\b\b\b\b\b\b\b\b\b\b\b\r18/18 [==============================] - 2s 94ms/step - loss: 157.1849 - val_loss: 1498.6758\n",
            "Epoch 45/100\n",
            "16/18 [=========================>....] - ETA: 0s - loss: 159.1890INFO:tensorflow:Assets written to: model_experiments/model_5/assets\n"
          ]
        },
        {
          "output_type": "stream",
          "name": "stderr",
          "text": [
            "INFO:tensorflow:Assets written to: model_experiments/model_5/assets\n",
            "WARNING:absl:<keras.layers.recurrent.LSTMCell object at 0x7fc57f9d4910> has the same name 'LSTMCell' as a built-in Keras object. Consider renaming <class 'keras.layers.recurrent.LSTMCell'> to avoid naming conflicts when loading with `tf.keras.models.load_model`. If renaming is not possible, pass the object in the `custom_objects` parameter of the load function.\n"
          ]
        },
        {
          "output_type": "stream",
          "name": "stdout",
          "text": [
            "\b\b\b\b\b\b\b\b\b\b\b\b\b\b\b\b\b\b\b\b\b\b\b\b\b\b\b\b\b\b\b\b\b\b\b\b\b\b\b\b\b\b\b\b\b\b\b\b\b\b\b\b\b\b\b\b\b\b\b\b\b\b\b\b\b\r18/18 [==============================] - 2s 94ms/step - loss: 158.2991 - val_loss: 1482.2385\n",
            "Epoch 46/100\n",
            "12/18 [===================>..........] - ETA: 0s - loss: 157.1258INFO:tensorflow:Assets written to: model_experiments/model_5/assets\n"
          ]
        },
        {
          "output_type": "stream",
          "name": "stderr",
          "text": [
            "INFO:tensorflow:Assets written to: model_experiments/model_5/assets\n",
            "WARNING:absl:<keras.layers.recurrent.LSTMCell object at 0x7fc57f9d4910> has the same name 'LSTMCell' as a built-in Keras object. Consider renaming <class 'keras.layers.recurrent.LSTMCell'> to avoid naming conflicts when loading with `tf.keras.models.load_model`. If renaming is not possible, pass the object in the `custom_objects` parameter of the load function.\n"
          ]
        },
        {
          "output_type": "stream",
          "name": "stdout",
          "text": [
            "\b\b\b\b\b\b\b\b\b\b\b\b\b\b\b\b\b\b\b\b\b\b\b\b\b\b\b\b\b\b\b\b\b\b\b\b\b\b\b\b\b\b\b\b\b\b\b\b\b\b\b\b\b\b\b\b\b\b\b\b\b\b\b\b\b\r18/18 [==============================] - 2s 92ms/step - loss: 156.7435 - val_loss: 1464.4875\n",
            "Epoch 47/100\n",
            "12/18 [===================>..........] - ETA: 0s - loss: 160.3494INFO:tensorflow:Assets written to: model_experiments/model_5/assets\n"
          ]
        },
        {
          "output_type": "stream",
          "name": "stderr",
          "text": [
            "INFO:tensorflow:Assets written to: model_experiments/model_5/assets\n",
            "WARNING:absl:<keras.layers.recurrent.LSTMCell object at 0x7fc57f9d4910> has the same name 'LSTMCell' as a built-in Keras object. Consider renaming <class 'keras.layers.recurrent.LSTMCell'> to avoid naming conflicts when loading with `tf.keras.models.load_model`. If renaming is not possible, pass the object in the `custom_objects` parameter of the load function.\n"
          ]
        },
        {
          "output_type": "stream",
          "name": "stdout",
          "text": [
            "\b\b\b\b\b\b\b\b\b\b\b\b\b\b\b\b\b\b\b\b\b\b\b\b\b\b\b\b\b\b\b\b\b\b\b\b\b\b\b\b\b\b\b\b\b\b\b\b\b\b\b\b\b\b\b\b\b\b\b\b\b\b\b\b\b\r18/18 [==============================] - 2s 93ms/step - loss: 156.1210 - val_loss: 1456.9486\n",
            "Epoch 48/100\n",
            "11/18 [=================>............] - ETA: 0s - loss: 147.6325INFO:tensorflow:Assets written to: model_experiments/model_5/assets\n"
          ]
        },
        {
          "output_type": "stream",
          "name": "stderr",
          "text": [
            "INFO:tensorflow:Assets written to: model_experiments/model_5/assets\n",
            "WARNING:absl:<keras.layers.recurrent.LSTMCell object at 0x7fc57f9d4910> has the same name 'LSTMCell' as a built-in Keras object. Consider renaming <class 'keras.layers.recurrent.LSTMCell'> to avoid naming conflicts when loading with `tf.keras.models.load_model`. If renaming is not possible, pass the object in the `custom_objects` parameter of the load function.\n"
          ]
        },
        {
          "output_type": "stream",
          "name": "stdout",
          "text": [
            "\b\b\b\b\b\b\b\b\b\b\b\b\b\b\b\b\b\b\b\b\b\b\b\b\b\b\b\b\b\b\b\b\b\b\b\b\b\b\b\b\b\b\b\b\b\b\b\b\b\b\b\b\b\b\b\b\b\b\b\b\b\b\b\b\b\r18/18 [==============================] - 2s 118ms/step - loss: 153.7961 - val_loss: 1452.8810\n",
            "Epoch 49/100\n",
            "12/18 [===================>..........] - ETA: 0s - loss: 151.9792INFO:tensorflow:Assets written to: model_experiments/model_5/assets\n"
          ]
        },
        {
          "output_type": "stream",
          "name": "stderr",
          "text": [
            "INFO:tensorflow:Assets written to: model_experiments/model_5/assets\n",
            "WARNING:absl:<keras.layers.recurrent.LSTMCell object at 0x7fc57f9d4910> has the same name 'LSTMCell' as a built-in Keras object. Consider renaming <class 'keras.layers.recurrent.LSTMCell'> to avoid naming conflicts when loading with `tf.keras.models.load_model`. If renaming is not possible, pass the object in the `custom_objects` parameter of the load function.\n"
          ]
        },
        {
          "output_type": "stream",
          "name": "stdout",
          "text": [
            "\b\b\b\b\b\b\b\b\b\b\b\b\b\b\b\b\b\b\b\b\b\b\b\b\b\b\b\b\b\b\b\b\b\b\b\b\b\b\b\b\b\b\b\b\b\b\b\b\b\b\b\b\b\b\b\b\b\b\b\b\b\b\b\b\b\r18/18 [==============================] - 2s 94ms/step - loss: 154.4514 - val_loss: 1441.8142\n",
            "Epoch 50/100\n",
            "18/18 [==============================] - 0s 7ms/step - loss: 153.1025 - val_loss: 1470.4342\n",
            "Epoch 51/100\n",
            "18/18 [==============================] - 0s 6ms/step - loss: 154.6859 - val_loss: 1441.9716\n",
            "Epoch 52/100\n",
            "12/18 [===================>..........] - ETA: 0s - loss: 158.7254INFO:tensorflow:Assets written to: model_experiments/model_5/assets\n"
          ]
        },
        {
          "output_type": "stream",
          "name": "stderr",
          "text": [
            "INFO:tensorflow:Assets written to: model_experiments/model_5/assets\n",
            "WARNING:absl:<keras.layers.recurrent.LSTMCell object at 0x7fc57f9d4910> has the same name 'LSTMCell' as a built-in Keras object. Consider renaming <class 'keras.layers.recurrent.LSTMCell'> to avoid naming conflicts when loading with `tf.keras.models.load_model`. If renaming is not possible, pass the object in the `custom_objects` parameter of the load function.\n"
          ]
        },
        {
          "output_type": "stream",
          "name": "stdout",
          "text": [
            "\b\b\b\b\b\b\b\b\b\b\b\b\b\b\b\b\b\b\b\b\b\b\b\b\b\b\b\b\b\b\b\b\b\b\b\b\b\b\b\b\b\b\b\b\b\b\b\b\b\b\b\b\b\b\b\b\b\b\b\b\b\b\b\b\b\r18/18 [==============================] - 2s 95ms/step - loss: 153.8499 - val_loss: 1427.7413\n",
            "Epoch 53/100\n",
            "18/18 [==============================] - 0s 7ms/step - loss: 154.4394 - val_loss: 1460.8213\n",
            "Epoch 54/100\n",
            "18/18 [==============================] - 0s 6ms/step - loss: 152.9770 - val_loss: 1492.7737\n",
            "Epoch 55/100\n",
            "11/18 [=================>............] - ETA: 0s - loss: 152.2347INFO:tensorflow:Assets written to: model_experiments/model_5/assets\n"
          ]
        },
        {
          "output_type": "stream",
          "name": "stderr",
          "text": [
            "INFO:tensorflow:Assets written to: model_experiments/model_5/assets\n",
            "WARNING:absl:<keras.layers.recurrent.LSTMCell object at 0x7fc57f9d4910> has the same name 'LSTMCell' as a built-in Keras object. Consider renaming <class 'keras.layers.recurrent.LSTMCell'> to avoid naming conflicts when loading with `tf.keras.models.load_model`. If renaming is not possible, pass the object in the `custom_objects` parameter of the load function.\n"
          ]
        },
        {
          "output_type": "stream",
          "name": "stdout",
          "text": [
            "\b\b\b\b\b\b\b\b\b\b\b\b\b\b\b\b\b\b\b\b\b\b\b\b\b\b\b\b\b\b\b\b\b\b\b\b\b\b\b\b\b\b\b\b\b\b\b\b\b\b\b\b\b\b\b\b\b\b\b\b\b\b\b\b\b\r18/18 [==============================] - 2s 94ms/step - loss: 153.8896 - val_loss: 1415.8013\n",
            "Epoch 56/100\n",
            "11/18 [=================>............] - ETA: 0s - loss: 154.5464INFO:tensorflow:Assets written to: model_experiments/model_5/assets\n"
          ]
        },
        {
          "output_type": "stream",
          "name": "stderr",
          "text": [
            "INFO:tensorflow:Assets written to: model_experiments/model_5/assets\n",
            "WARNING:absl:<keras.layers.recurrent.LSTMCell object at 0x7fc57f9d4910> has the same name 'LSTMCell' as a built-in Keras object. Consider renaming <class 'keras.layers.recurrent.LSTMCell'> to avoid naming conflicts when loading with `tf.keras.models.load_model`. If renaming is not possible, pass the object in the `custom_objects` parameter of the load function.\n"
          ]
        },
        {
          "output_type": "stream",
          "name": "stdout",
          "text": [
            "\b\b\b\b\b\b\b\b\b\b\b\b\b\b\b\b\b\b\b\b\b\b\b\b\b\b\b\b\b\b\b\b\b\b\b\b\b\b\b\b\b\b\b\b\b\b\b\b\b\b\b\b\b\b\b\b\b\b\b\b\b\b\b\b\b\r18/18 [==============================] - 2s 117ms/step - loss: 151.5061 - val_loss: 1404.4458\n",
            "Epoch 57/100\n",
            "10/18 [===============>..............] - ETA: 0s - loss: 145.7894INFO:tensorflow:Assets written to: model_experiments/model_5/assets\n"
          ]
        },
        {
          "output_type": "stream",
          "name": "stderr",
          "text": [
            "INFO:tensorflow:Assets written to: model_experiments/model_5/assets\n",
            "WARNING:absl:<keras.layers.recurrent.LSTMCell object at 0x7fc57f9d4910> has the same name 'LSTMCell' as a built-in Keras object. Consider renaming <class 'keras.layers.recurrent.LSTMCell'> to avoid naming conflicts when loading with `tf.keras.models.load_model`. If renaming is not possible, pass the object in the `custom_objects` parameter of the load function.\n"
          ]
        },
        {
          "output_type": "stream",
          "name": "stdout",
          "text": [
            "\b\b\b\b\b\b\b\b\b\b\b\b\b\b\b\b\b\b\b\b\b\b\b\b\b\b\b\b\b\b\b\b\b\b\b\b\b\b\b\b\b\b\b\b\b\b\b\b\b\b\b\b\b\b\b\b\b\b\b\b\b\b\b\b\b\r18/18 [==============================] - 2s 97ms/step - loss: 148.1304 - val_loss: 1399.0450\n",
            "Epoch 58/100\n",
            "18/18 [==============================] - 0s 7ms/step - loss: 148.4640 - val_loss: 1455.3444\n",
            "Epoch 59/100\n",
            "18/18 [==============================] - 0s 7ms/step - loss: 153.3596 - val_loss: 1420.1184\n",
            "Epoch 60/100\n",
            "12/18 [===================>..........] - ETA: 0s - loss: 146.0597INFO:tensorflow:Assets written to: model_experiments/model_5/assets\n"
          ]
        },
        {
          "output_type": "stream",
          "name": "stderr",
          "text": [
            "INFO:tensorflow:Assets written to: model_experiments/model_5/assets\n",
            "WARNING:absl:<keras.layers.recurrent.LSTMCell object at 0x7fc57f9d4910> has the same name 'LSTMCell' as a built-in Keras object. Consider renaming <class 'keras.layers.recurrent.LSTMCell'> to avoid naming conflicts when loading with `tf.keras.models.load_model`. If renaming is not possible, pass the object in the `custom_objects` parameter of the load function.\n"
          ]
        },
        {
          "output_type": "stream",
          "name": "stdout",
          "text": [
            "\b\b\b\b\b\b\b\b\b\b\b\b\b\b\b\b\b\b\b\b\b\b\b\b\b\b\b\b\b\b\b\b\b\b\b\b\b\b\b\b\b\b\b\b\b\b\b\b\b\b\b\b\b\b\b\b\b\b\b\b\b\b\b\b\b\r18/18 [==============================] - 2s 98ms/step - loss: 148.9986 - val_loss: 1389.0931\n",
            "Epoch 61/100\n",
            "18/18 [==============================] - 0s 7ms/step - loss: 150.9072 - val_loss: 1438.3684\n",
            "Epoch 62/100\n",
            "11/18 [=================>............] - ETA: 0s - loss: 148.3578INFO:tensorflow:Assets written to: model_experiments/model_5/assets\n"
          ]
        },
        {
          "output_type": "stream",
          "name": "stderr",
          "text": [
            "INFO:tensorflow:Assets written to: model_experiments/model_5/assets\n",
            "WARNING:absl:<keras.layers.recurrent.LSTMCell object at 0x7fc57f9d4910> has the same name 'LSTMCell' as a built-in Keras object. Consider renaming <class 'keras.layers.recurrent.LSTMCell'> to avoid naming conflicts when loading with `tf.keras.models.load_model`. If renaming is not possible, pass the object in the `custom_objects` parameter of the load function.\n"
          ]
        },
        {
          "output_type": "stream",
          "name": "stdout",
          "text": [
            "\b\b\b\b\b\b\b\b\b\b\b\b\b\b\b\b\b\b\b\b\b\b\b\b\b\b\b\b\b\b\b\b\b\b\b\b\b\b\b\b\b\b\b\b\b\b\b\b\b\b\b\b\b\b\b\b\b\b\b\b\b\b\b\b\b\r18/18 [==============================] - 2s 96ms/step - loss: 148.1538 - val_loss: 1382.6603\n",
            "Epoch 63/100\n",
            "18/18 [==============================] - 0s 7ms/step - loss: 147.1079 - val_loss: 1440.6873\n",
            "Epoch 64/100\n",
            "18/18 [==============================] - 0s 7ms/step - loss: 149.6970 - val_loss: 1392.8547\n",
            "Epoch 65/100\n",
            "12/18 [===================>..........] - ETA: 0s - loss: 148.5066INFO:tensorflow:Assets written to: model_experiments/model_5/assets\n"
          ]
        },
        {
          "output_type": "stream",
          "name": "stderr",
          "text": [
            "INFO:tensorflow:Assets written to: model_experiments/model_5/assets\n",
            "WARNING:absl:<keras.layers.recurrent.LSTMCell object at 0x7fc57f9d4910> has the same name 'LSTMCell' as a built-in Keras object. Consider renaming <class 'keras.layers.recurrent.LSTMCell'> to avoid naming conflicts when loading with `tf.keras.models.load_model`. If renaming is not possible, pass the object in the `custom_objects` parameter of the load function.\n"
          ]
        },
        {
          "output_type": "stream",
          "name": "stdout",
          "text": [
            "\b\b\b\b\b\b\b\b\b\b\b\b\b\b\b\b\b\b\b\b\b\b\b\b\b\b\b\b\b\b\b\b\b\b\b\b\b\b\b\b\b\b\b\b\b\b\b\b\b\b\b\b\b\b\b\b\b\b\b\b\b\b\b\b\b\r18/18 [==============================] - 2s 93ms/step - loss: 147.1522 - val_loss: 1380.1470\n",
            "Epoch 66/100\n",
            "11/18 [=================>............] - ETA: 0s - loss: 142.6892INFO:tensorflow:Assets written to: model_experiments/model_5/assets\n"
          ]
        },
        {
          "output_type": "stream",
          "name": "stderr",
          "text": [
            "INFO:tensorflow:Assets written to: model_experiments/model_5/assets\n",
            "WARNING:absl:<keras.layers.recurrent.LSTMCell object at 0x7fc57f9d4910> has the same name 'LSTMCell' as a built-in Keras object. Consider renaming <class 'keras.layers.recurrent.LSTMCell'> to avoid naming conflicts when loading with `tf.keras.models.load_model`. If renaming is not possible, pass the object in the `custom_objects` parameter of the load function.\n"
          ]
        },
        {
          "output_type": "stream",
          "name": "stdout",
          "text": [
            "\b\b\b\b\b\b\b\b\b\b\b\b\b\b\b\b\b\b\b\b\b\b\b\b\b\b\b\b\b\b\b\b\b\b\b\b\b\b\b\b\b\b\b\b\b\b\b\b\b\b\b\b\b\b\b\b\b\b\b\b\b\b\b\b\b\r18/18 [==============================] - 2s 119ms/step - loss: 146.0709 - val_loss: 1373.4487\n",
            "Epoch 67/100\n",
            "18/18 [==============================] - 0s 7ms/step - loss: 147.4711 - val_loss: 1419.7244\n",
            "Epoch 68/100\n",
            "18/18 [==============================] - 0s 6ms/step - loss: 152.4327 - val_loss: 1447.3231\n",
            "Epoch 69/100\n",
            "11/18 [=================>............] - ETA: 0s - loss: 150.6734INFO:tensorflow:Assets written to: model_experiments/model_5/assets\n"
          ]
        },
        {
          "output_type": "stream",
          "name": "stderr",
          "text": [
            "INFO:tensorflow:Assets written to: model_experiments/model_5/assets\n",
            "WARNING:absl:<keras.layers.recurrent.LSTMCell object at 0x7fc57f9d4910> has the same name 'LSTMCell' as a built-in Keras object. Consider renaming <class 'keras.layers.recurrent.LSTMCell'> to avoid naming conflicts when loading with `tf.keras.models.load_model`. If renaming is not possible, pass the object in the `custom_objects` parameter of the load function.\n"
          ]
        },
        {
          "output_type": "stream",
          "name": "stdout",
          "text": [
            "\b\b\b\b\b\b\b\b\b\b\b\b\b\b\b\b\b\b\b\b\b\b\b\b\b\b\b\b\b\b\b\b\b\b\b\b\b\b\b\b\b\b\b\b\b\b\b\b\b\b\b\b\b\b\b\b\b\b\b\b\b\b\b\b\b\r18/18 [==============================] - 2s 95ms/step - loss: 147.1360 - val_loss: 1366.5833\n",
            "Epoch 70/100\n",
            "18/18 [==============================] - 0s 7ms/step - loss: 145.7164 - val_loss: 1395.5493\n",
            "Epoch 71/100\n",
            "18/18 [==============================] - 0s 7ms/step - loss: 149.1620 - val_loss: 1382.3910\n",
            "Epoch 72/100\n",
            "18/18 [==============================] - 0s 7ms/step - loss: 147.3647 - val_loss: 1391.2646\n",
            "Epoch 73/100\n",
            "12/18 [===================>..........] - ETA: 0s - loss: 150.5565INFO:tensorflow:Assets written to: model_experiments/model_5/assets\n"
          ]
        },
        {
          "output_type": "stream",
          "name": "stderr",
          "text": [
            "INFO:tensorflow:Assets written to: model_experiments/model_5/assets\n",
            "WARNING:absl:<keras.layers.recurrent.LSTMCell object at 0x7fc57f9d4910> has the same name 'LSTMCell' as a built-in Keras object. Consider renaming <class 'keras.layers.recurrent.LSTMCell'> to avoid naming conflicts when loading with `tf.keras.models.load_model`. If renaming is not possible, pass the object in the `custom_objects` parameter of the load function.\n"
          ]
        },
        {
          "output_type": "stream",
          "name": "stdout",
          "text": [
            "\b\b\b\b\b\b\b\b\b\b\b\b\b\b\b\b\b\b\b\b\b\b\b\b\b\b\b\b\b\b\b\b\b\b\b\b\b\b\b\b\b\b\b\b\b\b\b\b\b\b\b\b\b\b\b\b\b\b\b\b\b\b\b\b\b\r18/18 [==============================] - 2s 93ms/step - loss: 145.7243 - val_loss: 1358.9349\n",
            "Epoch 74/100\n",
            "11/18 [=================>............] - ETA: 0s - loss: 142.2515INFO:tensorflow:Assets written to: model_experiments/model_5/assets\n"
          ]
        },
        {
          "output_type": "stream",
          "name": "stderr",
          "text": [
            "INFO:tensorflow:Assets written to: model_experiments/model_5/assets\n",
            "WARNING:absl:<keras.layers.recurrent.LSTMCell object at 0x7fc57f9d4910> has the same name 'LSTMCell' as a built-in Keras object. Consider renaming <class 'keras.layers.recurrent.LSTMCell'> to avoid naming conflicts when loading with `tf.keras.models.load_model`. If renaming is not possible, pass the object in the `custom_objects` parameter of the load function.\n"
          ]
        },
        {
          "output_type": "stream",
          "name": "stdout",
          "text": [
            "\b\b\b\b\b\b\b\b\b\b\b\b\b\b\b\b\b\b\b\b\b\b\b\b\b\b\b\b\b\b\b\b\b\b\b\b\b\b\b\b\b\b\b\b\b\b\b\b\b\b\b\b\b\b\b\b\b\b\b\b\b\b\b\b\b\r18/18 [==============================] - 2s 92ms/step - loss: 143.4212 - val_loss: 1358.6570\n",
            "Epoch 75/100\n",
            "11/18 [=================>............] - ETA: 0s - loss: 140.4861INFO:tensorflow:Assets written to: model_experiments/model_5/assets\n"
          ]
        },
        {
          "output_type": "stream",
          "name": "stderr",
          "text": [
            "INFO:tensorflow:Assets written to: model_experiments/model_5/assets\n",
            "WARNING:absl:<keras.layers.recurrent.LSTMCell object at 0x7fc57f9d4910> has the same name 'LSTMCell' as a built-in Keras object. Consider renaming <class 'keras.layers.recurrent.LSTMCell'> to avoid naming conflicts when loading with `tf.keras.models.load_model`. If renaming is not possible, pass the object in the `custom_objects` parameter of the load function.\n"
          ]
        },
        {
          "output_type": "stream",
          "name": "stdout",
          "text": [
            "\b\b\b\b\b\b\b\b\b\b\b\b\b\b\b\b\b\b\b\b\b\b\b\b\b\b\b\b\b\b\b\b\b\b\b\b\b\b\b\b\b\b\b\b\b\b\b\b\b\b\b\b\b\b\b\b\b\b\b\b\b\b\b\b\b\r18/18 [==============================] - 2s 95ms/step - loss: 143.0744 - val_loss: 1356.7894\n",
            "Epoch 76/100\n",
            "18/18 [==============================] - 0s 7ms/step - loss: 145.6058 - val_loss: 1361.7267\n",
            "Epoch 77/100\n",
            "18/18 [==============================] - 0s 7ms/step - loss: 145.6917 - val_loss: 1372.7405\n",
            "Epoch 78/100\n",
            "18/18 [==============================] - 0s 7ms/step - loss: 149.8410 - val_loss: 1387.3370\n",
            "Epoch 79/100\n",
            "11/18 [=================>............] - ETA: 0s - loss: 136.8039INFO:tensorflow:Assets written to: model_experiments/model_5/assets\n"
          ]
        },
        {
          "output_type": "stream",
          "name": "stderr",
          "text": [
            "INFO:tensorflow:Assets written to: model_experiments/model_5/assets\n",
            "WARNING:absl:<keras.layers.recurrent.LSTMCell object at 0x7fc57f9d4910> has the same name 'LSTMCell' as a built-in Keras object. Consider renaming <class 'keras.layers.recurrent.LSTMCell'> to avoid naming conflicts when loading with `tf.keras.models.load_model`. If renaming is not possible, pass the object in the `custom_objects` parameter of the load function.\n"
          ]
        },
        {
          "output_type": "stream",
          "name": "stdout",
          "text": [
            "\b\b\b\b\b\b\b\b\b\b\b\b\b\b\b\b\b\b\b\b\b\b\b\b\b\b\b\b\b\b\b\b\b\b\b\b\b\b\b\b\b\b\b\b\b\b\b\b\b\b\b\b\b\b\b\b\b\b\b\b\b\b\b\b\b\r18/18 [==============================] - 2s 120ms/step - loss: 144.2447 - val_loss: 1352.9442\n",
            "Epoch 80/100\n",
            "18/18 [==============================] - 0s 7ms/step - loss: 142.7352 - val_loss: 1356.3832\n",
            "Epoch 81/100\n",
            "12/18 [===================>..........] - ETA: 0s - loss: 146.6541INFO:tensorflow:Assets written to: model_experiments/model_5/assets\n"
          ]
        },
        {
          "output_type": "stream",
          "name": "stderr",
          "text": [
            "INFO:tensorflow:Assets written to: model_experiments/model_5/assets\n",
            "WARNING:absl:<keras.layers.recurrent.LSTMCell object at 0x7fc57f9d4910> has the same name 'LSTMCell' as a built-in Keras object. Consider renaming <class 'keras.layers.recurrent.LSTMCell'> to avoid naming conflicts when loading with `tf.keras.models.load_model`. If renaming is not possible, pass the object in the `custom_objects` parameter of the load function.\n"
          ]
        },
        {
          "output_type": "stream",
          "name": "stdout",
          "text": [
            "\b\b\b\b\b\b\b\b\b\b\b\b\b\b\b\b\b\b\b\b\b\b\b\b\b\b\b\b\b\b\b\b\b\b\b\b\b\b\b\b\b\b\b\b\b\b\b\b\b\b\b\b\b\b\b\b\b\b\b\b\b\b\b\b\b\r18/18 [==============================] - 2s 92ms/step - loss: 143.1857 - val_loss: 1346.5677\n",
            "Epoch 82/100\n",
            "18/18 [==============================] - 0s 7ms/step - loss: 142.4135 - val_loss: 1351.8716\n",
            "Epoch 83/100\n",
            "18/18 [==============================] - 0s 7ms/step - loss: 145.8804 - val_loss: 1437.7028\n",
            "Epoch 84/100\n",
            "12/18 [===================>..........] - ETA: 0s - loss: 150.8514INFO:tensorflow:Assets written to: model_experiments/model_5/assets\n"
          ]
        },
        {
          "output_type": "stream",
          "name": "stderr",
          "text": [
            "INFO:tensorflow:Assets written to: model_experiments/model_5/assets\n",
            "WARNING:absl:<keras.layers.recurrent.LSTMCell object at 0x7fc57f9d4910> has the same name 'LSTMCell' as a built-in Keras object. Consider renaming <class 'keras.layers.recurrent.LSTMCell'> to avoid naming conflicts when loading with `tf.keras.models.load_model`. If renaming is not possible, pass the object in the `custom_objects` parameter of the load function.\n"
          ]
        },
        {
          "output_type": "stream",
          "name": "stdout",
          "text": [
            "\b\b\b\b\b\b\b\b\b\b\b\b\b\b\b\b\b\b\b\b\b\b\b\b\b\b\b\b\b\b\b\b\b\b\b\b\b\b\b\b\b\b\b\b\b\b\b\b\b\b\b\b\b\b\b\b\b\b\b\b\b\b\b\b\b\r18/18 [==============================] - 2s 95ms/step - loss: 144.3708 - val_loss: 1345.1592\n",
            "Epoch 85/100\n",
            "18/18 [==============================] - 0s 7ms/step - loss: 142.0164 - val_loss: 1349.8584\n",
            "Epoch 86/100\n",
            " 9/18 [==============>...............] - ETA: 0s - loss: 136.8818INFO:tensorflow:Assets written to: model_experiments/model_5/assets\n"
          ]
        },
        {
          "output_type": "stream",
          "name": "stderr",
          "text": [
            "INFO:tensorflow:Assets written to: model_experiments/model_5/assets\n",
            "WARNING:absl:<keras.layers.recurrent.LSTMCell object at 0x7fc57f9d4910> has the same name 'LSTMCell' as a built-in Keras object. Consider renaming <class 'keras.layers.recurrent.LSTMCell'> to avoid naming conflicts when loading with `tf.keras.models.load_model`. If renaming is not possible, pass the object in the `custom_objects` parameter of the load function.\n"
          ]
        },
        {
          "output_type": "stream",
          "name": "stdout",
          "text": [
            "\b\b\b\b\b\b\b\b\b\b\b\b\b\b\b\b\b\b\b\b\b\b\b\b\b\b\b\b\b\b\b\b\b\b\b\b\b\b\b\b\b\b\b\b\b\b\b\b\b\b\b\b\b\b\b\b\b\b\b\b\b\b\b\b\b\r18/18 [==============================] - 2s 98ms/step - loss: 142.9797 - val_loss: 1343.9000\n",
            "Epoch 87/100\n",
            "11/18 [=================>............] - ETA: 0s - loss: 143.5284INFO:tensorflow:Assets written to: model_experiments/model_5/assets\n"
          ]
        },
        {
          "output_type": "stream",
          "name": "stderr",
          "text": [
            "INFO:tensorflow:Assets written to: model_experiments/model_5/assets\n",
            "WARNING:absl:<keras.layers.recurrent.LSTMCell object at 0x7fc57f9d4910> has the same name 'LSTMCell' as a built-in Keras object. Consider renaming <class 'keras.layers.recurrent.LSTMCell'> to avoid naming conflicts when loading with `tf.keras.models.load_model`. If renaming is not possible, pass the object in the `custom_objects` parameter of the load function.\n"
          ]
        },
        {
          "output_type": "stream",
          "name": "stdout",
          "text": [
            "\b\b\b\b\b\b\b\b\b\b\b\b\b\b\b\b\b\b\b\b\b\b\b\b\b\b\b\b\b\b\b\b\b\b\b\b\b\b\b\b\b\b\b\b\b\b\b\b\b\b\b\b\b\b\b\b\b\b\b\b\b\b\b\b\b\r18/18 [==============================] - 2s 92ms/step - loss: 145.6912 - val_loss: 1338.4999\n",
            "Epoch 88/100\n",
            "18/18 [==============================] - 0s 7ms/step - loss: 143.2408 - val_loss: 1355.8940\n",
            "Epoch 89/100\n",
            "10/18 [===============>..............] - ETA: 0s - loss: 137.2004INFO:tensorflow:Assets written to: model_experiments/model_5/assets\n"
          ]
        },
        {
          "output_type": "stream",
          "name": "stderr",
          "text": [
            "INFO:tensorflow:Assets written to: model_experiments/model_5/assets\n",
            "WARNING:absl:<keras.layers.recurrent.LSTMCell object at 0x7fc57f9d4910> has the same name 'LSTMCell' as a built-in Keras object. Consider renaming <class 'keras.layers.recurrent.LSTMCell'> to avoid naming conflicts when loading with `tf.keras.models.load_model`. If renaming is not possible, pass the object in the `custom_objects` parameter of the load function.\n"
          ]
        },
        {
          "output_type": "stream",
          "name": "stdout",
          "text": [
            "\b\b\b\b\b\b\b\b\b\b\b\b\b\b\b\b\b\b\b\b\b\b\b\b\b\b\b\b\b\b\b\b\b\b\b\b\b\b\b\b\b\b\b\b\b\b\b\b\b\b\b\b\b\b\b\b\b\b\b\b\b\b\b\b\b\r18/18 [==============================] - 2s 121ms/step - loss: 141.3392 - val_loss: 1335.5531\n",
            "Epoch 90/100\n",
            "18/18 [==============================] - 0s 7ms/step - loss: 141.8488 - val_loss: 1347.0747\n",
            "Epoch 91/100\n",
            "11/18 [=================>............] - ETA: 0s - loss: 146.4722INFO:tensorflow:Assets written to: model_experiments/model_5/assets\n"
          ]
        },
        {
          "output_type": "stream",
          "name": "stderr",
          "text": [
            "INFO:tensorflow:Assets written to: model_experiments/model_5/assets\n",
            "WARNING:absl:<keras.layers.recurrent.LSTMCell object at 0x7fc57f9d4910> has the same name 'LSTMCell' as a built-in Keras object. Consider renaming <class 'keras.layers.recurrent.LSTMCell'> to avoid naming conflicts when loading with `tf.keras.models.load_model`. If renaming is not possible, pass the object in the `custom_objects` parameter of the load function.\n"
          ]
        },
        {
          "output_type": "stream",
          "name": "stdout",
          "text": [
            "\b\b\b\b\b\b\b\b\b\b\b\b\b\b\b\b\b\b\b\b\b\b\b\b\b\b\b\b\b\b\b\b\b\b\b\b\b\b\b\b\b\b\b\b\b\b\b\b\b\b\b\b\b\b\b\b\b\b\b\b\b\b\b\b\b\r18/18 [==============================] - 2s 98ms/step - loss: 144.3659 - val_loss: 1333.9255\n",
            "Epoch 92/100\n",
            "18/18 [==============================] - 0s 7ms/step - loss: 141.5341 - val_loss: 1378.3750\n",
            "Epoch 93/100\n",
            "18/18 [==============================] - 0s 6ms/step - loss: 142.0372 - val_loss: 1355.1730\n",
            "Epoch 94/100\n",
            "18/18 [==============================] - 0s 6ms/step - loss: 146.0904 - val_loss: 1380.3328\n",
            "Epoch 95/100\n",
            "11/18 [=================>............] - ETA: 0s - loss: 146.9569INFO:tensorflow:Assets written to: model_experiments/model_5/assets\n"
          ]
        },
        {
          "output_type": "stream",
          "name": "stderr",
          "text": [
            "INFO:tensorflow:Assets written to: model_experiments/model_5/assets\n",
            "WARNING:absl:<keras.layers.recurrent.LSTMCell object at 0x7fc57f9d4910> has the same name 'LSTMCell' as a built-in Keras object. Consider renaming <class 'keras.layers.recurrent.LSTMCell'> to avoid naming conflicts when loading with `tf.keras.models.load_model`. If renaming is not possible, pass the object in the `custom_objects` parameter of the load function.\n"
          ]
        },
        {
          "output_type": "stream",
          "name": "stdout",
          "text": [
            "\b\b\b\b\b\b\b\b\b\b\b\b\b\b\b\b\b\b\b\b\b\b\b\b\b\b\b\b\b\b\b\b\b\b\b\b\b\b\b\b\b\b\b\b\b\b\b\b\b\b\b\b\b\b\b\b\b\b\b\b\b\b\b\b\b\r18/18 [==============================] - 2s 95ms/step - loss: 142.4818 - val_loss: 1332.6272\n",
            "Epoch 96/100\n",
            "18/18 [==============================] - 0s 7ms/step - loss: 143.9374 - val_loss: 1353.4369\n",
            "Epoch 97/100\n",
            "18/18 [==============================] - 0s 7ms/step - loss: 143.4921 - val_loss: 1369.3156\n",
            "Epoch 98/100\n",
            "18/18 [==============================] - 0s 7ms/step - loss: 147.3914 - val_loss: 1478.9640\n",
            "Epoch 99/100\n",
            "11/18 [=================>............] - ETA: 0s - loss: 149.1191INFO:tensorflow:Assets written to: model_experiments/model_5/assets\n"
          ]
        },
        {
          "output_type": "stream",
          "name": "stderr",
          "text": [
            "INFO:tensorflow:Assets written to: model_experiments/model_5/assets\n",
            "WARNING:absl:<keras.layers.recurrent.LSTMCell object at 0x7fc57f9d4910> has the same name 'LSTMCell' as a built-in Keras object. Consider renaming <class 'keras.layers.recurrent.LSTMCell'> to avoid naming conflicts when loading with `tf.keras.models.load_model`. If renaming is not possible, pass the object in the `custom_objects` parameter of the load function.\n"
          ]
        },
        {
          "output_type": "stream",
          "name": "stdout",
          "text": [
            "\b\b\b\b\b\b\b\b\b\b\b\b\b\b\b\b\b\b\b\b\b\b\b\b\b\b\b\b\b\b\b\b\b\b\b\b\b\b\b\b\b\b\b\b\b\b\b\b\b\b\b\b\b\b\b\b\b\b\b\b\b\b\b\b\b\r18/18 [==============================] - 2s 93ms/step - loss: 149.0950 - val_loss: 1323.7534\n",
            "Epoch 100/100\n",
            "18/18 [==============================] - 0s 8ms/step - loss: 142.6977 - val_loss: 1351.5515\n"
          ]
        },
        {
          "output_type": "execute_result",
          "data": {
            "text/plain": [
              "<keras.callbacks.History at 0x7fc57f5b76d0>"
            ]
          },
          "metadata": {},
          "execution_count": 127
        }
      ]
    },
    {
      "cell_type": "code",
      "source": [
        "model_5 = tf.keras.models.load_model('/content/model_experiments/model_5')\n",
        "model_5.evaluate(test_windows, test_labels)"
      ],
      "metadata": {
        "colab": {
          "base_uri": "https://localhost:8080/"
        },
        "id": "AIYd7Pl4a4GT",
        "outputId": "1fe54adf-a60a-422d-bf95-452dd8f264e2"
      },
      "execution_count": null,
      "outputs": [
        {
          "output_type": "stream",
          "name": "stdout",
          "text": [
            "WARNING:tensorflow:Layer lstm_1 will not use cuDNN kernels since it doesn't meet the criteria. It will use a generic GPU kernel as fallback when running on GPU.\n"
          ]
        },
        {
          "output_type": "stream",
          "name": "stderr",
          "text": [
            "WARNING:tensorflow:Layer lstm_1 will not use cuDNN kernels since it doesn't meet the criteria. It will use a generic GPU kernel as fallback when running on GPU.\n"
          ]
        },
        {
          "output_type": "stream",
          "name": "stdout",
          "text": [
            "18/18 [==============================] - 0s 2ms/step - loss: 1323.7533\n"
          ]
        },
        {
          "output_type": "execute_result",
          "data": {
            "text/plain": [
              "1323.7532958984375"
            ]
          },
          "metadata": {},
          "execution_count": 128
        }
      ]
    },
    {
      "cell_type": "code",
      "source": [
        "model_5_preds = make_preds(model_5, test_windows)\n",
        "model_5_results = evaluate_pred(y_true = tf.squeeze(test_labels), y_pred = model_5_preds)\n",
        "model_5_results"
      ],
      "metadata": {
        "colab": {
          "base_uri": "https://localhost:8080/"
        },
        "id": "1uFKk_OUbFb5",
        "outputId": "0a551ef3-2b88-407f-897e-85ceed13bb4b"
      },
      "execution_count": null,
      "outputs": [
        {
          "output_type": "execute_result",
          "data": {
            "text/plain": [
              "{'mae': 1323.7534,\n",
              " 'mape': 3.1562712,\n",
              " 'mase': 1.0617559,\n",
              " 'mse': 3184392.2,\n",
              " 'rmse': 1784.4865}"
            ]
          },
          "metadata": {},
          "execution_count": 129
        }
      ]
    },
    {
      "cell_type": "markdown",
      "source": [
        "### Model 6: Multivariate time series"
      ],
      "metadata": {
        "id": "ksgXBmemhFsu"
      }
    },
    {
      "cell_type": "code",
      "source": [
        "block_reward_1=50\n",
        "block_reward_2=25\n",
        "block_reward_3=12.5\n",
        "block_reward_4=6.25\n",
        "\n",
        "block_reward_2_datatime = np.datetime64(\"2012-11-28\")\n",
        "block_reward_3_datatime = np.datetime64(\"2016-07-09\")\n",
        "block_reward_4_datatime = np.datetime64(\"2020-05-18\")"
      ],
      "metadata": {
        "id": "Ae3si5HFhVa2"
      },
      "execution_count": null,
      "outputs": []
    },
    {
      "cell_type": "code",
      "source": [
        "block_reward_2_days = (block_reward_3_datatime - stock_prices.index[0]).days\n",
        "block_reward_3_days = (block_reward_4_datatime - stock_prices.index[0]).days\n",
        "block_reward_2_days, block_reward_3_days"
      ],
      "metadata": {
        "colab": {
          "base_uri": "https://localhost:8080/"
        },
        "id": "hGj1UIk8U95I",
        "outputId": "7a0d1eab-92a4-4d2f-984a-11b0acf31172"
      },
      "execution_count": null,
      "outputs": [
        {
          "output_type": "execute_result",
          "data": {
            "text/plain": [
              "(661, 2070)"
            ]
          },
          "metadata": {},
          "execution_count": 131
        }
      ]
    },
    {
      "cell_type": "code",
      "source": [
        "stock_prices_block = stock_prices.copy()\n",
        "stock_prices_block[\"block_reward\"] = None\n",
        "stock_prices_block.iloc[:block_reward_2_days, -1] = block_reward_2\n",
        "stock_prices_block.iloc[:block_reward_3_days, -1] = block_reward_3\n",
        "stock_prices_block.iloc[block_reward_3_days:, -1] = block_reward_4"
      ],
      "metadata": {
        "id": "MJcuM47QW7ys"
      },
      "execution_count": null,
      "outputs": []
    },
    {
      "cell_type": "code",
      "source": [
        "from sklearn.preprocessing import minmax_scale\n",
        "scaled_price_block_df = pd.DataFrame(minmax_scale(stock_prices_block[[\"Price\", \"block_reward\"]]),\n",
        "                                     columns= stock_prices_block.columns,\n",
        "                                     index=stock_prices_block.index)\n",
        "scaled_price_block_df.plot(figsize=(10,7))"
      ],
      "metadata": {
        "colab": {
          "base_uri": "https://localhost:8080/"
        },
        "id": "zajsCLFJXc8t",
        "outputId": "0c1cdae4-68ba-4585-c35b-584b8300baf5"
      },
      "execution_count": null,
      "outputs": [
        {
          "output_type": "execute_result",
          "data": {
            "text/plain": [
              "<matplotlib.axes._subplots.AxesSubplot at 0x7fc57cad5f10>"
            ]
          },
          "metadata": {},
          "execution_count": 133
        },
        {
          "output_type": "display_data",
          "data": {
            "text/plain": [
              "<Figure size 720x504 with 1 Axes>"
            ],
            "image/png": "[encoded data removed]"
          },
          "metadata": {
            "needs_background": "light"
          }
        }
      ]
    },
    {
      "cell_type": "code",
      "source": [
        "HORIZON = 1\n",
        "WINDOW_SIZE = 7"
      ],
      "metadata": {
        "id": "iHh0rp1yaeNi"
      },
      "execution_count": null,
      "outputs": []
    },
    {
      "cell_type": "code",
      "source": [
        "stock_prices_windowed = stock_prices_block.copy()\n",
        "for i in range(WINDOW_SIZE):\n",
        "  stock_prices_windowed[f\"Price+{i+1}\"] = stock_prices_windowed[\"Price\"].shift(periods=i+1)\n",
        "stock_prices_windowed.head(10)"
      ],
      "metadata": {
        "colab": {
          "base_uri": "https://localhost:8080/"
        },
        "id": "4ZjVx5nxa6zL",
        "outputId": "dbee2800-6753-42c5-efe3-37b47a1bf3e4"
      },
      "execution_count": null,
      "outputs": [
        {
          "output_type": "execute_result",
          "data": {
            "text/plain": [
              "                 Price block_reward     Price+1     Price+2     Price+3  \\\n",
              "Date                                                                      \n",
              "2014-09-17  457.334015         12.5         NaN         NaN         NaN   \n",
              "2014-09-18  424.440002         12.5  457.334015         NaN         NaN   \n",
              "2014-09-19  394.795990         12.5  424.440002  457.334015         NaN   \n",
              "2014-09-20  408.903992         12.5  394.795990  424.440002  457.334015   \n",
              "2014-09-21  398.821014         12.5  408.903992  394.795990  424.440002   \n",
              "2014-09-22  402.152008         12.5  398.821014  408.903992  394.795990   \n",
              "2014-09-23  435.790985         12.5  402.152008  398.821014  408.903992   \n",
              "2014-09-24  423.204987         12.5  435.790985  402.152008  398.821014   \n",
              "2014-09-25  411.574005         12.5  423.204987  435.790985  402.152008   \n",
              "2014-09-26  404.424988         12.5  411.574005  423.204987  435.790985   \n",
              "\n",
              "               Price+4     Price+5     Price+6     Price+7  \n",
              "Date                                                        \n",
              "2014-09-17         NaN         NaN         NaN         NaN  \n",
              "2014-09-18         NaN         NaN         NaN         NaN  \n",
              "2014-09-19         NaN         NaN         NaN         NaN  \n",
              "2014-09-20         NaN         NaN         NaN         NaN  \n",
              "2014-09-21  457.334015         NaN         NaN         NaN  \n",
              "2014-09-22  424.440002  457.334015         NaN         NaN  \n",
              "2014-09-23  394.795990  424.440002  457.334015         NaN  \n",
              "2014-09-24  408.903992  394.795990  424.440002  457.334015  \n",
              "2014-09-25  398.821014  408.903992  394.795990  424.440002  \n",
              "2014-09-26  402.152008  398.821014  408.903992  394.795990  "
            ],
            "text/html": [
              "\n",
              "  <div id=\"df-eb2a07b8-43d0-4b58-bcaa-0f30487399e5\">\n",
              "    <div class=\"colab-df-container\">\n",
              "      <div>\n",
              "<style scoped>\n",
              "    .dataframe tbody tr th:only-of-type {\n",
              "        vertical-align: middle;\n",
              "    }\n",
              "\n",
              "    .dataframe tbody tr th {\n",
              "        vertical-align: top;\n",
              "    }\n",
              "\n",
              "    .dataframe thead th {\n",
              "        text-align: right;\n",
              "    }\n",
              "</style>\n",
              "<table border=\"1\" class=\"dataframe\">\n",
              "  <thead>\n",
              "    <tr style=\"text-align: right;\">\n",
              "      <th></th>\n",
              "      <th>Price</th>\n",
              "      <th>block_reward</th>\n",
              "      <th>Price+1</th>\n",
              "      <th>Price+2</th>\n",
              "      <th>Price+3</th>\n",
              "      <th>Price+4</th>\n",
              "      <th>Price+5</th>\n",
              "      <th>Price+6</th>\n",
              "      <th>Price+7</th>\n",
              "    </tr>\n",
              "    <tr>\n",
              "      <th>Date</th>\n",
              "      <th></th>\n",
              "      <th></th>\n",
              "      <th></th>\n",
              "      <th></th>\n",
              "      <th></th>\n",
              "      <th></th>\n",
              "      <th></th>\n",
              "      <th></th>\n",
              "      <th></th>\n",
              "    </tr>\n",
              "  </thead>\n",
              "  <tbody>\n",
              "    <tr>\n",
              "      <th>2014-09-17</th>\n",
              "      <td>457.334015</td>\n",
              "      <td>12.5</td>\n",
              "      <td>NaN</td>\n",
              "      <td>NaN</td>\n",
              "      <td>NaN</td>\n",
              "      <td>NaN</td>\n",
              "      <td>NaN</td>\n",
              "      <td>NaN</td>\n",
              "      <td>NaN</td>\n",
              "    </tr>\n",
              "    <tr>\n",
              "      <th>2014-09-18</th>\n",
              "      <td>424.440002</td>\n",
              "      <td>12.5</td>\n",
              "      <td>457.334015</td>\n",
              "      <td>NaN</td>\n",
              "      <td>NaN</td>\n",
              "      <td>NaN</td>\n",
              "      <td>NaN</td>\n",
              "      <td>NaN</td>\n",
              "      <td>NaN</td>\n",
              "    </tr>\n",
              "    <tr>\n",
              "      <th>2014-09-19</th>\n",
              "      <td>394.795990</td>\n",
              "      <td>12.5</td>\n",
              "      <td>424.440002</td>\n",
              "      <td>457.334015</td>\n",
              "      <td>NaN</td>\n",
              "      <td>NaN</td>\n",
              "      <td>NaN</td>\n",
              "      <td>NaN</td>\n",
              "      <td>NaN</td>\n",
              "    </tr>\n",
              "    <tr>\n",
              "      <th>2014-09-20</th>\n",
              "      <td>408.903992</td>\n",
              "      <td>12.5</td>\n",
              "      <td>394.795990</td>\n",
              "      <td>424.440002</td>\n",
              "      <td>457.334015</td>\n",
              "      <td>NaN</td>\n",
              "      <td>NaN</td>\n",
              "      <td>NaN</td>\n",
              "      <td>NaN</td>\n",
              "    </tr>\n",
              "    <tr>\n",
              "      <th>2014-09-21</th>\n",
              "      <td>398.821014</td>\n",
              "      <td>12.5</td>\n",
              "      <td>408.903992</td>\n",
              "      <td>394.795990</td>\n",
              "      <td>424.440002</td>\n",
              "      <td>457.334015</td>\n",
              "      <td>NaN</td>\n",
              "      <td>NaN</td>\n",
              "      <td>NaN</td>\n",
              "    </tr>\n",
              "    <tr>\n",
              "      <th>2014-09-22</th>\n",
              "      <td>402.152008</td>\n",
              "      <td>12.5</td>\n",
              "      <td>398.821014</td>\n",
              "      <td>408.903992</td>\n",
              "      <td>394.795990</td>\n",
              "      <td>424.440002</td>\n",
              "      <td>457.334015</td>\n",
              "      <td>NaN</td>\n",
              "      <td>NaN</td>\n",
              "    </tr>\n",
              "    <tr>\n",
              "      <th>2014-09-23</th>\n",
              "      <td>435.790985</td>\n",
              "      <td>12.5</td>\n",
              "      <td>402.152008</td>\n",
              "      <td>398.821014</td>\n",
              "      <td>408.903992</td>\n",
              "      <td>394.795990</td>\n",
              "      <td>424.440002</td>\n",
              "      <td>457.334015</td>\n",
              "      <td>NaN</td>\n",
              "    </tr>\n",
              "    <tr>\n",
              "      <th>2014-09-24</th>\n",
              "      <td>423.204987</td>\n",
              "      <td>12.5</td>\n",
              "      <td>435.790985</td>\n",
              "      <td>402.152008</td>\n",
              "      <td>398.821014</td>\n",
              "      <td>408.903992</td>\n",
              "      <td>394.795990</td>\n",
              "      <td>424.440002</td>\n",
              "      <td>457.334015</td>\n",
              "    </tr>\n",
              "    <tr>\n",
              "      <th>2014-09-25</th>\n",
              "      <td>411.574005</td>\n",
              "      <td>12.5</td>\n",
              "      <td>423.204987</td>\n",
              "      <td>435.790985</td>\n",
              "      <td>402.152008</td>\n",
              "      <td>398.821014</td>\n",
              "      <td>408.903992</td>\n",
              "      <td>394.795990</td>\n",
              "      <td>424.440002</td>\n",
              "    </tr>\n",
              "    <tr>\n",
              "      <th>2014-09-26</th>\n",
              "      <td>404.424988</td>\n",
              "      <td>12.5</td>\n",
              "      <td>411.574005</td>\n",
              "      <td>423.204987</td>\n",
              "      <td>435.790985</td>\n",
              "      <td>402.152008</td>\n",
              "      <td>398.821014</td>\n",
              "      <td>408.903992</td>\n",
              "      <td>394.795990</td>\n",
              "    </tr>\n",
              "  </tbody>\n",
              "</table>\n",
              "</div>\n",
              "      <button class=\"colab-df-convert\" onclick=\"convertToInteractive('df-eb2a07b8-43d0-4b58-bcaa-0f30487399e5')\"\n",
              "              title=\"Convert this dataframe to an interactive table.\"\n",
              "              style=\"display:none;\">\n",
              "        \n",
              "  <svg xmlns=\"http://www.w3.org/2000/svg\" height=\"24px\"viewBox=\"0 0 24 24\"\n",
              "       width=\"24px\">\n",
              "    <path d=\"M0 0h24v24H0V0z\" fill=\"none\"/>\n",
              "    <path d=\"M18.56 5.44l.94 2.06.94-2.06 2.06-.94-2.06-.94-.94-2.06-.94 2.06-2.06.94zm-11 1L8.5 8.5l.94-2.06 2.06-.94-2.06-.94L8.5 2.5l-.94 2.06-2.06.94zm10 10l.94 2.06.94-2.06 2.06-.94-2.06-.94-.94-2.06-.94 2.06-2.06.94z\"/><path d=\"M17.41 7.96l-1.37-1.37c-.4-.4-.92-.59-1.43-.59-.52 0-1.04.2-1.43.59L10.3 9.45l-7.72 7.72c-.78.78-.78 2.05 0 2.83L4 21.41c.39.39.9.59 1.41.59.51 0 1.02-.2 1.41-.59l7.78-7.78 2.81-2.81c.8-.78.8-2.07 0-2.86zM5.41 20L4 18.59l7.72-7.72 1.47 1.35L5.41 20z\"/>\n",
              "  </svg>\n",
              "      </button>\n",
              "      \n",
              "  <style>\n",
              "    .colab-df-container {\n",
              "      display:flex;\n",
              "      flex-wrap:wrap;\n",
              "      gap: 12px;\n",
              "    }\n",
              "\n",
              "    .colab-df-convert {\n",
              "      background-color: #E8F0FE;\n",
              "      border: none;\n",
              "      border-radius: 50%;\n",
              "      cursor: pointer;\n",
              "      display: none;\n",
              "      fill: #1967D2;\n",
              "      height: 32px;\n",
              "      padding: 0 0 0 0;\n",
              "      width: 32px;\n",
              "    }\n",
              "\n",
              "    .colab-df-convert:hover {\n",
              "      background-color: #E2EBFA;\n",
              "      box-shadow: 0px 1px 2px rgba(60, 64, 67, 0.3), 0px 1px 3px 1px rgba(60, 64, 67, 0.15);\n",
              "      fill: #174EA6;\n",
              "    }\n",
              "\n",
              "    [theme=dark] .colab-df-convert {\n",
              "      background-color: #3B4455;\n",
              "      fill: #D2E3FC;\n",
              "    }\n",
              "\n",
              "    [theme=dark] .colab-df-convert:hover {\n",
              "      background-color: #434B5C;\n",
              "      box-shadow: 0px 1px 3px 1px rgba(0, 0, 0, 0.15);\n",
              "      filter: drop-shadow(0px 1px 2px rgba(0, 0, 0, 0.3));\n",
              "      fill: #FFFFFF;\n",
              "    }\n",
              "  </style>\n",
              "\n",
              "      <script>\n",
              "        const buttonEl =\n",
              "          document.querySelector('#df-eb2a07b8-43d0-4b58-bcaa-0f30487399e5 button.colab-df-convert');\n",
              "        buttonEl.style.display =\n",
              "          google.colab.kernel.accessAllowed ? 'block' : 'none';\n",
              "\n",
              "        async function convertToInteractive(key) {\n",
              "          const element = document.querySelector('#df-eb2a07b8-43d0-4b58-bcaa-0f30487399e5');\n",
              "          const dataTable =\n",
              "            await google.colab.kernel.invokeFunction('convertToInteractive',\n",
              "                                                     [key], {});\n",
              "          if (!dataTable) return;\n",
              "\n",
              "          const docLinkHtml = 'Like what you see? Visit the ' +\n",
              "            '<a target=\"_blank\" href=https://colab.research.google.com/notebooks/data_table.ipynb>data table notebook</a>'\n",
              "            + ' to learn more about interactive tables.';\n",
              "          element.innerHTML = '';\n",
              "          dataTable['output_type'] = 'display_data';\n",
              "          await google.colab.output.renderOutput(dataTable, element);\n",
              "          const docLink = document.createElement('div');\n",
              "          docLink.innerHTML = docLinkHtml;\n",
              "          element.appendChild(docLink);\n",
              "        }\n",
              "      </script>\n",
              "    </div>\n",
              "  </div>\n",
              "  "
            ]
          },
          "metadata": {},
          "execution_count": 135
        }
      ]
    },
    {
      "cell_type": "code",
      "source": [
        "X = stock_prices_windowed.dropna().drop(\"Price\", axis = 1).astype(np.float32)\n",
        "y = stock_prices_windowed.dropna()[\"Price\"].astype(np.float32)"
      ],
      "metadata": {
        "id": "Q5HHxglicSc_"
      },
      "execution_count": null,
      "outputs": []
    },
    {
      "cell_type": "code",
      "source": [
        "split_size = int(len(X) * 0.8)\n",
        "X_train, y_train = X[:split_size], y[:split_size]\n",
        "X_test, y_test = X[split_size:], y[split_size:]"
      ],
      "metadata": {
        "id": "8dSpSCDFdAU4"
      },
      "execution_count": null,
      "outputs": []
    },
    {
      "cell_type": "code",
      "source": [],
      "metadata": {
        "id": "-HkFB36N0i6A"
      },
      "execution_count": null,
      "outputs": []
    },
    {
      "cell_type": "code",
      "source": [
        "tf.random.set_seed(42)\n",
        "model_6 = tf.keras.Sequential([\n",
        "                               layers.Dense(128, activation = 'relu'),\n",
        "                              #  layers.Dense(128, activation = 'relu'),\n",
        "                               layers.Dense(HORIZON)],\n",
        "                              name = 'model_6')\n",
        "model_6.compile(loss = 'mae',\n",
        "                optimizer = tf.keras.optimizers.Adam())\n",
        "model_6.fit(X_train, y_train,\n",
        "            epochs = 100,\n",
        "            batch_size = 128,\n",
        "            verbose = 1,\n",
        "            validation_data =(X_test, y_test),\n",
        "            callbacks = [create_model_checkpoint(model_name=model_6.name)])"
      ],
      "metadata": {
        "colab": {
          "base_uri": "https://localhost:8080/"
        },
        "id": "gKWbY0OQwN4e",
        "outputId": "50fefcbc-8795-4239-9bb6-49ad56350272"
      },
      "execution_count": null,
      "outputs": [
        {
          "output_type": "stream",
          "name": "stdout",
          "text": [
            "Epoch 1/100\n",
            " 1/18 [>.............................] - ETA: 5s - loss: 3576.2332INFO:tensorflow:Assets written to: model_experiments/model_6/assets\n"
          ]
        },
        {
          "output_type": "stream",
          "name": "stderr",
          "text": [
            "INFO:tensorflow:Assets written to: model_experiments/model_6/assets\n"
          ]
        },
        {
          "output_type": "stream",
          "name": "stdout",
          "text": [
            "\b\b\b\b\b\b\b\b\b\b\b\b\b\b\b\b\b\b\b\b\b\b\b\b\b\b\b\b\b\b\b\b\b\b\b\b\b\b\b\b\b\b\b\b\b\b\b\b\b\b\b\b\b\b\b\b\b\b\b\b\b\b\b\b\b\b\r18/18 [==============================] - 1s 29ms/step - loss: 1807.8865 - val_loss: 5039.8447\n",
            "Epoch 2/100\n",
            " 1/18 [>.............................] - ETA: 0s - loss: 593.1755INFO:tensorflow:Assets written to: model_experiments/model_6/assets\n"
          ]
        },
        {
          "output_type": "stream",
          "name": "stderr",
          "text": [
            "INFO:tensorflow:Assets written to: model_experiments/model_6/assets\n"
          ]
        },
        {
          "output_type": "stream",
          "name": "stdout",
          "text": [
            "\b\b\b\b\b\b\b\b\b\b\b\b\b\b\b\b\b\b\b\b\b\b\b\b\b\b\b\b\b\b\b\b\b\b\b\b\b\b\b\b\b\b\b\b\b\b\b\b\b\b\b\b\b\b\b\b\b\b\b\b\b\b\b\b\b\r18/18 [==============================] - 0s 24ms/step - loss: 455.4636 - val_loss: 2991.8716\n",
            "Epoch 3/100\n",
            " 1/18 [>.............................] - ETA: 0s - loss: 329.6542INFO:tensorflow:Assets written to: model_experiments/model_6/assets\n"
          ]
        },
        {
          "output_type": "stream",
          "name": "stderr",
          "text": [
            "INFO:tensorflow:Assets written to: model_experiments/model_6/assets\n"
          ]
        },
        {
          "output_type": "stream",
          "name": "stdout",
          "text": [
            "\b\b\b\b\b\b\b\b\b\b\b\b\b\b\b\b\b\b\b\b\b\b\b\b\b\b\b\b\b\b\b\b\b\b\b\b\b\b\b\b\b\b\b\b\b\b\b\b\b\b\b\b\b\b\b\b\b\b\b\b\b\b\b\b\b\r18/18 [==============================] - 0s 24ms/step - loss: 287.7888 - val_loss: 2477.8042\n",
            "Epoch 4/100\n",
            " 1/18 [>.............................] - ETA: 0s - loss: 248.4337INFO:tensorflow:Assets written to: model_experiments/model_6/assets\n"
          ]
        },
        {
          "output_type": "stream",
          "name": "stderr",
          "text": [
            "INFO:tensorflow:Assets written to: model_experiments/model_6/assets\n"
          ]
        },
        {
          "output_type": "stream",
          "name": "stdout",
          "text": [
            "\b\b\b\b\b\b\b\b\b\b\b\b\b\b\b\b\b\b\b\b\b\b\b\b\b\b\b\b\b\b\b\b\b\b\b\b\b\b\b\b\b\b\b\b\b\b\b\b\b\b\b\b\b\b\b\b\b\b\b\b\b\b\b\b\b\r18/18 [==============================] - 0s 25ms/step - loss: 266.4838 - val_loss: 2342.5889\n",
            "Epoch 5/100\n",
            " 1/18 [>.............................] - ETA: 0s - loss: 229.7468INFO:tensorflow:Assets written to: model_experiments/model_6/assets\n"
          ]
        },
        {
          "output_type": "stream",
          "name": "stderr",
          "text": [
            "INFO:tensorflow:Assets written to: model_experiments/model_6/assets\n"
          ]
        },
        {
          "output_type": "stream",
          "name": "stdout",
          "text": [
            "\b\b\b\b\b\b\b\b\b\b\b\b\b\b\b\b\b\b\b\b\b\b\b\b\b\b\b\b\b\b\b\b\b\b\b\b\b\b\b\b\b\b\b\b\b\b\b\b\b\b\b\b\b\b\b\b\b\b\b\b\b\b\b\b\b\r18/18 [==============================] - 0s 24ms/step - loss: 257.3104 - val_loss: 2318.6470\n",
            "Epoch 6/100\n",
            " 1/18 [>.............................] - ETA: 0s - loss: 219.4404INFO:tensorflow:Assets written to: model_experiments/model_6/assets\n"
          ]
        },
        {
          "output_type": "stream",
          "name": "stderr",
          "text": [
            "INFO:tensorflow:Assets written to: model_experiments/model_6/assets\n"
          ]
        },
        {
          "output_type": "stream",
          "name": "stdout",
          "text": [
            "\b\b\b\b\b\b\b\b\b\b\b\b\b\b\b\b\b\b\b\b\b\b\b\b\b\b\b\b\b\b\b\b\b\b\b\b\b\b\b\b\b\b\b\b\b\b\b\b\b\b\b\b\b\b\b\b\b\b\b\b\b\b\b\b\b\r18/18 [==============================] - 0s 24ms/step - loss: 250.9969 - val_loss: 2254.8044\n",
            "Epoch 7/100\n",
            " 1/18 [>.............................] - ETA: 0s - loss: 227.4438INFO:tensorflow:Assets written to: model_experiments/model_6/assets\n"
          ]
        },
        {
          "output_type": "stream",
          "name": "stderr",
          "text": [
            "INFO:tensorflow:Assets written to: model_experiments/model_6/assets\n"
          ]
        },
        {
          "output_type": "stream",
          "name": "stdout",
          "text": [
            "\b\b\b\b\b\b\b\b\b\b\b\b\b\b\b\b\b\b\b\b\b\b\b\b\b\b\b\b\b\b\b\b\b\b\b\b\b\b\b\b\b\b\b\b\b\b\b\b\b\b\b\b\b\b\b\b\b\b\b\b\b\b\b\b\b\r18/18 [==============================] - 0s 24ms/step - loss: 247.6007 - val_loss: 2247.7705\n",
            "Epoch 8/100\n",
            " 1/18 [>.............................] - ETA: 0s - loss: 274.3088INFO:tensorflow:Assets written to: model_experiments/model_6/assets\n"
          ]
        },
        {
          "output_type": "stream",
          "name": "stderr",
          "text": [
            "INFO:tensorflow:Assets written to: model_experiments/model_6/assets\n"
          ]
        },
        {
          "output_type": "stream",
          "name": "stdout",
          "text": [
            "\b\b\b\b\b\b\b\b\b\b\b\b\b\b\b\b\b\b\b\b\b\b\b\b\b\b\b\b\b\b\b\b\b\b\b\b\b\b\b\b\b\b\b\b\b\b\b\b\b\b\b\b\b\b\b\b\b\b\b\b\b\b\b\b\b\r18/18 [==============================] - 0s 24ms/step - loss: 242.2227 - val_loss: 2158.8669\n",
            "Epoch 9/100\n",
            " 1/18 [>.............................] - ETA: 0s - loss: 282.8738INFO:tensorflow:Assets written to: model_experiments/model_6/assets\n"
          ]
        },
        {
          "output_type": "stream",
          "name": "stderr",
          "text": [
            "INFO:tensorflow:Assets written to: model_experiments/model_6/assets\n"
          ]
        },
        {
          "output_type": "stream",
          "name": "stdout",
          "text": [
            "\b\b\b\b\b\b\b\b\b\b\b\b\b\b\b\b\b\b\b\b\b\b\b\b\b\b\b\b\b\b\b\b\b\b\b\b\b\b\b\b\b\b\b\b\b\b\b\b\b\b\b\b\b\b\b\b\b\b\b\b\b\b\b\b\b\r18/18 [==============================] - 0s 25ms/step - loss: 238.0818 - val_loss: 2125.6230\n",
            "Epoch 10/100\n",
            "18/18 [==============================] - 0s 5ms/step - loss: 232.1719 - val_loss: 2142.2551\n",
            "Epoch 11/100\n",
            " 1/18 [>.............................] - ETA: 0s - loss: 205.1754INFO:tensorflow:Assets written to: model_experiments/model_6/assets\n"
          ]
        },
        {
          "output_type": "stream",
          "name": "stderr",
          "text": [
            "INFO:tensorflow:Assets written to: model_experiments/model_6/assets\n"
          ]
        },
        {
          "output_type": "stream",
          "name": "stdout",
          "text": [
            "\b\b\b\b\b\b\b\b\b\b\b\b\b\b\b\b\b\b\b\b\b\b\b\b\b\b\b\b\b\b\b\b\b\b\b\b\b\b\b\b\b\b\b\b\b\b\b\b\b\b\b\b\b\b\b\b\b\b\b\b\b\b\b\b\b\r18/18 [==============================] - 0s 24ms/step - loss: 223.8107 - val_loss: 2055.4871\n",
            "Epoch 12/100\n",
            " 1/18 [>.............................] - ETA: 0s - loss: 254.2300INFO:tensorflow:Assets written to: model_experiments/model_6/assets\n"
          ]
        },
        {
          "output_type": "stream",
          "name": "stderr",
          "text": [
            "INFO:tensorflow:Assets written to: model_experiments/model_6/assets\n"
          ]
        },
        {
          "output_type": "stream",
          "name": "stdout",
          "text": [
            "\b\b\b\b\b\b\b\b\b\b\b\b\b\b\b\b\b\b\b\b\b\b\b\b\b\b\b\b\b\b\b\b\b\b\b\b\b\b\b\b\b\b\b\b\b\b\b\b\b\b\b\b\b\b\b\b\b\b\b\b\b\b\b\b\b\r18/18 [==============================] - 0s 24ms/step - loss: 215.6228 - val_loss: 1988.2664\n",
            "Epoch 13/100\n",
            " 1/18 [>.............................] - ETA: 0s - loss: 217.4636INFO:tensorflow:Assets written to: model_experiments/model_6/assets\n"
          ]
        },
        {
          "output_type": "stream",
          "name": "stderr",
          "text": [
            "INFO:tensorflow:Assets written to: model_experiments/model_6/assets\n"
          ]
        },
        {
          "output_type": "stream",
          "name": "stdout",
          "text": [
            "\b\b\b\b\b\b\b\b\b\b\b\b\b\b\b\b\b\b\b\b\b\b\b\b\b\b\b\b\b\b\b\b\b\b\b\b\b\b\b\b\b\b\b\b\b\b\b\b\b\b\b\b\b\b\b\b\b\b\b\b\b\b\b\b\b\r18/18 [==============================] - 0s 24ms/step - loss: 210.7443 - val_loss: 1933.6765\n",
            "Epoch 14/100\n",
            "18/18 [==============================] - ETA: 0s - loss: 206.5982INFO:tensorflow:Assets written to: model_experiments/model_6/assets\n"
          ]
        },
        {
          "output_type": "stream",
          "name": "stderr",
          "text": [
            "INFO:tensorflow:Assets written to: model_experiments/model_6/assets\n"
          ]
        },
        {
          "output_type": "stream",
          "name": "stdout",
          "text": [
            "\b\b\b\b\b\b\b\b\b\b\b\b\b\b\b\b\b\b\b\b\b\b\b\b\b\b\b\b\b\b\b\b\b\b\b\b\b\b\b\b\b\b\b\b\b\b\b\b\b\b\b\b\b\b\b\b\b\b\b\b\b\b\b\b\b\r18/18 [==============================] - 0s 25ms/step - loss: 206.5982 - val_loss: 1862.7191\n",
            "Epoch 15/100\n",
            " 1/18 [>.............................] - ETA: 0s - loss: 191.3439INFO:tensorflow:Assets written to: model_experiments/model_6/assets\n"
          ]
        },
        {
          "output_type": "stream",
          "name": "stderr",
          "text": [
            "INFO:tensorflow:Assets written to: model_experiments/model_6/assets\n"
          ]
        },
        {
          "output_type": "stream",
          "name": "stdout",
          "text": [
            "\b\b\b\b\b\b\b\b\b\b\b\b\b\b\b\b\b\b\b\b\b\b\b\b\b\b\b\b\b\b\b\b\b\b\b\b\b\b\b\b\b\b\b\b\b\b\b\b\b\b\b\b\b\b\b\b\b\b\b\b\b\b\b\b\b\r18/18 [==============================] - 0s 24ms/step - loss: 195.1389 - val_loss: 1772.6287\n",
            "Epoch 16/100\n",
            " 1/18 [>.............................] - ETA: 0s - loss: 193.1746INFO:tensorflow:Assets written to: model_experiments/model_6/assets\n"
          ]
        },
        {
          "output_type": "stream",
          "name": "stderr",
          "text": [
            "INFO:tensorflow:Assets written to: model_experiments/model_6/assets\n"
          ]
        },
        {
          "output_type": "stream",
          "name": "stdout",
          "text": [
            "\b\b\b\b\b\b\b\b\b\b\b\b\b\b\b\b\b\b\b\b\b\b\b\b\b\b\b\b\b\b\b\b\b\b\b\b\b\b\b\b\b\b\b\b\b\b\b\b\b\b\b\b\b\b\b\b\b\b\b\b\b\b\b\b\b\r18/18 [==============================] - 0s 24ms/step - loss: 190.6416 - val_loss: 1737.8960\n",
            "Epoch 17/100\n",
            " 1/18 [>.............................] - ETA: 0s - loss: 149.9072INFO:tensorflow:Assets written to: model_experiments/model_6/assets\n"
          ]
        },
        {
          "output_type": "stream",
          "name": "stderr",
          "text": [
            "INFO:tensorflow:Assets written to: model_experiments/model_6/assets\n"
          ]
        },
        {
          "output_type": "stream",
          "name": "stdout",
          "text": [
            "\b\b\b\b\b\b\b\b\b\b\b\b\b\b\b\b\b\b\b\b\b\b\b\b\b\b\b\b\b\b\b\b\b\b\b\b\b\b\b\b\b\b\b\b\b\b\b\b\b\b\b\b\b\b\b\b\b\b\b\b\b\b\b\b\b\r18/18 [==============================] - 0s 24ms/step - loss: 196.5366 - val_loss: 1695.9508\n",
            "Epoch 18/100\n",
            " 1/18 [>.............................] - ETA: 0s - loss: 181.2296INFO:tensorflow:Assets written to: model_experiments/model_6/assets\n"
          ]
        },
        {
          "output_type": "stream",
          "name": "stderr",
          "text": [
            "INFO:tensorflow:Assets written to: model_experiments/model_6/assets\n"
          ]
        },
        {
          "output_type": "stream",
          "name": "stdout",
          "text": [
            "\b\b\b\b\b\b\b\b\b\b\b\b\b\b\b\b\b\b\b\b\b\b\b\b\b\b\b\b\b\b\b\b\b\b\b\b\b\b\b\b\b\b\b\b\b\b\b\b\b\b\b\b\b\b\b\b\b\b\b\b\b\b\b\b\b\r18/18 [==============================] - 0s 25ms/step - loss: 178.4834 - val_loss: 1636.0988\n",
            "Epoch 19/100\n",
            " 1/18 [>.............................] - ETA: 0s - loss: 159.3227INFO:tensorflow:Assets written to: model_experiments/model_6/assets\n"
          ]
        },
        {
          "output_type": "stream",
          "name": "stderr",
          "text": [
            "INFO:tensorflow:Assets written to: model_experiments/model_6/assets\n"
          ]
        },
        {
          "output_type": "stream",
          "name": "stdout",
          "text": [
            "\b\b\b\b\b\b\b\b\b\b\b\b\b\b\b\b\b\b\b\b\b\b\b\b\b\b\b\b\b\b\b\b\b\b\b\b\b\b\b\b\b\b\b\b\b\b\b\b\b\b\b\b\b\b\b\b\b\b\b\b\b\b\b\b\b\r18/18 [==============================] - 0s 25ms/step - loss: 174.2377 - val_loss: 1600.8171\n",
            "Epoch 20/100\n",
            " 1/18 [>.............................] - ETA: 0s - loss: 122.8761INFO:tensorflow:Assets written to: model_experiments/model_6/assets\n"
          ]
        },
        {
          "output_type": "stream",
          "name": "stderr",
          "text": [
            "INFO:tensorflow:Assets written to: model_experiments/model_6/assets\n"
          ]
        },
        {
          "output_type": "stream",
          "name": "stdout",
          "text": [
            "\b\b\b\b\b\b\b\b\b\b\b\b\b\b\b\b\b\b\b\b\b\b\b\b\b\b\b\b\b\b\b\b\b\b\b\b\b\b\b\b\b\b\b\b\b\b\b\b\b\b\b\b\b\b\b\b\b\b\b\b\b\b\b\b\b\r18/18 [==============================] - 0s 24ms/step - loss: 170.5252 - val_loss: 1574.2811\n",
            "Epoch 21/100\n",
            "18/18 [==============================] - 0s 4ms/step - loss: 169.3884 - val_loss: 1675.7396\n",
            "Epoch 22/100\n",
            " 1/18 [>.............................] - ETA: 0s - loss: 198.6399INFO:tensorflow:Assets written to: model_experiments/model_6/assets\n"
          ]
        },
        {
          "output_type": "stream",
          "name": "stderr",
          "text": [
            "INFO:tensorflow:Assets written to: model_experiments/model_6/assets\n"
          ]
        },
        {
          "output_type": "stream",
          "name": "stdout",
          "text": [
            "\b\b\b\b\b\b\b\b\b\b\b\b\b\b\b\b\b\b\b\b\b\b\b\b\b\b\b\b\b\b\b\b\b\b\b\b\b\b\b\b\b\b\b\b\b\b\b\b\b\b\b\b\b\b\b\b\b\b\b\b\b\b\b\b\b\r18/18 [==============================] - 0s 24ms/step - loss: 171.9329 - val_loss: 1499.3170\n",
            "Epoch 23/100\n",
            " 1/18 [>.............................] - ETA: 0s - loss: 155.7073INFO:tensorflow:Assets written to: model_experiments/model_6/assets\n"
          ]
        },
        {
          "output_type": "stream",
          "name": "stderr",
          "text": [
            "INFO:tensorflow:Assets written to: model_experiments/model_6/assets\n"
          ]
        },
        {
          "output_type": "stream",
          "name": "stdout",
          "text": [
            "\b\b\b\b\b\b\b\b\b\b\b\b\b\b\b\b\b\b\b\b\b\b\b\b\b\b\b\b\b\b\b\b\b\b\b\b\b\b\b\b\b\b\b\b\b\b\b\b\b\b\b\b\b\b\b\b\b\b\b\b\b\b\b\b\b\r18/18 [==============================] - 0s 24ms/step - loss: 157.9524 - val_loss: 1446.7490\n",
            "Epoch 24/100\n",
            "18/18 [==============================] - 0s 5ms/step - loss: 156.4536 - val_loss: 1460.8536\n",
            "Epoch 25/100\n",
            " 1/18 [>.............................] - ETA: 0s - loss: 161.9687INFO:tensorflow:Assets written to: model_experiments/model_6/assets\n"
          ]
        },
        {
          "output_type": "stream",
          "name": "stderr",
          "text": [
            "INFO:tensorflow:Assets written to: model_experiments/model_6/assets\n"
          ]
        },
        {
          "output_type": "stream",
          "name": "stdout",
          "text": [
            "\b\b\b\b\b\b\b\b\b\b\b\b\b\b\b\b\b\b\b\b\b\b\b\b\b\b\b\b\b\b\b\b\b\b\b\b\b\b\b\b\b\b\b\b\b\b\b\b\b\b\b\b\b\b\b\b\b\b\b\b\b\b\b\b\b\r18/18 [==============================] - 0s 25ms/step - loss: 152.7616 - val_loss: 1427.4839\n",
            "Epoch 26/100\n",
            " 1/18 [>.............................] - ETA: 0s - loss: 182.2266INFO:tensorflow:Assets written to: model_experiments/model_6/assets\n"
          ]
        },
        {
          "output_type": "stream",
          "name": "stderr",
          "text": [
            "INFO:tensorflow:Assets written to: model_experiments/model_6/assets\n"
          ]
        },
        {
          "output_type": "stream",
          "name": "stdout",
          "text": [
            "\b\b\b\b\b\b\b\b\b\b\b\b\b\b\b\b\b\b\b\b\b\b\b\b\b\b\b\b\b\b\b\b\b\b\b\b\b\b\b\b\b\b\b\b\b\b\b\b\b\b\b\b\b\b\b\b\b\b\b\b\b\b\b\b\b\r18/18 [==============================] - 0s 24ms/step - loss: 152.9496 - val_loss: 1399.0985\n",
            "Epoch 27/100\n",
            "18/18 [==============================] - 0s 5ms/step - loss: 153.4611 - val_loss: 1446.0024\n",
            "Epoch 28/100\n",
            " 1/18 [>.............................] - ETA: 0s - loss: 192.2096INFO:tensorflow:Assets written to: model_experiments/model_6/assets\n"
          ]
        },
        {
          "output_type": "stream",
          "name": "stderr",
          "text": [
            "INFO:tensorflow:Assets written to: model_experiments/model_6/assets\n"
          ]
        },
        {
          "output_type": "stream",
          "name": "stdout",
          "text": [
            "\b\b\b\b\b\b\b\b\b\b\b\b\b\b\b\b\b\b\b\b\b\b\b\b\b\b\b\b\b\b\b\b\b\b\b\b\b\b\b\b\b\b\b\b\b\b\b\b\b\b\b\b\b\b\b\b\b\b\b\b\b\b\b\b\b\r18/18 [==============================] - 1s 44ms/step - loss: 152.4043 - val_loss: 1393.8367\n",
            "Epoch 29/100\n",
            " 1/18 [>.............................] - ETA: 0s - loss: 131.3032INFO:tensorflow:Assets written to: model_experiments/model_6/assets\n"
          ]
        },
        {
          "output_type": "stream",
          "name": "stderr",
          "text": [
            "INFO:tensorflow:Assets written to: model_experiments/model_6/assets\n"
          ]
        },
        {
          "output_type": "stream",
          "name": "stdout",
          "text": [
            "\b\b\b\b\b\b\b\b\b\b\b\b\b\b\b\b\b\b\b\b\b\b\b\b\b\b\b\b\b\b\b\b\b\b\b\b\b\b\b\b\b\b\b\b\b\b\b\b\b\b\b\b\b\b\b\b\b\b\b\b\b\b\b\b\b\r18/18 [==============================] - 0s 25ms/step - loss: 150.9406 - val_loss: 1369.2898\n",
            "Epoch 30/100\n",
            " 1/18 [>.............................] - ETA: 0s - loss: 128.6837INFO:tensorflow:Assets written to: model_experiments/model_6/assets\n"
          ]
        },
        {
          "output_type": "stream",
          "name": "stderr",
          "text": [
            "INFO:tensorflow:Assets written to: model_experiments/model_6/assets\n"
          ]
        },
        {
          "output_type": "stream",
          "name": "stdout",
          "text": [
            "\b\b\b\b\b\b\b\b\b\b\b\b\b\b\b\b\b\b\b\b\b\b\b\b\b\b\b\b\b\b\b\b\b\b\b\b\b\b\b\b\b\b\b\b\b\b\b\b\b\b\b\b\b\b\b\b\b\b\b\b\b\b\b\b\b\r18/18 [==============================] - 0s 24ms/step - loss: 146.6144 - val_loss: 1369.0404\n",
            "Epoch 31/100\n",
            " 1/18 [>.............................] - ETA: 0s - loss: 94.9579INFO:tensorflow:Assets written to: model_experiments/model_6/assets\n"
          ]
        },
        {
          "output_type": "stream",
          "name": "stderr",
          "text": [
            "INFO:tensorflow:Assets written to: model_experiments/model_6/assets\n"
          ]
        },
        {
          "output_type": "stream",
          "name": "stdout",
          "text": [
            "\b\b\b\b\b\b\b\b\b\b\b\b\b\b\b\b\b\b\b\b\b\b\b\b\b\b\b\b\b\b\b\b\b\b\b\b\b\b\b\b\b\b\b\b\b\b\b\b\b\b\b\b\b\b\b\b\b\b\b\b\b\b\b\b\r18/18 [==============================] - 0s 24ms/step - loss: 147.0955 - val_loss: 1352.0681\n",
            "Epoch 32/100\n",
            " 1/18 [>.............................] - ETA: 0s - loss: 145.8807INFO:tensorflow:Assets written to: model_experiments/model_6/assets\n"
          ]
        },
        {
          "output_type": "stream",
          "name": "stderr",
          "text": [
            "INFO:tensorflow:Assets written to: model_experiments/model_6/assets\n"
          ]
        },
        {
          "output_type": "stream",
          "name": "stdout",
          "text": [
            "\b\b\b\b\b\b\b\b\b\b\b\b\b\b\b\b\b\b\b\b\b\b\b\b\b\b\b\b\b\b\b\b\b\b\b\b\b\b\b\b\b\b\b\b\b\b\b\b\b\b\b\b\b\b\b\b\b\b\b\b\b\b\b\b\b\r18/18 [==============================] - 0s 24ms/step - loss: 144.9013 - val_loss: 1348.2583\n",
            "Epoch 33/100\n",
            "18/18 [==============================] - 0s 5ms/step - loss: 145.7190 - val_loss: 1357.5479\n",
            "Epoch 34/100\n",
            "18/18 [==============================] - 0s 4ms/step - loss: 148.5461 - val_loss: 1363.2855\n",
            "Epoch 35/100\n",
            " 1/18 [>.............................] - ETA: 0s - loss: 122.8622INFO:tensorflow:Assets written to: model_experiments/model_6/assets\n"
          ]
        },
        {
          "output_type": "stream",
          "name": "stderr",
          "text": [
            "INFO:tensorflow:Assets written to: model_experiments/model_6/assets\n"
          ]
        },
        {
          "output_type": "stream",
          "name": "stdout",
          "text": [
            "\b\b\b\b\b\b\b\b\b\b\b\b\b\b\b\b\b\b\b\b\b\b\b\b\b\b\b\b\b\b\b\b\b\b\b\b\b\b\b\b\b\b\b\b\b\b\b\b\b\b\b\b\b\b\b\b\b\b\b\b\b\b\b\b\b\r18/18 [==============================] - 0s 25ms/step - loss: 145.3613 - val_loss: 1328.6072\n",
            "Epoch 36/100\n",
            "18/18 [==============================] - 0s 5ms/step - loss: 143.5804 - val_loss: 1332.4579\n",
            "Epoch 37/100\n",
            " 1/18 [>.............................] - ETA: 0s - loss: 150.3712INFO:tensorflow:Assets written to: model_experiments/model_6/assets\n"
          ]
        },
        {
          "output_type": "stream",
          "name": "stderr",
          "text": [
            "INFO:tensorflow:Assets written to: model_experiments/model_6/assets\n"
          ]
        },
        {
          "output_type": "stream",
          "name": "stdout",
          "text": [
            "\b\b\b\b\b\b\b\b\b\b\b\b\b\b\b\b\b\b\b\b\b\b\b\b\b\b\b\b\b\b\b\b\b\b\b\b\b\b\b\b\b\b\b\b\b\b\b\b\b\b\b\b\b\b\b\b\b\b\b\b\b\b\b\b\b\r18/18 [==============================] - 0s 24ms/step - loss: 141.9246 - val_loss: 1322.8013\n",
            "Epoch 38/100\n",
            "18/18 [==============================] - 0s 4ms/step - loss: 140.6361 - val_loss: 1326.3245\n",
            "Epoch 39/100\n",
            "18/18 [==============================] - 0s 4ms/step - loss: 144.5198 - val_loss: 1411.5087\n",
            "Epoch 40/100\n",
            "18/18 [==============================] - 0s 4ms/step - loss: 147.7219 - val_loss: 1346.8262\n",
            "Epoch 41/100\n",
            "18/18 [==============================] - 0s 4ms/step - loss: 143.4592 - val_loss: 1425.6852\n",
            "Epoch 42/100\n",
            "18/18 [==============================] - 0s 4ms/step - loss: 151.4545 - val_loss: 1366.9971\n",
            "Epoch 43/100\n",
            "18/18 [==============================] - 0s 4ms/step - loss: 145.5223 - val_loss: 1325.9346\n",
            "Epoch 44/100\n",
            " 1/18 [>.............................] - ETA: 0s - loss: 165.0111INFO:tensorflow:Assets written to: model_experiments/model_6/assets\n"
          ]
        },
        {
          "output_type": "stream",
          "name": "stderr",
          "text": [
            "INFO:tensorflow:Assets written to: model_experiments/model_6/assets\n"
          ]
        },
        {
          "output_type": "stream",
          "name": "stdout",
          "text": [
            "\b\b\b\b\b\b\b\b\b\b\b\b\b\b\b\b\b\b\b\b\b\b\b\b\b\b\b\b\b\b\b\b\b\b\b\b\b\b\b\b\b\b\b\b\b\b\b\b\b\b\b\b\b\b\b\b\b\b\b\b\b\b\b\b\b\r18/18 [==============================] - 0s 25ms/step - loss: 144.7067 - val_loss: 1295.9330\n",
            "Epoch 45/100\n",
            "18/18 [==============================] - 0s 4ms/step - loss: 137.9846 - val_loss: 1314.9027\n",
            "Epoch 46/100\n",
            "18/18 [==============================] - 0s 4ms/step - loss: 137.1104 - val_loss: 1321.1595\n",
            "Epoch 47/100\n",
            "18/18 [==============================] - 0s 4ms/step - loss: 145.1701 - val_loss: 1369.3837\n",
            "Epoch 48/100\n",
            "18/18 [==============================] - 0s 4ms/step - loss: 153.3858 - val_loss: 1385.5747\n",
            "Epoch 49/100\n",
            " 1/18 [>.............................] - ETA: 0s - loss: 144.4686INFO:tensorflow:Assets written to: model_experiments/model_6/assets\n"
          ]
        },
        {
          "output_type": "stream",
          "name": "stderr",
          "text": [
            "INFO:tensorflow:Assets written to: model_experiments/model_6/assets\n"
          ]
        },
        {
          "output_type": "stream",
          "name": "stdout",
          "text": [
            "\b\b\b\b\b\b\b\b\b\b\b\b\b\b\b\b\b\b\b\b\b\b\b\b\b\b\b\b\b\b\b\b\b\b\b\b\b\b\b\b\b\b\b\b\b\b\b\b\b\b\b\b\b\b\b\b\b\b\b\b\b\b\b\b\b\r18/18 [==============================] - 0s 25ms/step - loss: 144.3545 - val_loss: 1291.5598\n",
            "Epoch 50/100\n",
            "18/18 [==============================] - 0s 4ms/step - loss: 140.6205 - val_loss: 1345.0605\n",
            "Epoch 51/100\n",
            "18/18 [==============================] - 0s 4ms/step - loss: 150.4033 - val_loss: 1575.7366\n",
            "Epoch 52/100\n",
            "18/18 [==============================] - 0s 4ms/step - loss: 140.5776 - val_loss: 1316.2300\n",
            "Epoch 53/100\n",
            " 1/18 [>.............................] - ETA: 0s - loss: 138.9860INFO:tensorflow:Assets written to: model_experiments/model_6/assets\n"
          ]
        },
        {
          "output_type": "stream",
          "name": "stderr",
          "text": [
            "INFO:tensorflow:Assets written to: model_experiments/model_6/assets\n"
          ]
        },
        {
          "output_type": "stream",
          "name": "stdout",
          "text": [
            "\b\b\b\b\b\b\b\b\b\b\b\b\b\b\b\b\b\b\b\b\b\b\b\b\b\b\b\b\b\b\b\b\b\b\b\b\b\b\b\b\b\b\b\b\b\b\b\b\b\b\b\b\b\b\b\b\b\b\b\b\b\b\b\b\b\r18/18 [==============================] - 0s 24ms/step - loss: 137.0717 - val_loss: 1288.2937\n",
            "Epoch 54/100\n",
            "18/18 [==============================] - 0s 4ms/step - loss: 136.6962 - val_loss: 1355.0405\n",
            "Epoch 55/100\n",
            " 1/18 [>.............................] - ETA: 0s - loss: 145.7659INFO:tensorflow:Assets written to: model_experiments/model_6/assets\n"
          ]
        },
        {
          "output_type": "stream",
          "name": "stderr",
          "text": [
            "INFO:tensorflow:Assets written to: model_experiments/model_6/assets\n"
          ]
        },
        {
          "output_type": "stream",
          "name": "stdout",
          "text": [
            "\b\b\b\b\b\b\b\b\b\b\b\b\b\b\b\b\b\b\b\b\b\b\b\b\b\b\b\b\b\b\b\b\b\b\b\b\b\b\b\b\b\b\b\b\b\b\b\b\b\b\b\b\b\b\b\b\b\b\b\b\b\b\b\b\b\r18/18 [==============================] - 0s 25ms/step - loss: 140.4077 - val_loss: 1274.2316\n",
            "Epoch 56/100\n",
            "18/18 [==============================] - 0s 4ms/step - loss: 137.8033 - val_loss: 1294.7142\n",
            "Epoch 57/100\n",
            "18/18 [==============================] - 0s 4ms/step - loss: 137.3008 - val_loss: 1322.7719\n",
            "Epoch 58/100\n",
            "18/18 [==============================] - 0s 4ms/step - loss: 139.6652 - val_loss: 1277.6881\n",
            "Epoch 59/100\n",
            " 1/18 [>.............................] - ETA: 0s - loss: 122.9572INFO:tensorflow:Assets written to: model_experiments/model_6/assets\n"
          ]
        },
        {
          "output_type": "stream",
          "name": "stderr",
          "text": [
            "INFO:tensorflow:Assets written to: model_experiments/model_6/assets\n"
          ]
        },
        {
          "output_type": "stream",
          "name": "stdout",
          "text": [
            "\b\b\b\b\b\b\b\b\b\b\b\b\b\b\b\b\b\b\b\b\b\b\b\b\b\b\b\b\b\b\b\b\b\b\b\b\b\b\b\b\b\b\b\b\b\b\b\b\b\b\b\b\b\b\b\b\b\b\b\b\b\b\b\b\b\r18/18 [==============================] - 0s 26ms/step - loss: 136.0802 - val_loss: 1270.6852\n",
            "Epoch 60/100\n",
            "18/18 [==============================] - 0s 4ms/step - loss: 139.4220 - val_loss: 1329.3508\n",
            "Epoch 61/100\n",
            "18/18 [==============================] - 0s 4ms/step - loss: 137.4690 - val_loss: 1458.7089\n",
            "Epoch 62/100\n",
            "18/18 [==============================] - 0s 4ms/step - loss: 141.3302 - val_loss: 1281.3214\n",
            "Epoch 63/100\n",
            "18/18 [==============================] - 0s 3ms/step - loss: 138.3835 - val_loss: 1280.2947\n",
            "Epoch 64/100\n",
            "18/18 [==============================] - 0s 5ms/step - loss: 138.5459 - val_loss: 1281.3361\n",
            "Epoch 65/100\n",
            "18/18 [==============================] - 0s 4ms/step - loss: 136.4041 - val_loss: 1273.1996\n",
            "Epoch 66/100\n",
            "18/18 [==============================] - 0s 4ms/step - loss: 138.2420 - val_loss: 1288.9354\n",
            "Epoch 67/100\n",
            "18/18 [==============================] - 0s 4ms/step - loss: 136.2428 - val_loss: 1320.0055\n",
            "Epoch 68/100\n",
            "18/18 [==============================] - 0s 4ms/step - loss: 140.1097 - val_loss: 1280.1116\n",
            "Epoch 69/100\n",
            " 1/18 [>.............................] - ETA: 0s - loss: 153.5333INFO:tensorflow:Assets written to: model_experiments/model_6/assets\n"
          ]
        },
        {
          "output_type": "stream",
          "name": "stderr",
          "text": [
            "INFO:tensorflow:Assets written to: model_experiments/model_6/assets\n"
          ]
        },
        {
          "output_type": "stream",
          "name": "stdout",
          "text": [
            "\b\b\b\b\b\b\b\b\b\b\b\b\b\b\b\b\b\b\b\b\b\b\b\b\b\b\b\b\b\b\b\b\b\b\b\b\b\b\b\b\b\b\b\b\b\b\b\b\b\b\b\b\b\b\b\b\b\b\b\b\b\b\b\b\b\r18/18 [==============================] - 0s 24ms/step - loss: 137.4942 - val_loss: 1262.3767\n",
            "Epoch 70/100\n",
            "18/18 [==============================] - 0s 4ms/step - loss: 136.5372 - val_loss: 1372.8420\n",
            "Epoch 71/100\n",
            "18/18 [==============================] - 0s 4ms/step - loss: 139.1927 - val_loss: 1304.9709\n",
            "Epoch 72/100\n",
            " 1/18 [>.............................] - ETA: 0s - loss: 108.5765INFO:tensorflow:Assets written to: model_experiments/model_6/assets\n"
          ]
        },
        {
          "output_type": "stream",
          "name": "stderr",
          "text": [
            "INFO:tensorflow:Assets written to: model_experiments/model_6/assets\n"
          ]
        },
        {
          "output_type": "stream",
          "name": "stdout",
          "text": [
            "\b\b\b\b\b\b\b\b\b\b\b\b\b\b\b\b\b\b\b\b\b\b\b\b\b\b\b\b\b\b\b\b\b\b\b\b\b\b\b\b\b\b\b\b\b\b\b\b\b\b\b\b\b\b\b\b\b\b\b\b\b\b\b\b\b\r18/18 [==============================] - 0s 24ms/step - loss: 136.7597 - val_loss: 1260.6406\n",
            "Epoch 73/100\n",
            "18/18 [==============================] - 0s 4ms/step - loss: 144.2542 - val_loss: 1273.4856\n",
            "Epoch 74/100\n",
            "18/18 [==============================] - 0s 4ms/step - loss: 138.6799 - val_loss: 1386.0674\n",
            "Epoch 75/100\n",
            " 1/18 [>.............................] - ETA: 0s - loss: 119.4414INFO:tensorflow:Assets written to: model_experiments/model_6/assets\n"
          ]
        },
        {
          "output_type": "stream",
          "name": "stderr",
          "text": [
            "INFO:tensorflow:Assets written to: model_experiments/model_6/assets\n"
          ]
        },
        {
          "output_type": "stream",
          "name": "stdout",
          "text": [
            "\b\b\b\b\b\b\b\b\b\b\b\b\b\b\b\b\b\b\b\b\b\b\b\b\b\b\b\b\b\b\b\b\b\b\b\b\b\b\b\b\b\b\b\b\b\b\b\b\b\b\b\b\b\b\b\b\b\b\b\b\b\b\b\b\b\r18/18 [==============================] - 0s 24ms/step - loss: 138.1987 - val_loss: 1259.4646\n",
            "Epoch 76/100\n",
            "18/18 [==============================] - 0s 4ms/step - loss: 139.9239 - val_loss: 1272.2762\n",
            "Epoch 77/100\n",
            "18/18 [==============================] - 0s 4ms/step - loss: 137.3628 - val_loss: 1268.3594\n",
            "Epoch 78/100\n",
            "18/18 [==============================] - 0s 4ms/step - loss: 136.5196 - val_loss: 1264.9353\n",
            "Epoch 79/100\n",
            "18/18 [==============================] - 0s 4ms/step - loss: 135.6756 - val_loss: 1263.1520\n",
            "Epoch 80/100\n",
            "18/18 [==============================] - 0s 4ms/step - loss: 133.7659 - val_loss: 1262.2207\n",
            "Epoch 81/100\n",
            "18/18 [==============================] - 0s 4ms/step - loss: 137.3204 - val_loss: 1422.3542\n",
            "Epoch 82/100\n",
            " 1/18 [>.............................] - ETA: 0s - loss: 151.6910INFO:tensorflow:Assets written to: model_experiments/model_6/assets\n"
          ]
        },
        {
          "output_type": "stream",
          "name": "stderr",
          "text": [
            "INFO:tensorflow:Assets written to: model_experiments/model_6/assets\n"
          ]
        },
        {
          "output_type": "stream",
          "name": "stdout",
          "text": [
            "\b\b\b\b\b\b\b\b\b\b\b\b\b\b\b\b\b\b\b\b\b\b\b\b\b\b\b\b\b\b\b\b\b\b\b\b\b\b\b\b\b\b\b\b\b\b\b\b\b\b\b\b\b\b\b\b\b\b\b\b\b\b\b\b\b\r18/18 [==============================] - 0s 25ms/step - loss: 137.5266 - val_loss: 1258.4553\n",
            "Epoch 83/100\n",
            "18/18 [==============================] - 0s 4ms/step - loss: 133.8627 - val_loss: 1333.0704\n",
            "Epoch 84/100\n",
            " 1/18 [>.............................] - ETA: 0s - loss: 157.1290INFO:tensorflow:Assets written to: model_experiments/model_6/assets\n"
          ]
        },
        {
          "output_type": "stream",
          "name": "stderr",
          "text": [
            "INFO:tensorflow:Assets written to: model_experiments/model_6/assets\n"
          ]
        },
        {
          "output_type": "stream",
          "name": "stdout",
          "text": [
            "\b\b\b\b\b\b\b\b\b\b\b\b\b\b\b\b\b\b\b\b\b\b\b\b\b\b\b\b\b\b\b\b\b\b\b\b\b\b\b\b\b\b\b\b\b\b\b\b\b\b\b\b\b\b\b\b\b\b\b\b\b\b\b\b\b\r18/18 [==============================] - 0s 25ms/step - loss: 136.6839 - val_loss: 1256.8369\n",
            "Epoch 85/100\n",
            "18/18 [==============================] - 0s 4ms/step - loss: 134.7097 - val_loss: 1301.3141\n",
            "Epoch 86/100\n",
            "18/18 [==============================] - 0s 4ms/step - loss: 138.6127 - val_loss: 1265.2576\n",
            "Epoch 87/100\n",
            " 1/18 [>.............................] - ETA: 0s - loss: 117.5391INFO:tensorflow:Assets written to: model_experiments/model_6/assets\n"
          ]
        },
        {
          "output_type": "stream",
          "name": "stderr",
          "text": [
            "INFO:tensorflow:Assets written to: model_experiments/model_6/assets\n"
          ]
        },
        {
          "output_type": "stream",
          "name": "stdout",
          "text": [
            "\b\b\b\b\b\b\b\b\b\b\b\b\b\b\b\b\b\b\b\b\b\b\b\b\b\b\b\b\b\b\b\b\b\b\b\b\b\b\b\b\b\b\b\b\b\b\b\b\b\b\b\b\b\b\b\b\b\b\b\b\b\b\b\b\b\r18/18 [==============================] - 0s 24ms/step - loss: 137.1439 - val_loss: 1256.6063\n",
            "Epoch 88/100\n",
            "18/18 [==============================] - 0s 5ms/step - loss: 136.2092 - val_loss: 1311.6729\n",
            "Epoch 89/100\n",
            "18/18 [==============================] - 0s 4ms/step - loss: 136.2586 - val_loss: 1299.8898\n",
            "Epoch 90/100\n",
            " 1/18 [>.............................] - ETA: 0s - loss: 138.9311INFO:tensorflow:Assets written to: model_experiments/model_6/assets\n"
          ]
        },
        {
          "output_type": "stream",
          "name": "stderr",
          "text": [
            "INFO:tensorflow:Assets written to: model_experiments/model_6/assets\n"
          ]
        },
        {
          "output_type": "stream",
          "name": "stdout",
          "text": [
            "\b\b\b\b\b\b\b\b\b\b\b\b\b\b\b\b\b\b\b\b\b\b\b\b\b\b\b\b\b\b\b\b\b\b\b\b\b\b\b\b\b\b\b\b\b\b\b\b\b\b\b\b\b\b\b\b\b\b\b\b\b\b\b\b\b\r18/18 [==============================] - 0s 23ms/step - loss: 136.2416 - val_loss: 1256.0295\n",
            "Epoch 91/100\n",
            "18/18 [==============================] - 0s 4ms/step - loss: 138.3881 - val_loss: 1274.4618\n",
            "Epoch 92/100\n",
            "18/18 [==============================] - 0s 4ms/step - loss: 135.3884 - val_loss: 1276.8370\n",
            "Epoch 93/100\n",
            "18/18 [==============================] - 0s 4ms/step - loss: 137.9111 - val_loss: 1268.4960\n",
            "Epoch 94/100\n",
            "18/18 [==============================] - 0s 4ms/step - loss: 134.7191 - val_loss: 1264.3337\n",
            "Epoch 95/100\n",
            " 1/18 [>.............................] - ETA: 0s - loss: 131.6050INFO:tensorflow:Assets written to: model_experiments/model_6/assets\n"
          ]
        },
        {
          "output_type": "stream",
          "name": "stderr",
          "text": [
            "INFO:tensorflow:Assets written to: model_experiments/model_6/assets\n"
          ]
        },
        {
          "output_type": "stream",
          "name": "stdout",
          "text": [
            "\b\b\b\b\b\b\b\b\b\b\b\b\b\b\b\b\b\b\b\b\b\b\b\b\b\b\b\b\b\b\b\b\b\b\b\b\b\b\b\b\b\b\b\b\b\b\b\b\b\b\b\b\b\b\b\b\b\b\b\b\b\b\b\b\b\r18/18 [==============================] - 0s 24ms/step - loss: 133.8561 - val_loss: 1255.2227\n",
            "Epoch 96/100\n",
            " 1/18 [>.............................] - ETA: 0s - loss: 124.2827INFO:tensorflow:Assets written to: model_experiments/model_6/assets\n"
          ]
        },
        {
          "output_type": "stream",
          "name": "stderr",
          "text": [
            "INFO:tensorflow:Assets written to: model_experiments/model_6/assets\n"
          ]
        },
        {
          "output_type": "stream",
          "name": "stdout",
          "text": [
            "\b\b\b\b\b\b\b\b\b\b\b\b\b\b\b\b\b\b\b\b\b\b\b\b\b\b\b\b\b\b\b\b\b\b\b\b\b\b\b\b\b\b\b\b\b\b\b\b\b\b\b\b\b\b\b\b\b\b\b\b\b\b\b\b\b\r18/18 [==============================] - 0s 23ms/step - loss: 135.2373 - val_loss: 1255.1241\n",
            "Epoch 97/100\n",
            "18/18 [==============================] - 0s 4ms/step - loss: 134.6032 - val_loss: 1258.7753\n",
            "Epoch 98/100\n",
            "18/18 [==============================] - 0s 4ms/step - loss: 140.5407 - val_loss: 1348.4888\n",
            "Epoch 99/100\n",
            " 1/18 [>.............................] - ETA: 0s - loss: 169.9837INFO:tensorflow:Assets written to: model_experiments/model_6/assets\n"
          ]
        },
        {
          "output_type": "stream",
          "name": "stderr",
          "text": [
            "INFO:tensorflow:Assets written to: model_experiments/model_6/assets\n"
          ]
        },
        {
          "output_type": "stream",
          "name": "stdout",
          "text": [
            "\b\b\b\b\b\b\b\b\b\b\b\b\b\b\b\b\b\b\b\b\b\b\b\b\b\b\b\b\b\b\b\b\b\b\b\b\b\b\b\b\b\b\b\b\b\b\b\b\b\b\b\b\b\b\b\b\b\b\b\b\b\b\b\b\b\r18/18 [==============================] - 0s 24ms/step - loss: 135.0137 - val_loss: 1254.2714\n",
            "Epoch 100/100\n",
            "18/18 [==============================] - 0s 4ms/step - loss: 133.3243 - val_loss: 1254.5513\n"
          ]
        },
        {
          "output_type": "execute_result",
          "data": {
            "text/plain": [
              "<keras.callbacks.History at 0x7fc57c624cd0>"
            ]
          },
          "metadata": {},
          "execution_count": 138
        }
      ]
    },
    {
      "cell_type": "code",
      "source": [
        "model_6 = tf.keras.models.load_model('/content/model_experiments/model_6')\n",
        "model_6.evaluate(X_test, y_test)"
      ],
      "metadata": {
        "colab": {
          "base_uri": "https://localhost:8080/"
        },
        "id": "PMtCrYyyzC-g",
        "outputId": "ba5fc976-1164-4ce0-ddb9-19733f8cf1ee"
      },
      "execution_count": null,
      "outputs": [
        {
          "output_type": "stream",
          "name": "stdout",
          "text": [
            "18/18 [==============================] - 0s 2ms/step - loss: 1254.2714\n"
          ]
        },
        {
          "output_type": "execute_result",
          "data": {
            "text/plain": [
              "1254.2713623046875"
            ]
          },
          "metadata": {},
          "execution_count": 139
        }
      ]
    },
    {
      "cell_type": "code",
      "source": [
        "model_6_preds = tf.squeeze(model_6.predict(X_test))\n",
        "model_6_preds[:10]"
      ],
      "metadata": {
        "colab": {
          "base_uri": "https://localhost:8080/"
        },
        "id": "1uDyCPrwzEjD",
        "outputId": "5a66752c-8aa7-469c-ab94-f8031562f6ba"
      },
      "execution_count": null,
      "outputs": [
        {
          "output_type": "execute_result",
          "data": {
            "text/plain": [
              "<tf.Tensor: shape=(10,), dtype=float32, numpy=\n",
              "array([19006.842, 19162.17 , 19507.822, 18802.883, 19023.557, 19376.092,\n",
              "       19177.12 , 18408.596, 18522.082, 18294.191], dtype=float32)>"
            ]
          },
          "metadata": {},
          "execution_count": 140
        }
      ]
    },
    {
      "cell_type": "code",
      "source": [
        "model_6_results = evaluate_pred(y_true = y_test, \n",
        "                                 y_pred = model_6_preds)\n",
        "model_6_results"
      ],
      "metadata": {
        "colab": {
          "base_uri": "https://localhost:8080/"
        },
        "id": "f5S08515zNk7",
        "outputId": "60a15586-02d9-407b-e32d-d745a26db30f"
      },
      "execution_count": null,
      "outputs": [
        {
          "output_type": "execute_result",
          "data": {
            "text/plain": [
              "{'mae': 1254.2714,\n",
              " 'mape': 2.986687,\n",
              " 'mase': 1.0060258,\n",
              " 'mse': 2952378.0,\n",
              " 'rmse': 1718.2485}"
            ]
          },
          "metadata": {},
          "execution_count": 141
        }
      ]
    },
    {
      "cell_type": "code",
      "source": [
        "model_1_results"
      ],
      "metadata": {
        "colab": {
          "base_uri": "https://localhost:8080/"
        },
        "id": "v8SKyfPfzhEi",
        "outputId": "9848cd42-1ef9-41f6-8649-2dee61b3293f"
      },
      "execution_count": null,
      "outputs": [
        {
          "output_type": "execute_result",
          "data": {
            "text/plain": [
              "{'mae': 1251.7927,\n",
              " 'mape': 2.9839077,\n",
              " 'mase': 1.0040377,\n",
              " 'mse': 2964340.0,\n",
              " 'rmse': 1721.7258}"
            ]
          },
          "metadata": {},
          "execution_count": 142
        }
      ]
    },
    {
      "cell_type": "markdown",
      "source": [
        "### Model 7: N-BEATS Algorithm"
      ],
      "metadata": {
        "id": "9ZoK-D200Vq0"
      }
    },
    {
      "cell_type": "code",
      "source": [
        "class "
      ],
      "metadata": {
        "id": "QMbcFvkW03Gv"
      },
      "execution_count": null,
      "outputs": []
    }
  ]
}